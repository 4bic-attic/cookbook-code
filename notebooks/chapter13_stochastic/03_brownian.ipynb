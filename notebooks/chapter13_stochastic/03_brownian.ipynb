{
  "metadata": {
    "signature": "sha256:0a8c03cbe7f461cac57d5143962241ef3d5928dd09ecb1053b6a0bbfe523fe50",
    "name": ""
  },
  "nbformat": 3,
  "nbformat_minor": 0,
  "worksheets": [
    {
      "metadata": {},
      "cells": [
        {
          "cell_type": "markdown",
          "source": [
            "> This is one of the 100 recipes of the [IPython Cookbook](http://ipython-books.github.io/), the definitive guide to high-performance scientific computing and data science in Python.\n"
          ],
          "metadata": {}
        },
        {
          "cell_type": "markdown",
          "source": [
            "# 13.3. Simulating a Brownian motion"
          ],
          "metadata": {}
        },
        {
          "cell_type": "markdown",
          "source": [
            "1. Let's import NumPy and matplotlib."
          ],
          "metadata": {}
        },
        {
          "collapsed": false,
          "metadata": {},
          "cell_type": "code",
          "outputs": [],
          "input": [
            "import numpy as np\n",
            "import matplotlib as mpl\n",
            "import matplotlib.pyplot as plt\n",
            "%matplotlib inline"
          ],
          "language": "python"
        },
        {
          "cell_type": "markdown",
          "source": [
            "2. We will simulate Brownian motions with 5000 time steps."
          ],
          "metadata": {}
        },
        {
          "collapsed": false,
          "metadata": {},
          "cell_type": "code",
          "outputs": [],
          "input": [
            "n = 5000"
          ],
          "language": "python"
        },
        {
          "cell_type": "markdown",
          "source": [
            "3. We simulate two independent one-dimensional Brownian processes to form a single two-dimensional Brownian process. The (discrete) Brownian motion makes independent Gaussian jumps at each time step (like a random walk). Therefore, we just have to compute the cumulative sum of independent normal random variables (one for each time step)."
          ],
          "metadata": {}
        },
        {
          "collapsed": false,
          "metadata": {},
          "cell_type": "code",
          "outputs": [],
          "input": [
            "x = np.cumsum(np.random.randn(n))\n",
            "y = np.cumsum(np.random.randn(n))"
          ],
          "language": "python"
        },
        {
          "cell_type": "markdown",
          "source": [
            "4. Now, to display the Brownian motion, we could just do `plot(x, y)`. However, the result would be monochromatic and a bit boring. We would like to use a gradient of color to illustrate the progression of the motion in time. Matplotlib forces us to use a small hack based on `scatter`. This function allows us to assign a different color to each point at the expense of dropping out line segments between points. To work around this issue, we interpolate linearly the process to give the illusion of a continuous line."
          ],
          "metadata": {}
        },
        {
          "collapsed": false,
          "metadata": {},
          "cell_type": "code",
          "outputs": [],
          "input": [
            "k = 10  # We add 10 intermediary points between two \n",
            "        # successive points.\n",
            "# We interpolate x and y.\n",
            "x2 = np.interp(np.arange(n*k), np.arange(n)*k, x)\n",
            "y2 = np.interp(np.arange(n*k), np.arange(n)*k, y)"
          ],
          "language": "python"
        },
        {
          "collapsed": false,
          "metadata": {},
          "cell_type": "code",
          "outputs": [],
          "input": [
            "# Now, we draw our points with a gradient of colors.\n",
            "plt.scatter(x2, y2, c=range(n*k), linewidths=0,\n",
            "            marker='o', s=3, cmap=plt.cm.jet,)\n",
            "plt.axis('equal');\n",
            "plt.xticks([]); plt.yticks([]);"
          ],
          "language": "python"
        },
        {
          "cell_type": "markdown",
          "source": [
            "> You'll find all the explanations, figures, references, and much more in the book (to be released later this summer).\n",
            "\n",
            "> [IPython Cookbook](http://ipython-books.github.io/), by [Cyrille Rossant](http://cyrille.rossant.net), Packt Publishing, 2014 (500 pages)."
          ],
          "metadata": {}
        }
      ]
    }
  ]
}
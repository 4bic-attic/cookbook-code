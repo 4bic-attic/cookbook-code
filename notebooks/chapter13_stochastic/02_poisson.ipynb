{
  "metadata": {
    "signature": "sha256:4997fe4383048a64ac542336bd818de0c682b07ab2d4bb9148cd896d36a100da",
    "name": ""
  },
  "nbformat": 3,
  "nbformat_minor": 0,
  "worksheets": [
    {
      "metadata": {},
      "cells": [
        {
          "cell_type": "markdown",
          "source": [
            "> This is one of the 100 recipes of the [IPython Cookbook](http://ipython-books.github.io/), the definitive guide to high-performance scientific computing and data science in Python.\n"
          ],
          "metadata": {}
        },
        {
          "cell_type": "markdown",
          "source": [
            "# 13.2. Simulating a Poisson process"
          ],
          "metadata": {}
        },
        {
          "cell_type": "markdown",
          "source": [
            "1. Let's import NumPy and matplotlib."
          ],
          "metadata": {}
        },
        {
          "collapsed": false,
          "metadata": {},
          "cell_type": "code",
          "outputs": [],
          "input": [
            "import numpy as np\n",
            "import matplotlib as mpl\n",
            "import matplotlib.pyplot as plt\n",
            "%matplotlib inline"
          ],
          "language": "python"
        },
        {
          "cell_type": "markdown",
          "source": [
            "2. Let's specify the `rate`: the average number of events per second."
          ],
          "metadata": {}
        },
        {
          "collapsed": false,
          "metadata": {},
          "cell_type": "code",
          "outputs": [],
          "input": [
            "rate = 20.  # average number of events per second"
          ],
          "language": "python"
        },
        {
          "cell_type": "markdown",
          "source": [
            "3. First, we will simulate the process using small time bins of 1 millisecond."
          ],
          "metadata": {}
        },
        {
          "collapsed": false,
          "metadata": {},
          "cell_type": "code",
          "outputs": [],
          "input": [
            "dt = .001  # time step\n",
            "n = int(1./dt)  # number of time steps"
          ],
          "language": "python"
        },
        {
          "cell_type": "markdown",
          "source": [
            "4. On every time bin, the probability that an event occurs is about $\\textrm{rate} \\times dt$, if $dt$ is small enough. Besides, since the Poisson process has no memory, the occurrence of an event is independent from one bin to another. Therefore, we can sample Bernoulli random variables in a vectorized way in order to simulate our process."
          ],
          "metadata": {}
        },
        {
          "collapsed": false,
          "metadata": {},
          "cell_type": "code",
          "outputs": [],
          "input": [
            "x = np.zeros(n)\n",
            "x[np.random.rand(n) <= rate*dt] = 1"
          ],
          "language": "python"
        },
        {
          "cell_type": "markdown",
          "source": [
            "The vector `x` contains zeros and ones on all time bins, *one* corresponding to the occurrence of an event."
          ],
          "metadata": {}
        },
        {
          "collapsed": false,
          "metadata": {},
          "cell_type": "code",
          "outputs": [],
          "input": [
            "x[:10]"
          ],
          "language": "python"
        },
        {
          "cell_type": "markdown",
          "source": [
            "5. Let's display the simulated process. We draw a vertical line on each non-zero time bin."
          ],
          "metadata": {}
        },
        {
          "collapsed": false,
          "metadata": {},
          "cell_type": "code",
          "outputs": [],
          "input": [
            "plt.figure(figsize=(6,2));\n",
            "plt.vlines(np.nonzero(x)[0], 0, 1);\n",
            "plt.xticks([]); plt.yticks([]);"
          ],
          "language": "python"
        },
        {
          "cell_type": "markdown",
          "source": [
            "6. Another way of representing that same object consists in considering the associated **counting process** $N(t)$: the number of events that have occurred until time $t$. Here, we can display this process using the function `cumsum`."
          ],
          "metadata": {}
        },
        {
          "collapsed": false,
          "metadata": {},
          "cell_type": "code",
          "outputs": [],
          "input": [
            "plt.figure(figsize=(6,4));\n",
            "plt.plot(np.linspace(0., 1., n), np.cumsum(x));\n",
            "plt.xlabel(\"Time\");\n",
            "plt.ylabel(\"Counting process\");"
          ],
          "language": "python"
        },
        {
          "cell_type": "markdown",
          "source": [
            "7. The other (and more efficient) way of simulating the homogeneous Poisson process is to use the property that the time interval between two successive events is an exponential random variable. Furthermore, these intervals are independent, so that we can sample these intervals in a vectorized way. Finally, we get our process by summing cumulatively all those intervals."
          ],
          "metadata": {}
        },
        {
          "collapsed": false,
          "metadata": {},
          "cell_type": "code",
          "outputs": [],
          "input": [
            "y = np.cumsum(np.random.exponential(1./rate, size=int(rate)))"
          ],
          "language": "python"
        },
        {
          "cell_type": "markdown",
          "source": [
            "The vector `y` contains another realization of our Poisson process, but the data structure is different. Every component of the vector is the time of an event."
          ],
          "metadata": {}
        },
        {
          "collapsed": false,
          "metadata": {},
          "cell_type": "code",
          "outputs": [],
          "input": [
            "y[:10]"
          ],
          "language": "python"
        },
        {
          "cell_type": "markdown",
          "source": [
            "8. Finally, let's display the simulated process."
          ],
          "metadata": {}
        },
        {
          "collapsed": false,
          "metadata": {},
          "cell_type": "code",
          "outputs": [],
          "input": [
            "plt.figure(figsize=(6,2));\n",
            "plt.vlines(y, 0, 1);\n",
            "plt.xticks([]); plt.yticks([]);"
          ],
          "language": "python"
        },
        {
          "cell_type": "markdown",
          "source": [
            "> You'll find all the explanations, figures, references, and much more in the book (to be released later this summer).\n",
            "\n",
            "> [IPython Cookbook](http://ipython-books.github.io/), by [Cyrille Rossant](http://cyrille.rossant.net), Packt Publishing, 2014 (500 pages)."
          ],
          "metadata": {}
        }
      ]
    }
  ]
}
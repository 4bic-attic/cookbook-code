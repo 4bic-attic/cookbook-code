{
  "metadata": {
    "signature": "sha256:62c77ec69dec23b511396c567b6bc88183a97a257ce0ca4dadb2591addb83adb",
    "name": ""
  },
  "nbformat": 3,
  "nbformat_minor": 0,
  "worksheets": [
    {
      "metadata": {},
      "cells": [
        {
          "cell_type": "markdown",
          "source": [
            "> This is one of the 100 recipes of the [IPython Cookbook](http://ipython-books.github.io/), the definitive guide to high-performance scientific computing and data science in Python."
          ],
          "metadata": {}
        },
        {
          "cell_type": "markdown",
          "source": [
            "# 1.5. Mastering IPython's configuration system"
          ],
          "metadata": {}
        },
        {
          "collapsed": false,
          "metadata": {},
          "cell_type": "code",
          "outputs": [],
          "input": [
            "%%writefile random_magics.py\n",
            "# NOTE: We create the `random_magics.py` file here so that \n",
            "# you don't have to do it...\n",
            "from IPython.utils.traitlets import Int, Float, Unicode, Bool\n",
            "from IPython.core.magic import (Magics, magics_class, line_magic)\n",
            "import numpy as np\n",
            "\n",
            "@magics_class\n",
            "class RandomMagics(Magics):\n",
            "    text = Unicode(u'{n}', config=True)\n",
            "    max = Int(1000, config=True)\n",
            "    seed = Int(0, config=True)\n",
            "    \n",
            "    def __init__(self, shell):\n",
            "        super(RandomMagics, self).__init__(shell)\n",
            "        self._rng = np.random.RandomState(self.seed or None)\n",
            "        \n",
            "    @line_magic\n",
            "    def random(self, line):\n",
            "        return self.text.format(n=self._rng.randint(self.max))\n",
            "    \n",
            "def load_ipython_extension(ipython):\n",
            "    ipython.register_magics(RandomMagics)"
          ],
          "language": "python"
        },
        {
          "cell_type": "markdown",
          "source": [
            "1. We create an IPython extension in a file `random_magics.py`. Let's start by importing a few objects:"
          ],
          "metadata": {}
        },
        {
          "cell_type": "raw",
          "source": [
            "from IPython.utils.traitlets import Int, Float, Unicode, Bool\n",
            "from IPython.core.magic import (Magics, magics_class, line_magic)\n",
            "import numpy as np"
          ],
          "metadata": {}
        },
        {
          "cell_type": "markdown",
          "source": [
            "2. We create a `RandomMagics` class deriving from `Magics`. This class contains a few configurable parameters."
          ],
          "metadata": {}
        },
        {
          "cell_type": "raw",
          "source": [
            "@magics_class\n",
            "class RandomMagics(Magics):\n",
            "    text = Unicode(u'{n}', config=True)\n",
            "    max = Int(1000, config=True)\n",
            "    seed = Int(0, config=True)"
          ],
          "metadata": {}
        },
        {
          "cell_type": "markdown",
          "source": [
            "3. We need to call the parent's constructor. Then, we initialize a random number generator with a seed."
          ],
          "metadata": {}
        },
        {
          "cell_type": "raw",
          "source": [
            "    def __init__(self, shell):\n",
            "        super(RandomMagics, self).__init__(shell)\n",
            "        self._rng = np.random.RandomState(self.seed or None)"
          ],
          "metadata": {}
        },
        {
          "cell_type": "markdown",
          "source": [
            "4. Then, we create a line magic `%random` that displays a random number."
          ],
          "metadata": {}
        },
        {
          "cell_type": "raw",
          "source": [
            "    @line_magic\n",
            "    def random(self, line):\n",
            "        return self.text.format(n=self._rng.randint(self.max))"
          ],
          "metadata": {}
        },
        {
          "cell_type": "markdown",
          "source": [
            "5. Finally, we register that magics when the extension is loaded."
          ],
          "metadata": {}
        },
        {
          "cell_type": "raw",
          "source": [
            "def load_ipython_extension(ipython):\n",
            "    ipython.register_magics(RandomMagics)"
          ],
          "metadata": {}
        },
        {
          "cell_type": "markdown",
          "source": [
            "6. Let's test our extension!"
          ],
          "metadata": {}
        },
        {
          "collapsed": false,
          "metadata": {},
          "cell_type": "code",
          "outputs": [],
          "input": [
            "%load_ext random_magics"
          ],
          "language": "python"
        },
        {
          "collapsed": false,
          "metadata": {},
          "cell_type": "code",
          "outputs": [],
          "input": [
            "%random"
          ],
          "language": "python"
        },
        {
          "collapsed": false,
          "metadata": {},
          "cell_type": "code",
          "outputs": [],
          "input": [
            "%random"
          ],
          "language": "python"
        },
        {
          "cell_type": "markdown",
          "source": [
            "7. Our magics command has a few configurable parameters. These variables are meant to be configured by the user in the IPython configuration file, or in the console when starting IPython. To configure these variables in the terminal, we can type in a system shell the following command:"
          ],
          "metadata": {}
        },
        {
          "cell_type": "raw",
          "source": [
            "ipython --profile=cookbook --RandomMagics.text='Your number is {n}.' --RandomMagics.max=10 --RandomMagics.seed=1"
          ],
          "metadata": {}
        },
        {
          "cell_type": "markdown",
          "source": [
            "In that session, we get the following behavior:"
          ],
          "metadata": {}
        },
        {
          "cell_type": "raw",
          "source": [
            "In [1]: %load_ext random_magics\n",
            "\n",
            "In [2]: %random\n",
            "Out[2]: u'Your number is 5.'\n",
            "\n",
            "In [3]: %random\n",
            "Out[3]: u'Your number is 8.'"
          ],
          "metadata": {}
        },
        {
          "cell_type": "markdown",
          "source": [
            "8. To configure the variables in the IPython configuration file, we have to open the file `~/.ipython/profile_cookbook/ipython_config.py` and add the following line:"
          ],
          "metadata": {}
        },
        {
          "cell_type": "raw",
          "source": [
            "c.RandomMagics.text = 'random {n}'"
          ],
          "metadata": {}
        },
        {
          "cell_type": "markdown",
          "source": [
            "After launching IPython, we get the following behavior:"
          ],
          "metadata": {}
        },
        {
          "collapsed": false,
          "metadata": {},
          "cell_type": "code",
          "outputs": [],
          "input": [
            "%random"
          ],
          "language": "python"
        },
        {
          "cell_type": "markdown",
          "source": [
            "> You'll find all the explanations, figures, references, and much more in the book (to be released later this summer).\n",
            "\n",
            "> [IPython Cookbook](http://ipython-books.github.io/), by [Cyrille Rossant](http://cyrille.rossant.net), Packt Publishing, 2014 (500 pages)."
          ],
          "metadata": {}
        }
      ]
    }
  ]
}
{
  "metadata": {
    "signature": "sha256:c1be480eb545f8c0b2a50692d2b01b0e7c2b06522f3a2653cb377665ff7df7aa",
    "name": ""
  },
  "nbformat": 3,
  "nbformat_minor": 0,
  "worksheets": [
    {
      "metadata": {},
      "cells": [
        {
          "cell_type": "markdown",
          "source": [
            "> This is one of the 100 recipes of the [IPython Cookbook](http://ipython-books.github.io/), the definitive guide to high-performance scientific computing and data science in Python.\n"
          ],
          "metadata": {}
        },
        {
          "cell_type": "markdown",
          "source": [
            "# 6.2. Creating beautiful statistical plots with seaborn"
          ],
          "metadata": {}
        },
        {
          "cell_type": "markdown",
          "source": [
            "1. Let's import NumPy, matplotlib, and seaborn."
          ],
          "metadata": {}
        },
        {
          "collapsed": false,
          "metadata": {},
          "cell_type": "code",
          "outputs": [],
          "input": [
            "import numpy as np\n",
            "import pandas as pd\n",
            "import matplotlib.pyplot as plt\n",
            "import seaborn as sns\n",
            "%matplotlib inline"
          ],
          "language": "python"
        },
        {
          "cell_type": "markdown",
          "source": [
            "2. We generate a random dataset (following this example on seaborn's website: http://nbviewer.ipython.org/github/mwaskom/seaborn/blob/master/examples/linear_models.ipynb)"
          ],
          "metadata": {}
        },
        {
          "collapsed": false,
          "metadata": {},
          "cell_type": "code",
          "outputs": [],
          "input": [
            "x1 = np.random.randn(80)\n",
            "x2 = np.random.randn(80)\n",
            "x3 = x1 * x2\n",
            "y1 = .5 + 2 * x1 - x2 + 2.5 * x3 + 3 * np.random.randn(80)\n",
            "y2 = .5 + 2 * x1 - x2 + 2.5 * np.random.randn(80)\n",
            "y3 = y2 + np.random.randn(80)"
          ],
          "language": "python"
        },
        {
          "cell_type": "markdown",
          "source": [
            "2. Seaborn implements many easy-to-use statistical plotting functions. For example, here is how to create a violin plot (showing the distribution of several sets of points)."
          ],
          "metadata": {}
        },
        {
          "collapsed": false,
          "metadata": {},
          "cell_type": "code",
          "outputs": [],
          "input": [
            "plt.figure(figsize=(4,3));\n",
            "sns.violinplot([x1,x2, x3]);"
          ],
          "language": "python"
        },
        {
          "cell_type": "markdown",
          "source": [
            "4. Seaborn also implement all-in-one statistical visualization functions. For example, one can use a single function (`regplot`) to perform *and* display a linear regression between two variables."
          ],
          "metadata": {}
        },
        {
          "collapsed": false,
          "metadata": {},
          "cell_type": "code",
          "outputs": [],
          "input": [
            "plt.figure(figsize=(4,3));\n",
            "sns.regplot(x2, y2);"
          ],
          "language": "python"
        },
        {
          "cell_type": "markdown",
          "source": [
            "5. Seaborn has built-in support for Pandas data structures. Here, we display the pairwise correlations between all variables defined in a `DataFrame`."
          ],
          "metadata": {}
        },
        {
          "collapsed": false,
          "metadata": {},
          "cell_type": "code",
          "outputs": [],
          "input": [
            "df = pd.DataFrame(dict(x1=x1, x2=x2, x3=x3, \n",
            "                       y1=y1, y2=y2, y3=y3))\n",
            "sns.corrplot(df);"
          ],
          "language": "python"
        },
        {
          "cell_type": "markdown",
          "source": [
            "> You'll find all the explanations, figures, references, and much more in the book (to be released later this summer).\n",
            "\n",
            "> [IPython Cookbook](http://ipython-books.github.io/), by [Cyrille Rossant](http://cyrille.rossant.net), Packt Publishing, 2014 (500 pages)."
          ],
          "metadata": {}
        }
      ]
    }
  ]
}
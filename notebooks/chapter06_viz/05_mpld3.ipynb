{
 "nbformat": 3, 
 "nbformat_minor": 0, 
 "worksheets": [
  {
   "cells": [
    {
     "source": [
      "> This is one of the 100 recipes of the [IPython Cookbook](http://ipython-books.github.io/), the definitive guide to high-performance scientific computing and data science in Python.\n"
     ], 
     "cell_type": "markdown", 
     "metadata": []
    }, 
    {
     "source": [
      "# 6.5. Converting matplotlib figures to d3.js visualizations with mpld3"
     ], 
     "cell_type": "markdown", 
     "metadata": {}
    }, 
    {
     "source": [
      "The mpld3 library allows you to write plots with matplotlib as usual, and export them to d3.js easily. It works particularly well in the IPython notebook. By calling a single function at the beginning of a notebook, you get a d3.js interactive figure every time you create a matplotlib figure. Besides, these interactive figures are completely standalone, in that they do not need a Python kernel. The notebooks you share will always contain your interactive figures, even when they are visualized statically (for example on nbviewer)."
     ], 
     "cell_type": "markdown", 
     "metadata": {}
    }, 
    {
     "source": [
      "## Getting started"
     ], 
     "cell_type": "markdown", 
     "metadata": {}
    }, 
    {
     "source": [
      "To install the lightweight mpld3 library, you can just do `pip install mpld3`. See also the [main website](http://mpld3.github.io)."
     ], 
     "cell_type": "markdown", 
     "metadata": {}
    }, 
    {
     "source": [
      "## How to do it..."
     ], 
     "cell_type": "markdown", 
     "metadata": {}
    }, 
    {
     "source": [
      "1. First, we load NumPy and matplotlib as usual."
     ], 
     "cell_type": "markdown", 
     "metadata": {}
    }, 
    {
     "cell_type": "code", 
     "language": "python", 
     "outputs": [], 
     "collapsed": false, 
     "input": [
      "import numpy as np\n", 
      "import matplotlib.pyplot as plt\n", 
      "%matplotlib inline"
     ], 
     "metadata": {}
    }, 
    {
     "source": [
      "2. Then, we enable the mpld3 figures in the notebook with a single function call."
     ], 
     "cell_type": "markdown", 
     "metadata": {}
    }, 
    {
     "cell_type": "code", 
     "language": "python", 
     "outputs": [], 
     "collapsed": false, 
     "input": [
      "from mpld3 import enable_notebook\n", 
      "enable_notebook()"
     ], 
     "metadata": {}
    }, 
    {
     "source": [
      "3. Now, let's create a scatter plot with matplotlib."
     ], 
     "cell_type": "markdown", 
     "metadata": {}
    }, 
    {
     "cell_type": "code", 
     "language": "python", 
     "outputs": [], 
     "collapsed": false, 
     "input": [
      "X = np.random.normal(0, 1, (100, 3))\n", 
      "color = np.random.random(100)\n", 
      "size = 500 * np.random.random(100)\n", 
      "plt.figure(figsize=(6,4))\n", 
      "plt.scatter(X[:,0], X[:,1], c=color,\n", 
      "            s=size, alpha=0.5, linewidths=2)\n", 
      "plt.grid(color='lightgray', alpha=0.7)"
     ], 
     "metadata": {}
    }, 
    {
     "source": [
      "The matplotlib figure is rendered with d3.js instead of the standard matplotlib backend. In particular, the figure is interactive (pan and zoom)."
     ], 
     "cell_type": "markdown", 
     "metadata": {}
    }, 
    {
     "source": [
      "4. Now, we create a more complex example with multiple subplots representing different 2D projections of a 3D dataset. We use the `sharex` and `sharey` keywords in matplotlib's `subplots` function to automatically bind the x and y axes of the different figures. Panning and zooming in any of the subplots automatically updates all the other subplots."
     ], 
     "cell_type": "markdown", 
     "metadata": {}
    }, 
    {
     "cell_type": "code", 
     "language": "python", 
     "outputs": [], 
     "collapsed": false, 
     "input": [
      "fig, ax = plt.subplots(3, 3, figsize=(6, 6),\n", 
      "                       sharex=True, sharey=True)\n", 
      "fig.subplots_adjust(hspace=0.3)\n", 
      "X[::2,2] += 3\n", 
      "for i in range(3):\n", 
      "    for j in range(3):\n", 
      "        ax[i,j].scatter(X[:,i], X[:,j], c=color,\n", 
      "            s=.1*size, alpha=0.5, linewidths=2)\n", 
      "        ax[i,j].grid(color='lightgray', alpha=0.7)"
     ], 
     "metadata": {}
    }, 
    {
     "source": [
      "This use case is perfectly handled by mpld3: the d3.js subplots are also dynamically linked together."
     ], 
     "cell_type": "markdown", 
     "metadata": {}
    }, 
    {
     "source": [
      "> You'll find all the explanations, figures, references, and much more in the book (to be released later this summer).\n\n> [IPython Cookbook](http://ipython-books.github.io/), by [Cyrille Rossant](http://cyrille.rossant.net), Packt Publishing, 2014 (400 pages). [Get a 50% discount by pre-ordering now](http://www.packtpub.com/ipython-interactive-computing-and-visualization-cookbook/book) with the code `PICVCEB` (time-limited offer)!\n"
     ], 
     "cell_type": "markdown", 
     "metadata": {}
    }
   ], 
   "metadata": {}
  }
 ], 
 "metadata": {
  "name": "", 
  "signature": "sha256:9a8cb332c3181f687e7a43a4ab13375d978d56b0a2c48e2592b4fd985ed656c3"
 }
}
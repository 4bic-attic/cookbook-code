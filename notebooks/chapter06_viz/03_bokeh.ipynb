{
  "metadata": {
    "signature": "sha256:0f5e6b9d089bf8dbe38e3159ade307fe1743171ed6aa17b1ae0c588fab091915",
    "name": ""
  },
  "nbformat": 3,
  "nbformat_minor": 0,
  "worksheets": [
    {
      "metadata": {},
      "cells": [
        {
          "cell_type": "markdown",
          "source": [
            "> This is one of the 100 recipes of the [IPython Cookbook](http://ipython-books.github.io/), the definitive guide to high-performance scientific computing and data science in Python.\n"
          ],
          "metadata": {}
        },
        {
          "cell_type": "markdown",
          "source": [
            "# 6.3. Creating interactive Web visualizations with Bokeh"
          ],
          "metadata": {}
        },
        {
          "cell_type": "markdown",
          "source": [
            "1. Let's import NumPy and Bokeh. We need to call `output_notebook` in order to tell Bokeh to render plots in the IPython notebook."
          ],
          "metadata": {}
        },
        {
          "collapsed": false,
          "metadata": {},
          "cell_type": "code",
          "outputs": [],
          "input": [
            "import numpy as np\n",
            "import bokeh.plotting as bkh\n",
            "bkh.output_notebook()"
          ],
          "language": "python"
        },
        {
          "cell_type": "markdown",
          "source": [
            "2. Let's create some random data."
          ],
          "metadata": {}
        },
        {
          "collapsed": false,
          "metadata": {},
          "cell_type": "code",
          "outputs": [],
          "input": [
            "x = np.linspace(0., 1., 100)\n",
            "y = np.cumsum(np.random.randn(100))"
          ],
          "language": "python"
        },
        {
          "cell_type": "markdown",
          "source": [
            "3. Let's draw a curve."
          ],
          "metadata": {}
        },
        {
          "collapsed": false,
          "metadata": {},
          "cell_type": "code",
          "outputs": [],
          "input": [
            "bkh.line(x, y, line_width=5)\n",
            "bkh.show()"
          ],
          "language": "python"
        },
        {
          "cell_type": "markdown",
          "source": [
            "An interactive plot is rendered in the notebook. We can pan and zoom by clicking on the buttons above the plot."
          ],
          "metadata": {}
        },
        {
          "cell_type": "markdown",
          "source": [
            "4. Let's move to another example. We first load a sample dataset (*Iris flowers*). We also generate some colors based on the species of the flowers."
          ],
          "metadata": {}
        },
        {
          "collapsed": false,
          "metadata": {},
          "cell_type": "code",
          "outputs": [],
          "input": [
            "from bokeh.sampledata.iris import flowers\n",
            "colormap = {'setosa': 'red',\n",
            "            'versicolor': 'green',\n",
            "            'virginica': 'blue'}\n",
            "flowers['color'] = flowers['species'].map(lambda x: colormap[x])"
          ],
          "language": "python"
        },
        {
          "cell_type": "markdown",
          "source": [
            "5. Now, we render an interactive scatter plot."
          ],
          "metadata": {}
        },
        {
          "collapsed": false,
          "metadata": {},
          "cell_type": "code",
          "outputs": [],
          "input": [
            "bkh.scatter(flowers[\"petal_length\"], \n",
            "            flowers[\"petal_width\"],\n",
            "            color=flowers[\"color\"], \n",
            "            fill_alpha=0.25, size=10,)\n",
            "bkh.show()"
          ],
          "language": "python"
        },
        {
          "cell_type": "markdown",
          "source": [
            "> You'll find all the explanations, figures, references, and much more in the book (to be released later this summer).\n",
            "\n",
            "> [IPython Cookbook](http://ipython-books.github.io/), by [Cyrille Rossant](http://cyrille.rossant.net), Packt Publishing, 2014 (500 pages)."
          ],
          "metadata": {}
        }
      ]
    }
  ]
}
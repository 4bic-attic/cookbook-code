{
 "metadata": {
  "name": "",
  "signature": "sha256:49b72eecae7ce1a47c8ce471800c7f024254c9975094327444bd9d9fbd77820d"
 },
 "nbformat": 3,
 "nbformat_minor": 0,
 "worksheets": [
  {
   "cells": [
    {
     "cell_type": "markdown",
     "metadata": [],
     "source": [
      "> This is one of the 100 recipes of the [IPython Cookbook](http://ipython-books.github.io/), the definitive guide to high-performance scientific computing and data science in Python.\n"
     ]
    },
    {
     "cell_type": "markdown",
     "metadata": {},
     "source": [
      "# 6.3. Creating interactive Web visualizations with Bokeh"
     ]
    },
    {
     "cell_type": "markdown",
     "metadata": {},
     "source": [
      "Bokeh is a platform for rich interactive visualizations in the browser, developed by Continuum Analytics. Plots are designed in Python, and are entirely rendered in the browser. In this recipe, we show how to create and render interactive Bokeh figures in the IPython notebook."
     ]
    },
    {
     "cell_type": "markdown",
     "metadata": {},
     "source": [
      "## Getting started"
     ]
    },
    {
     "cell_type": "markdown",
     "metadata": {},
     "source": [
      "You need to install Bokeh following the instructions on the [official website](http://bokeh.pydata.org). In principle you could just type `pip install bokeh` in a terminal. On Windows, you can also download the binary installer on [Chris Gohlke's website](http://www.lfd.uci.edu/~gohlke/pythonlibs/#bokeh)."
     ]
    },
    {
     "cell_type": "markdown",
     "metadata": {},
     "source": [
      "## How to do it..."
     ]
    },
    {
     "cell_type": "markdown",
     "metadata": {},
     "source": [
      "1. Let's import NumPy and Bokeh. We need to call `output_notebook` in order to tell Bokeh to render plots in the IPython notebook."
     ]
    },
    {
     "cell_type": "code",
     "collapsed": false,
     "input": [
      "import numpy as np\n",
      "import bokeh.plotting as bkh\n",
      "bkh.output_notebook()"
     ],
     "language": "python",
     "metadata": {},
     "outputs": []
    },
    {
     "cell_type": "markdown",
     "metadata": {},
     "source": [
      "2. Let's create some random data."
     ]
    },
    {
     "cell_type": "code",
     "collapsed": false,
     "input": [
      "x = np.linspace(0., 1., 100)\n",
      "y = np.cumsum(np.random.randn(100))"
     ],
     "language": "python",
     "metadata": {},
     "outputs": []
    },
    {
     "cell_type": "markdown",
     "metadata": {},
     "source": [
      "3. Let's draw a curve."
     ]
    },
    {
     "cell_type": "code",
     "collapsed": false,
     "input": [
      "bkh.line(x, y, line_width=5)\n",
      "bkh.show()"
     ],
     "language": "python",
     "metadata": {},
     "outputs": []
    },
    {
     "cell_type": "markdown",
     "metadata": {},
     "source": [
      "An interactive plot is rendered in the notebook. We can pan and zoom by clicking on the buttons above the plot."
     ]
    },
    {
     "cell_type": "markdown",
     "metadata": {},
     "source": [
      "4. Let's move to another example. We first load a sample dataset (*Iris flowers*). We also generate some colors based on the species of the flowers."
     ]
    },
    {
     "cell_type": "code",
     "collapsed": false,
     "input": [
      "from bokeh.sampledata.iris import flowers\n",
      "colormap = {'setosa': 'red',\n",
      "            'versicolor': 'green',\n",
      "            'virginica': 'blue'}\n",
      "flowers['color'] = flowers['species'].map(lambda x: colormap[x])"
     ],
     "language": "python",
     "metadata": {},
     "outputs": []
    },
    {
     "cell_type": "markdown",
     "metadata": {},
     "source": [
      "5. Now, we render an interactive scatter plot."
     ]
    },
    {
     "cell_type": "code",
     "collapsed": false,
     "input": [
      "bkh.scatter(flowers[\"petal_length\"], \n",
      "            flowers[\"petal_width\"],\n",
      "            color=flowers[\"color\"], \n",
      "            fill_alpha=0.25, size=10,)\n",
      "bkh.show()"
     ],
     "language": "python",
     "metadata": {},
     "outputs": []
    },
    {
     "cell_type": "markdown",
     "metadata": {},
     "source": [
      "> You'll find all the explanations, figures, references, and much more in the book (to be released later this summer).\n",
      "\n",
      "> [IPython Cookbook](http://ipython-books.github.io/), by [Cyrille Rossant](http://cyrille.rossant.net), Packt Publishing, 2014 (400 pages). [Get a 50% discount by pre-ordering now](http://www.packtpub.com/ipython-interactive-computing-and-visualization-cookbook/book) with the code `PICVCEB` (time-limited offer)!\n"
     ]
    }
   ],
   "metadata": {}
  }
 ]
}
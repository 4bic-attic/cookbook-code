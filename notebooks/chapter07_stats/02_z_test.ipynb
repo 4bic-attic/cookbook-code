{
 "nbformat": 3, 
 "nbformat_minor": 0, 
 "worksheets": [
  {
   "cells": [
    {
     "source": [
      "> This is one of the 100 recipes of the [IPython Cookbook](http://ipython-books.github.io/), the definitive guide to high-performance scientific computing and data science in Python.\n"
     ], 
     "cell_type": "markdown", 
     "metadata": []
    }, 
    {
     "source": [
      "# 7.2. Getting started with statistical hypothesis testing: a simple z-test"
     ], 
     "cell_type": "markdown", 
     "metadata": {
      "word_id": "4818_07_ztest"
     }
    }, 
    {
     "source": [
      "**Statistical hypothesis testing** allows us to make decisions in presence of incomplete data. By definition, those decisions are uncertain. Statisticians have developed rigorous methods to evaluate this risk. Nevertheless, a part of subjectivity is always involved in the decision-making process. The theory is just a tool that helps making decisions in an uncertain world."
     ], 
     "cell_type": "markdown", 
     "metadata": {}
    }, 
    {
     "source": [
      "Here, we introduce the most basic ideas behind statistical hypothesis testing, following an extremely simple example: coin tossing. More precisely, we will show how to perform a **z-test**, and we will briefly explain the mathematical ideas underlying it. This kind of method (also called *frequentist method*), although widely used in science, is subject to many criticisms. We will show later a more modern approach based on Bayesian theory. It is very helpful to understand both approaches, because many studies and publications still follow frequentist methods."
     ], 
     "cell_type": "markdown", 
     "metadata": {}
    }, 
    {
     "source": [
      "Basic knowledge of probability theory is beneficial for this recipe (random variables, distributions, expectancy, variance, central limit theorem...). You can find references on the book's website."
     ], 
     "cell_type": "markdown", 
     "metadata": {}
    }, 
    {
     "source": [
      "## Getting started"
     ], 
     "cell_type": "markdown", 
     "metadata": {}
    }, 
    {
     "source": [
      "Many frequentist methods for hypothesis testing roughly involve the following steps:\n", 
      "\n", 
      "1. Writing down the hypotheses, notably the **null hypothesis** which is the *opposite* of the hypothesis you want to prove (with a certain degree of confidence).\n", 
      "2. Computing a **test statistics**, a mathematical formula depending on the test type, the model, the hypotheses, and the data.\n", 
      "3. Using the computed value to accept the hypothesis, reject it, or fail to conclude.\n", 
      "  \n", 
      "Here, we flip a coin $n$ times and we observe $h$ heads. We want to know whether the coin is fair (null hypothesis). This example is extremely simple yet quite good for pedagogical purposes. Besides, it is the basis of many more complex methods."
     ], 
     "cell_type": "markdown", 
     "metadata": {}
    }, 
    {
     "source": [
      "## How to do it..."
     ], 
     "cell_type": "markdown", 
     "metadata": {}
    }, 
    {
     "source": [
      "We denote by $\\mathcal B(q)$ the Bernoulli distribution with unknown parameter $q$ (http://en.wikipedia.org/wiki/Bernoulli_distribution). A Bernoulli variable:\n", 
      "\n", 
      "* is 0 (tail) with probability $1-q$,\n", 
      "* is 1 (head) with probability $q$."
     ], 
     "cell_type": "markdown", 
     "metadata": {}
    }, 
    {
     "source": [
      "1. Let's suppose that, after $n=100$ flips, we get $h=61$ heads. We choose a significance level of 0.05: is the coin fair or not? Our null hypothesis is: *the coin is fair* ($q = 1/2$)."
     ], 
     "cell_type": "markdown", 
     "metadata": {}
    }, 
    {
     "cell_type": "code", 
     "language": "python", 
     "outputs": [], 
     "collapsed": false, 
     "input": [
      "import numpy as np\n", 
      "import scipy.stats as st\n", 
      "import scipy.special as sp"
     ], 
     "metadata": {}
    }, 
    {
     "cell_type": "code", 
     "language": "python", 
     "outputs": [], 
     "collapsed": false, 
     "input": [
      "n = 100  # number of coin flips\n", 
      "h = 61  # number of heads\n", 
      "q = .5  # null-hypothesis of fair coin"
     ], 
     "metadata": {}
    }, 
    {
     "source": [
      "2. Let's compute the **z-score**, which is defined by the following formula (`xbar` is the estimated average of the distribution). We will explain this formula in the next section *How it works...*"
     ], 
     "cell_type": "markdown", 
     "metadata": {}
    }, 
    {
     "cell_type": "code", 
     "language": "python", 
     "outputs": [], 
     "collapsed": false, 
     "input": [
      "xbar = float(h)/n\n", 
      "z = (xbar - q) * np.sqrt(n / (q*(1-q))); z"
     ], 
     "metadata": {}
    }, 
    {
     "source": [
      "3. Now, from the z-score, we can compute the p-value as follows:"
     ], 
     "cell_type": "markdown", 
     "metadata": {}
    }, 
    {
     "cell_type": "code", 
     "language": "python", 
     "outputs": [], 
     "collapsed": false, 
     "input": [
      "pval = 2 * (1 - st.norm.cdf(z)); pval"
     ], 
     "metadata": {}
    }, 
    {
     "source": [
      "4. This p-value is less than 0.05, so we reject the null hypothesis and conclude that *the coin is probably not fair*."
     ], 
     "cell_type": "markdown", 
     "metadata": {}
    }, 
    {
     "source": [
      "> You'll find all the explanations, figures, references, and much more in the book (to be released later this summer).\n\n> [IPython Cookbook](http://ipython-books.github.io/), by [Cyrille Rossant](http://cyrille.rossant.net), Packt Publishing, 2014 (400 pages). [Get a 50% discount by pre-ordering now](http://www.packtpub.com/ipython-interactive-computing-and-visualization-cookbook/book) with the code `PICVCEB` (time-limited offer)!\n"
     ], 
     "cell_type": "markdown", 
     "metadata": {}
    }
   ], 
   "metadata": {}
  }
 ], 
 "metadata": {
  "name": "", 
  "signature": "sha256:f6e065b16c2496a67fb269a043d623ba12c1fb857036a038ba683d9cd7b5e2ee"
 }
}
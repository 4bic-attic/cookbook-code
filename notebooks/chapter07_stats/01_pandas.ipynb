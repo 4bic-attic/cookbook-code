{
  "metadata": {
    "signature": "sha256:a82fd0e949d37d3c5a945c41bb16654dfd3ad39b406f019ecbb61908987f5c6e",
    "name": ""
  },
  "nbformat": 3,
  "nbformat_minor": 0,
  "worksheets": [
    {
      "metadata": {},
      "cells": [
        {
          "cell_type": "markdown",
          "source": [
            "> This is one of the 100 recipes of the [IPython Cookbook](http://ipython-books.github.io/), the definitive guide to high-performance scientific computing and data science in Python.\n"
          ],
          "metadata": {}
        },
        {
          "cell_type": "markdown",
          "source": [
            "# 7.1. Explore a dataset with Pandas and matplotlib"
          ],
          "metadata": {
            "word_id": "4818_07_explore"
          }
        },
        {
          "cell_type": "markdown",
          "source": [
            "1. We import NumPy, Pandas and matplotlib."
          ],
          "metadata": {}
        },
        {
          "collapsed": false,
          "metadata": {},
          "cell_type": "code",
          "outputs": [],
          "input": [
            "from datetime import datetime\n",
            "import numpy as np\n",
            "import pandas as pd\n",
            "import matplotlib.pyplot as plt\n",
            "%matplotlib inline"
          ],
          "language": "python"
        },
        {
          "cell_type": "markdown",
          "source": [
            "2. The dataset is a CSV file, i.e. a text file with comma-separated values. Pandas lets us load this file with a single function."
          ],
          "metadata": {}
        },
        {
          "collapsed": false,
          "metadata": {},
          "cell_type": "code",
          "outputs": [],
          "input": [
            "player = 'Roger Federer'\n",
            "filename = \"data/{name}.csv\".format(\n",
            "              name=player.replace(' ', '-'))\n",
            "df = pd.read_csv(filename)"
          ],
          "language": "python"
        },
        {
          "cell_type": "markdown",
          "source": [
            "The loaded data is a `DataFrame`, a 2D tabular data where each row is an observation, and each column is a variable. We can have a first look at this dataset by just displaying it in the IPython notebook."
          ],
          "metadata": {}
        },
        {
          "collapsed": false,
          "metadata": {
            "strip_output": [
              5,
              2
            ]
          },
          "cell_type": "code",
          "outputs": [],
          "input": [
            "df"
          ],
          "language": "python"
        },
        {
          "cell_type": "markdown",
          "source": [
            "3. There are many columns. Each row corresponds to a match played by Roger Federer. Let's add a boolean variable indicating whether he has won the match or not. The `tail` method displays the last rows of the column."
          ],
          "metadata": {}
        },
        {
          "collapsed": false,
          "metadata": {},
          "cell_type": "code",
          "outputs": [],
          "input": [
            "df['win'] = df['winner'] == player\n",
            "df['win'].tail()"
          ],
          "language": "python"
        },
        {
          "cell_type": "markdown",
          "source": [
            "4. `df['win']` is a `Series` object: it is very similar to a NumPy array, except that each value has an index (here, the match index). This object has a few standard statistical functions. For example, let's look at the proportion of matches won."
          ],
          "metadata": {}
        },
        {
          "collapsed": false,
          "metadata": {},
          "cell_type": "code",
          "outputs": [],
          "input": [
            "print(\"{player} has won {vic:.0f}% of his ATP matches.\".format(\n",
            "      player=player, vic=100*df['win'].mean()))"
          ],
          "language": "python"
        },
        {
          "cell_type": "markdown",
          "source": [
            "5. Now, we are going to look at the evolution of some variables across time. The `start date` field contains the start date of the tournament as a string. We can convert the type to a date type using the `pd.to_datetime` function."
          ],
          "metadata": {}
        },
        {
          "collapsed": false,
          "metadata": {},
          "cell_type": "code",
          "outputs": [],
          "input": [
            "date = pd.to_datetime(df['start date'])"
          ],
          "language": "python"
        },
        {
          "cell_type": "markdown",
          "source": [
            "6. We are now looking at the proportion of double faults in each match (taking into account that there are logically more double faults in longer matches!). This number is an indicator of the player's state of mind, his level of self-confidence, his willingness to take risks while serving, and other parameters."
          ],
          "metadata": {}
        },
        {
          "collapsed": false,
          "metadata": {},
          "cell_type": "code",
          "outputs": [],
          "input": [
            "df['dblfaults'] = (df['player1 double faults'] / \n",
            "                   df['player1 total points total'])"
          ],
          "language": "python"
        },
        {
          "cell_type": "markdown",
          "source": [
            "7. We can use the `head` and `tail` methods to take a look at the beginning and the end of the column, and `describe` to get summary statistics. In particular, let's note that some rows have `NaN` values (i.e. the number of double faults is not available for all matches)."
          ],
          "metadata": {}
        },
        {
          "collapsed": false,
          "metadata": {},
          "cell_type": "code",
          "outputs": [],
          "input": [
            "df['dblfaults'].tail()"
          ],
          "language": "python"
        },
        {
          "collapsed": false,
          "metadata": {},
          "cell_type": "code",
          "outputs": [],
          "input": [
            "df['dblfaults'].describe()"
          ],
          "language": "python"
        },
        {
          "cell_type": "markdown",
          "source": [
            "8. A very powerful feature in Pandas is `groupby`. This function allows us to group together rows that have the same value in a particular column. Then, we can aggregate this group-by object to compute statistics in each group. For instance, here is how we can get the proportion of wins as a function of the tournament's surface."
          ],
          "metadata": {}
        },
        {
          "collapsed": false,
          "metadata": {},
          "cell_type": "code",
          "outputs": [],
          "input": [
            "df.groupby('surface')['win'].mean()"
          ],
          "language": "python"
        },
        {
          "cell_type": "markdown",
          "source": [
            "9. Now, we are going to display the proportion of double faults as a function of the tournament date, as well as the yearly average. To do this, we also use `groupby`."
          ],
          "metadata": {}
        },
        {
          "collapsed": false,
          "metadata": {},
          "cell_type": "code",
          "outputs": [],
          "input": [
            "gb = df.groupby('year')"
          ],
          "language": "python"
        },
        {
          "cell_type": "markdown",
          "source": [
            "10. `gb` is a `GroupBy` instance. It is similar to a `DataFrame`, but there are multiple rows per group (all matches played in each year). We can aggregate those rows using the `mean` operation. We use matplotlib's `plot_date` function because the x-axis contains dates."
          ],
          "metadata": {}
        },
        {
          "collapsed": false,
          "metadata": {},
          "cell_type": "code",
          "outputs": [],
          "input": [
            "plt.figure(figsize=(8, 4))\n",
            "plt.plot_date(date.astype(datetime), df['dblfaults'], alpha=.25, lw=0);\n",
            "plt.plot_date(gb['start date'].max(), \n",
            "              gb['dblfaults'].mean(), '-', lw=3);\n",
            "plt.xlabel('Year');\n",
            "plt.ylabel('Proportion of double faults per match.');"
          ],
          "language": "python"
        },
        {
          "cell_type": "markdown",
          "source": [
            "> You'll find all the explanations, figures, references, and much more in the book (to be released later this summer).\n",
            "\n",
            "> [IPython Cookbook](http://ipython-books.github.io/), by [Cyrille Rossant](http://cyrille.rossant.net), Packt Publishing, 2014 (500 pages)."
          ],
          "metadata": {}
        }
      ]
    }
  ]
}
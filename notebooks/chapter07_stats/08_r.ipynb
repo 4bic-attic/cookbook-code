{
  "metadata": {
    "signature": "sha256:d151a495c02528838130e07397e225d8d16445a1dc66b30b2f8f15dbd25006a2",
    "name": ""
  },
  "nbformat": 3,
  "nbformat_minor": 0,
  "worksheets": [
    {
      "metadata": {},
      "cells": [
        {
          "cell_type": "markdown",
          "source": [
            "> This is one of the 100 recipes of the [IPython Cookbook](http://ipython-books.github.io/), the definitive guide to high-performance scientific computing and data science in Python.\n"
          ],
          "metadata": {}
        },
        {
          "cell_type": "markdown",
          "source": [
            "# 7.8. Analyzing data with R in the IPython notebook"
          ],
          "metadata": {
            "word_id": "4818_07_r"
          }
        },
        {
          "cell_type": "markdown",
          "source": [
            "**UPDATE (2014-09-29)**: in newer versions of rpy2, the IPython extension with the R magic is `rpy2.ipython` and not `rmagic` as stated in the book."
          ],
          "metadata": {}
        },
        {
          "cell_type": "markdown",
          "source": [
            "There are three steps to use R from IPython. First, install R and rpy2 (R to Python interface). Of course, you only need to do this step once. Then, to use R in an IPython session, you need to load the IPython R extension."
          ],
          "metadata": {}
        },
        {
          "cell_type": "markdown",
          "source": [
            "1. Download and install R for your operating system. (http://cran.r-project.org/mirrors.html)\n",
            "2. Download and install [rpy2](http://rpy.sourceforge.net/rpy2.html). Windows users can try to download an *experimental* installer on Chris Gohlke's webpage. (http://www.lfd.uci.edu/~gohlke/pythonlibs/#rpy2)\n",
            "3. Then, to be able to execute R code in an IPython notebook, execute `%load_ext rpy2.ipython` first."
          ],
          "metadata": {}
        },
        {
          "cell_type": "markdown",
          "source": [
            "rpy2 does not appear to work well on Windows. We recommend using Linux or Mac OS X."
          ],
          "metadata": {
            "style": "tip"
          }
        },
        {
          "cell_type": "markdown",
          "source": [
            "To install R and rpy2 on Ubuntu, run the following commands:\n",
            "\n",
            "    sudo apt-get install r-base-dev\n",
            "    sudo apt-get install python-rpy2"
          ],
          "metadata": {}
        },
        {
          "cell_type": "markdown",
          "source": [
            "Here, we will use the following workflow. First, we load data from Python. Then, we use R to design and fit a model, and to make some plots in the IPython notebook. We could also load data from R, or design and fit a statistical model with Python's statsmodels package, etc. In particular, the analysis we do here could be done entirely in Python, without resorting to the R language. This recipe just shows the basics of R and illustrates how R and Python can play together within an IPython session."
          ],
          "metadata": {}
        },
        {
          "cell_type": "markdown",
          "source": [
            "1. Let's load the *longley* dataset with the statsmodels package. This dataset contains a few economic indicators in the US from 1947 to 1962. We also load the IPython R extension."
          ],
          "metadata": {}
        },
        {
          "collapsed": false,
          "metadata": {},
          "cell_type": "code",
          "outputs": [],
          "input": [
            "import statsmodels.datasets as sd"
          ],
          "language": "python"
        },
        {
          "collapsed": false,
          "metadata": {},
          "cell_type": "code",
          "outputs": [],
          "input": [
            "data = sd.longley.load_pandas()"
          ],
          "language": "python"
        },
        {
          "collapsed": false,
          "metadata": {},
          "cell_type": "code",
          "outputs": [],
          "input": [
            "%load_ext rpy2.ipython"
          ],
          "language": "python"
        },
        {
          "cell_type": "markdown",
          "source": [
            "2. We define `x` and `y` as the exogeneous (independent) and endogenous (dependent) variables, respectively. The endogenous variable quantifies the total employment in the country."
          ],
          "metadata": {}
        },
        {
          "collapsed": false,
          "metadata": {},
          "cell_type": "code",
          "outputs": [],
          "input": [
            "data.endog_name, data.exog_name"
          ],
          "language": "python"
        },
        {
          "collapsed": false,
          "metadata": {},
          "cell_type": "code",
          "outputs": [],
          "input": [
            "y, x = data.endog, data.exog"
          ],
          "language": "python"
        },
        {
          "cell_type": "markdown",
          "source": [
            "3. For convenience, we add the endogenous variable to the `x` DataFrame."
          ],
          "metadata": {}
        },
        {
          "collapsed": false,
          "metadata": {},
          "cell_type": "code",
          "outputs": [],
          "input": [
            "x['TOTEMP'] = y"
          ],
          "language": "python"
        },
        {
          "collapsed": false,
          "metadata": {
            "strip_output": [
              4,
              3
            ]
          },
          "cell_type": "code",
          "outputs": [],
          "input": [
            "x"
          ],
          "language": "python"
        },
        {
          "cell_type": "markdown",
          "source": [
            "4. We will make a simple plot in R. First, we need to pass Python variables to R. We can use the `%R -i var1,var2` magic. Then, we can call R's `plot` command."
          ],
          "metadata": {}
        },
        {
          "collapsed": false,
          "metadata": {},
          "cell_type": "code",
          "outputs": [],
          "input": [
            "gnp = x['GNP']\n",
            "totemp = x['TOTEMP']"
          ],
          "language": "python"
        },
        {
          "collapsed": false,
          "metadata": {},
          "cell_type": "code",
          "outputs": [],
          "input": [
            "%R"
          ],
          "language": "python"
        },
        {
          "collapsed": false,
          "metadata": {},
          "cell_type": "code",
          "outputs": [],
          "input": [
            "%R -i totemp,gnp plot(gnp, totemp)"
          ],
          "language": "python"
        },
        {
          "cell_type": "markdown",
          "source": [
            "5. Now that the data has been passed to R, we can fit a linear model to the data. The `lm` function lets us perform a linear regression. Here, we want to express `totemp` (total employement) as a function of the country's GNP."
          ],
          "metadata": {}
        },
        {
          "collapsed": false,
          "metadata": {},
          "cell_type": "code",
          "outputs": [],
          "input": [
            "%%R\n",
            "fit <- lm(totemp ~ gnp);  # Least-squares regression\n",
            "print(fit$coefficients)  # Display the coefficients of the fit.\n",
            "plot(gnp, totemp)  # Plot the data points.\n",
            "abline(fit)  # And plot the linear regression."
          ],
          "language": "python"
        },
        {
          "cell_type": "markdown",
          "source": [
            "> You'll find all the explanations, figures, references, and much more in the book (to be released later this summer).\n",
            "\n",
            "> [IPython Cookbook](http://ipython-books.github.io/), by [Cyrille Rossant](http://cyrille.rossant.net), Packt Publishing, 2014 (500 pages)."
          ],
          "metadata": {}
        }
      ]
    }
  ]
}
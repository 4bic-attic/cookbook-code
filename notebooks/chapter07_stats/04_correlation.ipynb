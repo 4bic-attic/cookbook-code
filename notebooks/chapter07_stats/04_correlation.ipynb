{
 "nbformat": 3, 
 "nbformat_minor": 0, 
 "worksheets": [
  {
   "cells": [
    {
     "source": [
      "> This is one of the 100 recipes of the [IPython Cookbook](http://ipython-books.github.io/), the definitive guide to high-performance scientific computing and data science in Python.\n"
     ], 
     "cell_type": "markdown", 
     "metadata": []
    }, 
    {
     "source": [
      "# 7.4. Estimating the correlation between two variables with a contingency table and a chi-square test\n", 
      "\n", 
      "Whereas univariate methods deal with single-variable observations, multivariate methods consider observations with several features. Multivariate datasets allow the study of *relations* between variables, more particularly their correlation or lack thereof (i.e. independence).\n", 
      "\n", 
      "In this recipe, we take a look at the same tennis dataset as in the first recipe of this chapter. Following a frequentist approach, we estimate the correlation between the number of aces and the proportion of points won by a tennis player."
     ], 
     "cell_type": "markdown", 
     "metadata": {
      "word_id": "4818_07_correlation"
     }
    }, 
    {
     "source": [
      "## Getting started\n", 
      "\n", 
      "Download the *Tennis* dataset on the book's website, and extract it in the current directory. (http://ipython-books.github.io)"
     ], 
     "cell_type": "markdown", 
     "metadata": {}
    }, 
    {
     "source": [
      "## How to do it..."
     ], 
     "cell_type": "markdown", 
     "metadata": {}
    }, 
    {
     "source": [
      "1. Let's import NumPy, Pandas, SciPy.stats and matplotlib."
     ], 
     "cell_type": "markdown", 
     "metadata": {}
    }, 
    {
     "cell_type": "code", 
     "language": "python", 
     "outputs": [], 
     "collapsed": false, 
     "input": [
      "import numpy as np\n", 
      "import pandas as pd\n", 
      "import scipy.stats as st\n", 
      "import matplotlib.pyplot as plt\n", 
      "%matplotlib inline"
     ], 
     "metadata": {}
    }, 
    {
     "source": [
      "2. We load the dataset corresponding to Roger Federer."
     ], 
     "cell_type": "markdown", 
     "metadata": {}
    }, 
    {
     "cell_type": "code", 
     "language": "python", 
     "outputs": [], 
     "collapsed": false, 
     "input": [
      "player = 'Roger Federer'\n", 
      "filename = \"data/{name}.csv\".format(\n", 
      "              name=player.replace(' ', '-'))\n", 
      "df = pd.read_csv(filename)"
     ], 
     "metadata": {}
    }, 
    {
     "source": [
      "3. This is a particularly rich dataset. Each row corresponds to a match, and the 70 columns contain many player characteristics during that match."
     ], 
     "cell_type": "markdown", 
     "metadata": {}
    }, 
    {
     "cell_type": "code", 
     "language": "python", 
     "outputs": [], 
     "collapsed": false, 
     "input": [
      "print(\"Number of columns: \" + str(len(df.columns)))\n", 
      "df[df.columns[:4]].tail()"
     ], 
     "metadata": {}
    }, 
    {
     "source": [
      "4. Here, we only look at the proportion of points won, and the (relative) number of aces."
     ], 
     "cell_type": "markdown", 
     "metadata": {}
    }, 
    {
     "cell_type": "code", 
     "language": "python", 
     "outputs": [], 
     "collapsed": false, 
     "input": [
      "npoints = df['player1 total points total']\n", 
      "points = df['player1 total points won'] / npoints\n", 
      "aces = df['player1 aces'] / npoints"
     ], 
     "metadata": {}
    }, 
    {
     "cell_type": "code", 
     "language": "python", 
     "outputs": [], 
     "collapsed": false, 
     "input": [
      "plt.plot(points, aces, '.');\n", 
      "plt.xlabel('% of points won');\n", 
      "plt.ylabel('% of aces');\n", 
      "plt.xlim(0., 1.);\n", 
      "plt.ylim(0.);"
     ], 
     "metadata": {}
    }, 
    {
     "source": [
      "If the two variables were independent, we would not see any trend in the cloud of points. On this plot, it is a bit hard to tell. Let's use Pandas to compute a coefficient correlation."
     ], 
     "cell_type": "markdown", 
     "metadata": {}
    }, 
    {
     "source": [
      "5. We create a new `DataFrame` with only those fields (note that this step is not compulsory). We also remove the rows where one field is missing."
     ], 
     "cell_type": "markdown", 
     "metadata": {}
    }, 
    {
     "cell_type": "code", 
     "language": "python", 
     "outputs": [], 
     "collapsed": false, 
     "input": [
      "df_bis = pd.DataFrame({'points': points,\n", 
      "                       'aces': aces}).dropna()\n", 
      "df_bis.tail()"
     ], 
     "metadata": {}
    }, 
    {
     "source": [
      "6. Let's compute the Pearson's correlation coefficient between the relative number of aces in the match, and the number of points won."
     ], 
     "cell_type": "markdown", 
     "metadata": {}
    }, 
    {
     "cell_type": "code", 
     "language": "python", 
     "outputs": [], 
     "collapsed": false, 
     "input": [
      "df_bis.corr()"
     ], 
     "metadata": {}
    }, 
    {
     "source": [
      "A correlation of ~0.26 seems to indicate a positive correlation between our two variables. In other words, the more aces in a match, the more points the player wins (which is not very surprising!)."
     ], 
     "cell_type": "markdown", 
     "metadata": {}
    }, 
    {
     "source": [
      "7. Now, to determine if there is a *statistically significant* correlation between the variables, we use a **chi-square test of independence of variables in a contingency table**.\n", 
      "8. First, we need to get binary variables (here, whether the number of points won or the number of aces is greater than their medians). For example, the value corresponding to the number of aces is True if the player is doing more aces than usual in a match, and False otherwise."
     ], 
     "cell_type": "markdown", 
     "metadata": {}
    }, 
    {
     "cell_type": "code", 
     "language": "python", 
     "outputs": [], 
     "collapsed": false, 
     "input": [
      "df_bis['result'] = df_bis['points'] > df_bis['points'].median()\n", 
      "df_bis['manyaces'] = df_bis['aces'] > df_bis['aces'].median()"
     ], 
     "metadata": {}
    }, 
    {
     "source": [
      "9. Then, we create a **contingency table**, with the frequencies of all four possibilities (True & True, True & False, etc.)."
     ], 
     "cell_type": "markdown", 
     "metadata": {}
    }, 
    {
     "cell_type": "code", 
     "language": "python", 
     "outputs": [], 
     "collapsed": false, 
     "input": [
      "pd.crosstab(df_bis['result'], df_bis['manyaces'])"
     ], 
     "metadata": {}
    }, 
    {
     "source": [
      "10. Finally, we compute the chi-square test statistic and the associated p-value. The null hypothesis is the independence between the variables. SciPy implements this test in `scipy.stats.chi2_contingency`, which returns several objects. We're interested in the second result, which is the p-value."
     ], 
     "cell_type": "markdown", 
     "metadata": {}
    }, 
    {
     "cell_type": "code", 
     "language": "python", 
     "outputs": [], 
     "collapsed": false, 
     "input": [
      "st.chi2_contingency(_)"
     ], 
     "metadata": {}
    }, 
    {
     "source": [
      "The p-value is much lower than 0.05, so we reject the null hypothesis and conclude that there is a statistically significant correlation between the proportion of aces and the proportion of points won in a match (for Roger Federer!)."
     ], 
     "cell_type": "markdown", 
     "metadata": {}
    }, 
    {
     "source": [
      "As always, correlation does not imply causation... Here, it is likely that external factors influence both variables. (http://en.wikipedia.org/wiki/Correlation_does_not_imply_causation)"
     ], 
     "cell_type": "markdown", 
     "metadata": {
      "style": "tip"
     }
    }, 
    {
     "source": [
      "> You'll find all the explanations, figures, references, and much more in the book (to be released later this summer).\n\n> [IPython Cookbook](http://ipython-books.github.io/), by [Cyrille Rossant](http://cyrille.rossant.net), Packt Publishing, 2014 (400 pages). [Get a 50% discount by pre-ordering now](http://www.packtpub.com/ipython-interactive-computing-and-visualization-cookbook/book) with the code `PICVCEB` (time-limited offer)!\n"
     ], 
     "cell_type": "markdown", 
     "metadata": {}
    }
   ], 
   "metadata": {}
  }
 ], 
 "metadata": {
  "name": "", 
  "signature": "sha256:e1a6d89249eeca4a9970d92a1555d5d95dbd84388564024b81d087b020db8a38"
 }
}
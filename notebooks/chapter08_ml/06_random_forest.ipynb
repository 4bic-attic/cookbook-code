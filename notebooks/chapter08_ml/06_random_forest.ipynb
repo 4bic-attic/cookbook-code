{
  "metadata": {
    "signature": "sha256:49c74c6ca67c7bc21f04878223356e4eb392badda5c9032d1472dcb4f61f0177",
    "name": ""
  },
  "nbformat": 3,
  "nbformat_minor": 0,
  "worksheets": [
    {
      "metadata": {},
      "cells": [
        {
          "cell_type": "markdown",
          "source": [
            "> This is one of the 100 recipes of the [IPython Cookbook](http://ipython-books.github.io/), the definitive guide to high-performance scientific computing and data science in Python."
          ],
          "metadata": {}
        },
        {
          "cell_type": "markdown",
          "source": [
            "# 8.6. Using a random forest to select important features for regression"
          ],
          "metadata": {}
        },
        {
          "cell_type": "markdown",
          "source": [
            "**Decisions trees** are frequently used to represent workflows or algorithms. They also form a method for non-parametric supervised learning. A tree mapping observations to target values is learnt on a training set and gives the outcomes of new observations."
          ],
          "metadata": {}
        },
        {
          "cell_type": "markdown",
          "source": [
            "**Random forests** are ensembles of decision trees. Multiple decision trees are trained and aggregated to form a model that is more performant than any of the individual trees. This general idea is the purpose of **ensemble learning**.\n",
            "\n",
            "There are many types of ensemble methods. Random forests are an instance of **bootstrap aggregating**, also called **bagging**, where models are trained on randomly drawn subsets of the training set."
          ],
          "metadata": {}
        },
        {
          "cell_type": "markdown",
          "source": [
            "Random forests yield information about the importance of each feature for the classification or regression task. In this recipe, we use this method to find the features the most influent on the price of Boston houses. We will use a classic dataset containing a range of diverse indicators about the houses' neighborhoud."
          ],
          "metadata": {}
        },
        {
          "cell_type": "markdown",
          "source": [
            "## How to do it..."
          ],
          "metadata": {}
        },
        {
          "cell_type": "markdown",
          "source": [
            "1. We import the packages."
          ],
          "metadata": {}
        },
        {
          "collapsed": false,
          "metadata": {},
          "cell_type": "code",
          "outputs": [],
          "input": [
            "import numpy as np\n",
            "import sklearn as sk\n",
            "import sklearn.datasets as skd\n",
            "import sklearn.ensemble as ske\n",
            "import matplotlib.pyplot as plt\n",
            "import matplotlib as mpl\n",
            "%matplotlib inline\n",
            "mpl.rcParams['figure.dpi'] = mpl.rcParams['savefig.dpi'] = 300"
          ],
          "language": "python"
        },
        {
          "cell_type": "markdown",
          "source": [
            "2. We load the Boston dataset."
          ],
          "metadata": {}
        },
        {
          "collapsed": false,
          "metadata": {},
          "cell_type": "code",
          "outputs": [],
          "input": [
            "data = skd.load_boston()"
          ],
          "language": "python"
        },
        {
          "cell_type": "markdown",
          "source": [
            "The details of this dataset can be found in `data['DESCR']`. Here is the description of all features:"
          ],
          "metadata": {}
        },
        {
          "cell_type": "markdown",
          "source": [
            "- *CRIM*,     per capita crime rate by town\n",
            "- *ZN*,       proportion of residential land zoned for lots over 25,000 sq.ft.\n",
            "- *INDUS*,    proportion of non-retail business acres per town\n",
            "- *CHAS*,     Charles River dummy variable (= 1 if tract bounds river; 0 otherwise)\n",
            "- *NOX*,      nitric oxides concentration (parts per 10 million)\n",
            "- *RM*,       average number of rooms per dwelling\n",
            "- *AGE*,      proportion of owner-occupied units built prior to 1940\n",
            "- *DIS*,      weighted distances to five Boston employment centres\n",
            "- *RAD*,      index of accessibility to radial highways\n",
            "- *TAX*,      full-value property-tax rate per USD 10,000\n",
            "- *PTRATIO*,  pupil-teacher ratio by town\n",
            "- *B*,        $1000(Bk - 0.63)^2$ where Bk is the proportion of blacks by town\n",
            "- *LSTAT*,    % lower status of the population\n",
            "- *MEDV*,     Median value of owner-occupied homes in $1000's"
          ],
          "metadata": {}
        },
        {
          "cell_type": "markdown",
          "source": [
            "The target value is `MEDV`."
          ],
          "metadata": {}
        },
        {
          "cell_type": "markdown",
          "source": [
            "3. We create a `RandomForestRegressor` model."
          ],
          "metadata": {}
        },
        {
          "collapsed": false,
          "metadata": {},
          "cell_type": "code",
          "outputs": [],
          "input": [
            "reg = ske.RandomForestRegressor()"
          ],
          "language": "python"
        },
        {
          "cell_type": "markdown",
          "source": [
            "4. We get the samples and the target values from this dataset."
          ],
          "metadata": {}
        },
        {
          "collapsed": false,
          "metadata": {},
          "cell_type": "code",
          "outputs": [],
          "input": [
            "X = data['data']\n",
            "y = data['target']"
          ],
          "language": "python"
        },
        {
          "cell_type": "markdown",
          "source": [
            "5. Let's fit the model."
          ],
          "metadata": {}
        },
        {
          "collapsed": false,
          "metadata": {},
          "cell_type": "code",
          "outputs": [],
          "input": [
            "reg.fit(X, y);"
          ],
          "language": "python"
        },
        {
          "cell_type": "markdown",
          "source": [
            "6. The importance of our features can be found in `reg.feature_importances_`. We sort them by decreasing order of importance."
          ],
          "metadata": {}
        },
        {
          "collapsed": false,
          "metadata": {},
          "cell_type": "code",
          "outputs": [],
          "input": [
            "fet_ind = np.argsort(reg.feature_importances_)[::-1]\n",
            "fet_imp = reg.feature_importances_[fet_ind]"
          ],
          "language": "python"
        },
        {
          "cell_type": "markdown",
          "source": [
            "7. Finally, we plot a histogram of the features importance."
          ],
          "metadata": {}
        },
        {
          "collapsed": false,
          "metadata": {},
          "cell_type": "code",
          "outputs": [],
          "input": [
            "fig = plt.figure(figsize=(8,4));\n",
            "ax = plt.subplot(111);\n",
            "plt.bar(np.arange(len(fet_imp)), fet_imp, width=1, lw=2);\n",
            "plt.grid(False);\n",
            "ax.set_xticks(np.arange(len(fet_imp))+.5);\n",
            "ax.set_xticklabels(data['feature_names'][fet_ind]);\n",
            "plt.xlim(0, len(fet_imp));"
          ],
          "language": "python"
        },
        {
          "cell_type": "markdown",
          "source": [
            "We find that *LSTAT* (proportion of lower status of the population) and *RM* (number of rooms per dwelling) are the most important features determining the price of a house. As an illustration, here is a scatter plot of the price as a function of *LSTAT*:"
          ],
          "metadata": {}
        },
        {
          "collapsed": false,
          "metadata": {},
          "cell_type": "code",
          "outputs": [],
          "input": [
            "plt.scatter(X[:,-1], y);\n",
            "plt.xlabel('LSTAT indicator');\n",
            "plt.ylabel('Value of houses (k$)');"
          ],
          "language": "python"
        },
        {
          "cell_type": "markdown",
          "source": [
            "> You'll find all the explanations, figures, references, and much more in the book (to be released later this summer).\n",
            "\n",
            "> [IPython Cookbook](http://ipython-books.github.io/), by [Cyrille Rossant](http://cyrille.rossant.net), Packt Publishing, 2014 (500 pages)."
          ],
          "metadata": {}
        }
      ]
    }
  ]
}
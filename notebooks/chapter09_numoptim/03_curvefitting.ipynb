{
  "metadata": {
    "signature": "sha256:9a1bac1f4c50385b9d1752085560b5ee3d5f460936cdeb686cc9334b866f6598",
    "name": ""
  },
  "nbformat": 3,
  "nbformat_minor": 0,
  "worksheets": [
    {
      "metadata": {},
      "cells": [
        {
          "cell_type": "markdown",
          "source": [
            "> This is one of the 100 recipes of the [IPython Cookbook](http://ipython-books.github.io/), the definitive guide to high-performance scientific computing and data science in Python.\n"
          ],
          "metadata": {}
        },
        {
          "cell_type": "markdown",
          "source": [
            "# 9.3. Fitting a function to data with nonlinear least squares"
          ],
          "metadata": {}
        },
        {
          "cell_type": "markdown",
          "source": [
            "1. Let's import the usual libraries."
          ],
          "metadata": {}
        },
        {
          "collapsed": false,
          "metadata": {},
          "cell_type": "code",
          "outputs": [],
          "input": [
            "import numpy as np\n",
            "import scipy.optimize as opt\n",
            "import matplotlib.pyplot as plt\n",
            "%matplotlib inline\n",
            "np.random.seed(3)"
          ],
          "language": "python"
        },
        {
          "cell_type": "markdown",
          "source": [
            "2. We define a logistic function with four parameters."
          ],
          "metadata": {}
        },
        {
          "cell_type": "markdown",
          "source": [
            "$$f_{a,b,c,d}(x) = \\frac{a}{1 + \\exp\\left(-c (x-d)\\right)} + b$$"
          ],
          "metadata": {}
        },
        {
          "collapsed": false,
          "metadata": {},
          "cell_type": "code",
          "outputs": [],
          "input": [
            "def f(x, a, b, c, d):\n",
            "    return a/(1. + np.exp(-c * (x-d))) + b"
          ],
          "language": "python"
        },
        {
          "cell_type": "markdown",
          "source": [
            "3. Let's define four random parameters."
          ],
          "metadata": {}
        },
        {
          "collapsed": false,
          "metadata": {},
          "cell_type": "code",
          "outputs": [],
          "input": [
            "a, c = np.random.exponential(size=2)\n",
            "b, d = np.random.randn(2)"
          ],
          "language": "python"
        },
        {
          "cell_type": "markdown",
          "source": [
            "4. Now, we generate random data points, by using the sigmoid function and adding a bit of noise."
          ],
          "metadata": {}
        },
        {
          "collapsed": false,
          "metadata": {},
          "cell_type": "code",
          "outputs": [],
          "input": [
            "n = 100\n",
            "x = np.linspace(-10., 10., n)\n",
            "y_model = f(x, a, b, c, d)\n",
            "y = y_model + a * .2 * np.random.randn(n)"
          ],
          "language": "python"
        },
        {
          "cell_type": "markdown",
          "source": [
            "5. Here is a plot of the data points, with the particular sigmoid used for their generation."
          ],
          "metadata": {}
        },
        {
          "collapsed": false,
          "metadata": {},
          "cell_type": "code",
          "outputs": [],
          "input": [
            "plt.figure(figsize=(6,4));\n",
            "plt.plot(x, y_model, '--k');\n",
            "plt.plot(x, y, 'o');"
          ],
          "language": "python"
        },
        {
          "cell_type": "markdown",
          "source": [
            "6. We now assume that we only have access to the data points. These points could have been obtained during an experiment. By looking at the data, the points appear to approximately follow a sigmoid, so we may want to try to fit such a curve to the points. That's what **curve fitting** is about. SciPy's function `curve_fit` allows us to fit a curve defined by an arbitrary Python function to the data."
          ],
          "metadata": {}
        },
        {
          "collapsed": false,
          "metadata": {},
          "cell_type": "code",
          "outputs": [],
          "input": [
            "(a_, b_, c_, d_), _ = opt.curve_fit(f, x, y, (a, b, c, d))"
          ],
          "language": "python"
        },
        {
          "cell_type": "markdown",
          "source": [
            "7. Now, let's take a look at the fitted simoid curve."
          ],
          "metadata": {}
        },
        {
          "collapsed": false,
          "metadata": {},
          "cell_type": "code",
          "outputs": [],
          "input": [
            "y_fit = f(x, a_, b_, c_, d_)"
          ],
          "language": "python"
        },
        {
          "collapsed": false,
          "metadata": {},
          "cell_type": "code",
          "outputs": [],
          "input": [
            "plt.figure(figsize=(6,4));\n",
            "plt.plot(x, y_model, '--k');\n",
            "plt.plot(x, y, 'o');\n",
            "plt.plot(x, y_fit, '-');"
          ],
          "language": "python"
        },
        {
          "cell_type": "markdown",
          "source": [
            "The fitted sigmoid appears to be quite close from the original sigmoid used for data generation."
          ],
          "metadata": {}
        },
        {
          "cell_type": "markdown",
          "source": [
            "> You'll find all the explanations, figures, references, and much more in the book (to be released later this summer).\n",
            "\n",
            "> [IPython Cookbook](http://ipython-books.github.io/), by [Cyrille Rossant](http://cyrille.rossant.net), Packt Publishing, 2014 (500 pages)."
          ],
          "metadata": {}
        }
      ]
    }
  ]
}
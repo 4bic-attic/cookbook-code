{
 "nbformat": 3, 
 "nbformat_minor": 0, 
 "worksheets": [
  {
   "cells": [
    {
     "source": [
      "> This is one of the 100 recipes of the [IPython Cookbook](http://ipython-books.github.io/), the definitive guide to high-performance scientific computing and data science in Python.\n"
     ], 
     "cell_type": "markdown", 
     "metadata": []
    }, 
    {
     "source": [
      "# 9.3. Fitting a function to data with non-linear least squares"
     ], 
     "cell_type": "markdown", 
     "metadata": {}
    }, 
    {
     "source": [
      "In this recipe, we show an application of numerical optimization to **non-linear least squares curve fitting**. The goal is to fit a function depending on several parameters to data points. In contrary to the linear least squares method, this function does not have to be linear in those parameters."
     ], 
     "cell_type": "markdown", 
     "metadata": {}
    }, 
    {
     "source": [
      "We illustrate this method on artificial data here."
     ], 
     "cell_type": "markdown", 
     "metadata": {}
    }, 
    {
     "source": [
      "## How to do it..."
     ], 
     "cell_type": "markdown", 
     "metadata": {}
    }, 
    {
     "source": [
      "1. Let's import the usual libraries."
     ], 
     "cell_type": "markdown", 
     "metadata": {}
    }, 
    {
     "cell_type": "code", 
     "language": "python", 
     "outputs": [], 
     "collapsed": false, 
     "input": [
      "import numpy as np\n", 
      "import scipy.optimize as opt\n", 
      "import matplotlib.pyplot as plt\n", 
      "%matplotlib inline\n", 
      "np.random.seed(3)"
     ], 
     "metadata": {}
    }, 
    {
     "source": [
      "2. We define a logistic function with four parameters."
     ], 
     "cell_type": "markdown", 
     "metadata": {}
    }, 
    {
     "source": [
      "$$f_{a,b,c,d}(x) = \\frac{a}{1 + \\exp\\left(-c (x-d)\\right)} + b$$"
     ], 
     "cell_type": "markdown", 
     "metadata": {}
    }, 
    {
     "cell_type": "code", 
     "language": "python", 
     "outputs": [], 
     "collapsed": false, 
     "input": [
      "def f(x, a, b, c, d):\n", 
      "    return a/(1. + np.exp(-c * (x-d))) + b"
     ], 
     "metadata": {}
    }, 
    {
     "source": [
      "3. Let's define four random parameters."
     ], 
     "cell_type": "markdown", 
     "metadata": {}
    }, 
    {
     "cell_type": "code", 
     "language": "python", 
     "outputs": [], 
     "collapsed": false, 
     "input": [
      "a, c = np.random.exponential(size=2)\n", 
      "b, d = np.random.randn(2)"
     ], 
     "metadata": {}
    }, 
    {
     "source": [
      "4. Now, we generate random data points, by using the sigmoid function and adding a bit of noise."
     ], 
     "cell_type": "markdown", 
     "metadata": {}
    }, 
    {
     "cell_type": "code", 
     "language": "python", 
     "outputs": [], 
     "collapsed": false, 
     "input": [
      "n = 100\n", 
      "x = np.linspace(-10., 10., n)\n", 
      "y_model = f(x, a, b, c, d)\n", 
      "y = y_model + a * .2 * np.random.randn(n)"
     ], 
     "metadata": {}
    }, 
    {
     "source": [
      "5. Here is a plot of the data points, with the particular sigmoid used for their generation."
     ], 
     "cell_type": "markdown", 
     "metadata": {}
    }, 
    {
     "cell_type": "code", 
     "language": "python", 
     "outputs": [], 
     "collapsed": false, 
     "input": [
      "plt.figure(figsize=(6,4));\n", 
      "plt.plot(x, y_model, '--k');\n", 
      "plt.plot(x, y, 'o');"
     ], 
     "metadata": {}
    }, 
    {
     "source": [
      "6. We now assume that we only have access to the data points. These points could have been obtained during an experiment. By looking at the data, the points appear to approximately follow a sigmoid, so we may want to try to fit such a curve to the points. That's what **curve fitting** is about. SciPy's function `curve_fit` allows us to fit a curve defined by an arbitrary Python function to the data."
     ], 
     "cell_type": "markdown", 
     "metadata": {}
    }, 
    {
     "cell_type": "code", 
     "language": "python", 
     "outputs": [], 
     "collapsed": false, 
     "input": [
      "(a_, b_, c_, d_), _ = opt.curve_fit(f, x, y, (a, b, c, d))"
     ], 
     "metadata": {}
    }, 
    {
     "source": [
      "7. Now, let's take a look at the fitted simoid curve."
     ], 
     "cell_type": "markdown", 
     "metadata": {}
    }, 
    {
     "cell_type": "code", 
     "language": "python", 
     "outputs": [], 
     "collapsed": false, 
     "input": [
      "y_fit = f(x, a_, b_, c_, d_)"
     ], 
     "metadata": {}
    }, 
    {
     "cell_type": "code", 
     "language": "python", 
     "outputs": [], 
     "collapsed": false, 
     "input": [
      "plt.figure(figsize=(6,4));\n", 
      "plt.plot(x, y_model, '--k');\n", 
      "plt.plot(x, y, 'o');\n", 
      "plt.plot(x, y_fit, '-');"
     ], 
     "metadata": {}
    }, 
    {
     "source": [
      "The fitted sigmoid appears to be quite close from the original sigmoid used for data generation."
     ], 
     "cell_type": "markdown", 
     "metadata": {}
    }, 
    {
     "source": [
      "> You'll find all the explanations, figures, references, and much more in the book (to be released later this summer).\n\n> [IPython Cookbook](http://ipython-books.github.io/), by [Cyrille Rossant](http://cyrille.rossant.net), Packt Publishing, 2014 (400 pages). [Get a 50% discount by pre-ordering now](http://www.packtpub.com/ipython-interactive-computing-and-visualization-cookbook/book) with the code `PICVCEB` (time-limited offer)!\n"
     ], 
     "cell_type": "markdown", 
     "metadata": {}
    }
   ], 
   "metadata": {}
  }
 ], 
 "metadata": {
  "name": "", 
  "signature": "sha256:3efe491b464629290dc197fba13bbb829d87fc034b61dc6de240226832d7f32e"
 }
}
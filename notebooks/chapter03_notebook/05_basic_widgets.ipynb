{
  "metadata": {
    "signature": "sha256:923af621b92260755e0e1e12ce83752d47592bbaea3474fa430d21df1305fa4a",
    "name": ""
  },
  "nbformat": 3,
  "nbformat_minor": 0,
  "worksheets": [
    {
      "metadata": {},
      "cells": [
        {
          "cell_type": "markdown",
          "source": [
            "> This is one of the 100 recipes of the [IPython Cookbook](http://ipython-books.github.io/), the definitive guide to high-performance scientific computing and data science in Python.\n"
          ],
          "metadata": {}
        },
        {
          "cell_type": "markdown",
          "source": [
            "# 3.5. Using interactive widgets: a piano in the notebook"
          ],
          "metadata": {}
        },
        {
          "cell_type": "markdown",
          "source": [
            "You need to download the *Piano* dataset on the book's website. (http://ipython-books.github.io)\n",
            "\n",
            "This dataset contains synthetized piano notes obtained on `archive.org` (CC0 1.0 Universal licence). (https://archive.org/details/SynthesizedPianoNotes)"
          ],
          "metadata": {}
        },
        {
          "cell_type": "markdown",
          "source": [
            "1. Let's import a few modules."
          ],
          "metadata": {}
        },
        {
          "collapsed": false,
          "metadata": {},
          "cell_type": "code",
          "outputs": [],
          "input": [
            "import numpy as np\n",
            "import os\n",
            "from IPython.display import Audio, display, clear_output\n",
            "from IPython.html import widgets\n",
            "from functools import partial"
          ],
          "language": "python"
        },
        {
          "cell_type": "markdown",
          "source": [
            "2. To create a piano, we will draw one button per note. The corresponding note plays when the user clicks on the button. This is implemented by displaying an `<audio>` element."
          ],
          "metadata": {}
        },
        {
          "collapsed": false,
          "metadata": {},
          "cell_type": "code",
          "outputs": [],
          "input": [
            "dir = 'data/synth'"
          ],
          "language": "python"
        },
        {
          "collapsed": false,
          "metadata": {},
          "cell_type": "code",
          "outputs": [],
          "input": [
            "# This is the list of notes.\n",
            "notes = 'C,C#,D,D#,E,F,F#,G,G#,A,A#,B,C'.split(',')"
          ],
          "language": "python"
        },
        {
          "collapsed": false,
          "metadata": {},
          "cell_type": "code",
          "outputs": [],
          "input": [
            "def play(note, octave=0):\n",
            "    \"\"\"This function displays an HTML Audio element\n",
            "    that plays automatically when it appears.\"\"\"\n",
            "    f = os.path.join(dir, \n",
            "         \"piano_{i}.mp3\".format(i=note+12*octave))\n",
            "    clear_output()\n",
            "    display(Audio(filename=f, autoplay=True))"
          ],
          "language": "python"
        },
        {
          "cell_type": "markdown",
          "source": [
            "3. We are going to place all buttons within a **container widget**. In IPython 2.0+, widgets can be organized hierarchically. One common use case is to organize several widgets in a given layout. Here, `piano` will contain 12 buttons for the 12 notes."
          ],
          "metadata": {}
        },
        {
          "collapsed": false,
          "metadata": {},
          "cell_type": "code",
          "outputs": [],
          "input": [
            "piano = widgets.ContainerWidget()"
          ],
          "language": "python"
        },
        {
          "cell_type": "markdown",
          "source": [
            "4. We create our first widget: a slider control that specifies the octave (0 or 1 here)."
          ],
          "metadata": {}
        },
        {
          "collapsed": false,
          "metadata": {},
          "cell_type": "code",
          "outputs": [],
          "input": [
            "octave_slider = widgets.IntSliderWidget()\n",
            "octave_slider.max = 1\n",
            "octave_slider"
          ],
          "language": "python"
        },
        {
          "cell_type": "markdown",
          "source": [
            "5. Now, we create the buttons. There are several steps. First, we instantiate a `ButtonWidget` object. Then, we specify a callback function that plays the corresponding note (given by an index) at a given octave (given by the current value of the octave slider). Finally, we set the CSS of each button, notably the white or black color."
          ],
          "metadata": {}
        },
        {
          "collapsed": false,
          "metadata": {},
          "cell_type": "code",
          "outputs": [],
          "input": [
            "buttons = []\n",
            "for i, note in enumerate(notes):\n",
            "    button = widgets.ButtonWidget(description=note)\n",
            "    \n",
            "    def on_button_clicked(i, _):\n",
            "        play(i+1, octave_slider.value)\n",
            "        \n",
            "    button.on_click(partial(on_button_clicked, i))\n",
            "    \n",
            "    button.set_css({'width': '30px', \n",
            "                    'height': '60px',\n",
            "                    'padding': '0',\n",
            "                    'color': ('black', \n",
            "                              'white')['#' in note],\n",
            "                    'background': ('white', 'black')['#' in note],\n",
            "                    'border': '1px solid black',\n",
            "                    'float': 'left'})\n",
            "    \n",
            "    buttons.append(button)"
          ],
          "language": "python"
        },
        {
          "cell_type": "markdown",
          "source": [
            "6. Finally, we arrange all widgets with the containers. The `piano` container contains the buttons, and the main container (`container`) contains the slider and the piano."
          ],
          "metadata": {}
        },
        {
          "collapsed": false,
          "metadata": {},
          "cell_type": "code",
          "outputs": [],
          "input": [
            "piano.children = buttons"
          ],
          "language": "python"
        },
        {
          "collapsed": false,
          "metadata": {},
          "cell_type": "code",
          "outputs": [],
          "input": [
            "container = widgets.ContainerWidget()\n",
            "container.children = [octave_slider,\n",
            "                      piano]"
          ],
          "language": "python"
        },
        {
          "cell_type": "markdown",
          "source": [
            "By default, widgets are organized vertically within a container. Here, the octave slider will be above the piano."
          ],
          "metadata": {}
        },
        {
          "collapsed": false,
          "metadata": {},
          "cell_type": "code",
          "outputs": [],
          "input": [
            "display(container)\n",
            "piano.remove_class('vbox')\n",
            "piano.add_class('hbox')"
          ],
          "language": "python"
        },
        {
          "cell_type": "markdown",
          "source": [
            "Within the piano, we want all notes to be arranged horizontally. We do this by replacing the default `vbox` CSS class by the `hbox` class."
          ],
          "metadata": {}
        },
        {
          "cell_type": "markdown",
          "source": [
            "> You'll find all the explanations, figures, references, and much more in the book (to be released later this summer).\n",
            "\n",
            "> [IPython Cookbook](http://ipython-books.github.io/), by [Cyrille Rossant](http://cyrille.rossant.net), Packt Publishing, 2014 (500 pages)."
          ],
          "metadata": {}
        }
      ]
    }
  ]
}
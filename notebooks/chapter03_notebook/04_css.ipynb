{
  "metadata": {
    "signature": "sha256:10412c7481e58d28fa14c7bcea8016ef24bb344450bd9b362e81063251c06830",
    "name": ""
  },
  "nbformat": 3,
  "nbformat_minor": 0,
  "worksheets": [
    {
      "metadata": {},
      "cells": [
        {
          "cell_type": "markdown",
          "source": [
            "> This is one of the 100 recipes of the [IPython Cookbook](http://ipython-books.github.io/), the definitive guide to high-performance scientific computing and data science in Python.\n"
          ],
          "metadata": {}
        },
        {
          "cell_type": "markdown",
          "source": [
            "# 3.4. Customizing the CSS style in the notebook"
          ],
          "metadata": {}
        },
        {
          "cell_type": "markdown",
          "source": [
            "You will need the *CSS* dataset on the book's website. (http://ipython-books.github.com)\n",
            "\n",
            "You are expected to know a bit of CSS3 for this recipe. You can find many tutorials online (see references at the end of this recipe)."
          ],
          "metadata": {}
        },
        {
          "cell_type": "markdown",
          "source": [
            "1. First, we create a new IPython profile to avoid messing with our regular profile."
          ],
          "metadata": {}
        },
        {
          "collapsed": false,
          "metadata": {},
          "cell_type": "code",
          "outputs": [],
          "input": [
            "!ipython profile create custom_css"
          ],
          "language": "python"
        },
        {
          "cell_type": "markdown",
          "source": [
            "2. Now, we retrieve in Python the path to this profile (this should be `~/.ipython`) and to the `custom.css` file (empty by default)."
          ],
          "metadata": {}
        },
        {
          "collapsed": false,
          "metadata": {},
          "cell_type": "code",
          "outputs": [],
          "input": [
            "dir = !ipython locate profile custom_css\n",
            "dir = dir[0]"
          ],
          "language": "python"
        },
        {
          "collapsed": false,
          "metadata": {},
          "cell_type": "code",
          "outputs": [],
          "input": [
            "import os\n",
            "csspath = os.path.realpath(os.path.join(\n",
            "            dir, 'static/custom/custom.css'))"
          ],
          "language": "python"
        },
        {
          "collapsed": false,
          "metadata": {},
          "cell_type": "code",
          "outputs": [],
          "input": [
            "csspath"
          ],
          "language": "python"
        },
        {
          "cell_type": "markdown",
          "source": [
            "3. We can now edit this file here. We change the background color, the font size of code cells, the border of some cells, and we highlight the selected cells in edit mode."
          ],
          "metadata": {}
        },
        {
          "collapsed": false,
          "metadata": {},
          "cell_type": "code",
          "outputs": [],
          "input": [
            "%%writefile {csspath}\n",
            "\n",
            "body {\n",
            "    /* Background color for the whole notebook. */\n",
            "    background-color: #f0f0f0;\n",
            "}\n",
            "\n",
            "/* Level 1 headers. */\n",
            "h1 {\n",
            "    text-align: right;\n",
            "    color: red;\n",
            "}\n",
            "\n",
            "/* Code cells. */\n",
            "div.input_area > div.highlight > pre {\n",
            "    font-size: 10px;\n",
            "}\n",
            "\n",
            "/* Output images. */\n",
            "div.output_area img {\n",
            "    border: 3px #ababab solid;\n",
            "    border-radius: 8px;\n",
            "}\n",
            "\n",
            "/* Selected cells. */\n",
            "div.cell.selected {\n",
            "    border: 3px #ababab solid;\n",
            "    background-color: #ddd;\n",
            "}\n",
            "\n",
            "/* Code cells in edit mode. */\n",
            "div.cell.edit_mode {\n",
            "    border: 3px red solid;\n",
            "    background-color: #faa;\n",
            "}"
          ],
          "language": "python"
        },
        {
          "cell_type": "markdown",
          "source": [
            "4. Opening a notebook with the `custom_css` profile leads to the following style:"
          ],
          "metadata": {}
        },
        {
          "cell_type": "markdown",
          "source": [
            "5. We can also use this stylesheet with nbconvert. We just have to convert a notebook to a static HTML document, and copy the `custom.css` file in the same folder. Here, we use a test notebook that has been downloaded on this book's website (see *Getting started*)."
          ],
          "metadata": {}
        },
        {
          "collapsed": false,
          "metadata": {},
          "cell_type": "code",
          "outputs": [],
          "input": [
            "!cp {csspath} custom.css\n",
            "!ipython nbconvert --to html data/test.ipynb"
          ],
          "language": "python"
        },
        {
          "cell_type": "markdown",
          "source": [
            "Here is how this HTML document look like:"
          ],
          "metadata": {}
        },
        {
          "collapsed": false,
          "metadata": {},
          "cell_type": "code",
          "outputs": [],
          "input": [
            "from IPython.display import IFrame\n",
            "IFrame('test.html', 600, 650)"
          ],
          "language": "python"
        },
        {
          "cell_type": "markdown",
          "source": [
            "> You'll find all the explanations, figures, references, and much more in the book (to be released later this summer).\n",
            "\n",
            "> [IPython Cookbook](http://ipython-books.github.io/), by [Cyrille Rossant](http://cyrille.rossant.net), Packt Publishing, 2014 (500 pages)."
          ],
          "metadata": {}
        }
      ]
    }
  ]
}
{
  "metadata": {
    "signature": "sha256:2ec741daefdcbdc8c7f2b2a5e3a8523ae84dbc5c7556d678eb085df29ef4aff8",
    "name": ""
  },
  "nbformat": 3,
  "nbformat_minor": 0,
  "worksheets": [
    {
      "metadata": {},
      "cells": [
        {
          "cell_type": "markdown",
          "source": [
            "> This is one of the 100 recipes of the [IPython Cookbook](http://ipython-books.github.io/), the definitive guide to high-performance scientific computing and data science in Python.\n"
          ],
          "metadata": {}
        },
        {
          "cell_type": "markdown",
          "source": [
            "# 4.8. Making efficient selections in arrays with NumPy"
          ],
          "metadata": {}
        },
        {
          "collapsed": false,
          "metadata": {},
          "cell_type": "code",
          "outputs": [],
          "input": [
            "import numpy as np"
          ],
          "language": "python"
        },
        {
          "collapsed": false,
          "metadata": {},
          "cell_type": "code",
          "outputs": [],
          "input": [
            "id = lambda x: x.__array_interface__['data'][0]"
          ],
          "language": "python"
        },
        {
          "cell_type": "markdown",
          "source": [
            "We create a large array."
          ],
          "metadata": {}
        },
        {
          "collapsed": false,
          "metadata": {},
          "cell_type": "code",
          "outputs": [],
          "input": [
            "n, d = 100000, 100"
          ],
          "language": "python"
        },
        {
          "collapsed": false,
          "metadata": {},
          "cell_type": "code",
          "outputs": [],
          "input": [
            "a = np.random.random_sample((n, d)); aid = id(a)"
          ],
          "language": "python"
        },
        {
          "cell_type": "markdown",
          "source": [
            "## Array views and fancy indexing"
          ],
          "metadata": {}
        },
        {
          "cell_type": "markdown",
          "source": [
            "We take a selection using two different methods: with a view and with fancy indexing."
          ],
          "metadata": {}
        },
        {
          "collapsed": false,
          "metadata": {},
          "cell_type": "code",
          "outputs": [],
          "input": [
            "b1 = a[::10]\n",
            "b2 = a[np.arange(0, n, 10)]"
          ],
          "language": "python"
        },
        {
          "collapsed": false,
          "metadata": {},
          "cell_type": "code",
          "outputs": [],
          "input": [
            "np.array_equal(b1, b2)"
          ],
          "language": "python"
        },
        {
          "cell_type": "markdown",
          "source": [
            "The view refers to the original data buffer, whereas fancy indexing yields a copy."
          ],
          "metadata": {}
        },
        {
          "collapsed": false,
          "metadata": {},
          "cell_type": "code",
          "outputs": [],
          "input": [
            "id(b1) == aid, id(b2) == aid"
          ],
          "language": "python"
        },
        {
          "cell_type": "markdown",
          "source": [
            "Fancy indexing is several orders of magnitude slower as it involves copying a large array. Fancy indexing is more general as it allows to select any portion of an array (using any list of indices), not just a strided selection."
          ],
          "metadata": {}
        },
        {
          "collapsed": false,
          "metadata": {},
          "cell_type": "code",
          "outputs": [],
          "input": [
            "%timeit a[::10]"
          ],
          "language": "python"
        },
        {
          "collapsed": false,
          "metadata": {},
          "cell_type": "code",
          "outputs": [],
          "input": [
            "%timeit a[np.arange(0, n, 10)]"
          ],
          "language": "python"
        },
        {
          "cell_type": "markdown",
          "source": [
            "## Alternatives to fancy indexing: list of indices"
          ],
          "metadata": {}
        },
        {
          "cell_type": "markdown",
          "source": [
            "Given a list of indices, there are two ways of selecting the corresponding sub-array: fancy indexing, or the np.take function."
          ],
          "metadata": {}
        },
        {
          "collapsed": false,
          "metadata": {},
          "cell_type": "code",
          "outputs": [],
          "input": [
            "i = np.arange(0, n, 10)"
          ],
          "language": "python"
        },
        {
          "collapsed": false,
          "metadata": {},
          "cell_type": "code",
          "outputs": [],
          "input": [
            "b1 = a[i]\n",
            "b2 = np.take(a, i, axis=0)"
          ],
          "language": "python"
        },
        {
          "collapsed": false,
          "metadata": {},
          "cell_type": "code",
          "outputs": [],
          "input": [
            "np.array_equal(b1, b2)"
          ],
          "language": "python"
        },
        {
          "collapsed": false,
          "metadata": {},
          "cell_type": "code",
          "outputs": [],
          "input": [
            "%timeit a[i]"
          ],
          "language": "python"
        },
        {
          "collapsed": false,
          "metadata": {},
          "cell_type": "code",
          "outputs": [],
          "input": [
            "%timeit np.take(a, i, axis=0)"
          ],
          "language": "python"
        },
        {
          "cell_type": "markdown",
          "source": [
            "Using np.take instead of fancy indexing is faster."
          ],
          "metadata": {}
        },
        {
          "cell_type": "markdown",
          "source": [
            "**Note**: Performance of fancy indexing has been improved in recent versions of NumPy; this trick is especially useful on older versions of NumPy."
          ],
          "metadata": {}
        },
        {
          "cell_type": "markdown",
          "source": [
            "## Alternatives to fancy indexing: mask of booleans"
          ],
          "metadata": {}
        },
        {
          "cell_type": "markdown",
          "source": [
            "Let's create a mask of booleans, where each value indicates whether the corresponding row needs to be selected in x."
          ],
          "metadata": {}
        },
        {
          "collapsed": false,
          "metadata": {},
          "cell_type": "code",
          "outputs": [],
          "input": [
            "i = np.random.random_sample(n) < .5"
          ],
          "language": "python"
        },
        {
          "cell_type": "markdown",
          "source": [
            "The selection can be made using fancy indexing or the np.compress function."
          ],
          "metadata": {}
        },
        {
          "collapsed": false,
          "metadata": {},
          "cell_type": "code",
          "outputs": [],
          "input": [
            "b1 = a[i]\n",
            "b2 = np.compress(i, a, axis=0)"
          ],
          "language": "python"
        },
        {
          "collapsed": false,
          "metadata": {},
          "cell_type": "code",
          "outputs": [],
          "input": [
            "np.array_equal(b1, b2)"
          ],
          "language": "python"
        },
        {
          "collapsed": false,
          "metadata": {},
          "cell_type": "code",
          "outputs": [],
          "input": [
            "%timeit a[i]"
          ],
          "language": "python"
        },
        {
          "collapsed": false,
          "metadata": {},
          "cell_type": "code",
          "outputs": [],
          "input": [
            "%timeit np.compress(i, a, axis=0)"
          ],
          "language": "python"
        },
        {
          "cell_type": "markdown",
          "source": [
            "Once again, the alternative method to fancy indexing is faster."
          ],
          "metadata": {}
        },
        {
          "cell_type": "markdown",
          "source": [
            "> You'll find all the explanations, figures, references, and much more in the book (to be released later this summer).\n",
            "\n",
            "> [IPython Cookbook](http://ipython-books.github.io/), by [Cyrille Rossant](http://cyrille.rossant.net), Packt Publishing, 2014 (500 pages)."
          ],
          "metadata": {}
        }
      ]
    }
  ]
}
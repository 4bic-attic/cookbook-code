{
  "nbformat_minor": 0,
  "nbformat": 3,
  "metadata": {
    "signature": "sha256:5521c5b538a86af61268cd80d689df49e4316555097925bda8dad9eaec534952",
    "name": ""
  },
  "worksheets": [
    {
      "metadata": {},
      "cells": [
        {
          "cell_type": "markdown",
          "source": [
            "> This is one of the 100 recipes of the [IPython Cookbook](http://ipython-books.github.io/), the definitive guide to high-performance scientific computing and data science in Python.\n"
          ],
          "metadata": {}
        },
        {
          "cell_type": "markdown",
          "source": [
            "# 4.5. Understanding the internals of NumPy to avoid unnecessary array copying"
          ],
          "metadata": {}
        },
        {
          "collapsed": false,
          "metadata": {},
          "cell_type": "code",
          "outputs": [],
          "input": [
            "import numpy as np"
          ],
          "language": "python"
        },
        {
          "cell_type": "markdown",
          "source": [
            "## Inspect the memory address of arrays"
          ],
          "metadata": {}
        },
        {
          "collapsed": false,
          "metadata": {},
          "cell_type": "code",
          "outputs": [],
          "input": [
            "def id(x):\n",
            "    # This function returns the memory\n",
            "    # block address of an array.\n",
            "    return x.__array_interface__['data'][0]"
          ],
          "language": "python"
        },
        {
          "collapsed": false,
          "metadata": {},
          "cell_type": "code",
          "outputs": [],
          "input": [
            "a = np.zeros(10); aid = id(a); aid"
          ],
          "language": "python"
        },
        {
          "collapsed": false,
          "metadata": {},
          "cell_type": "code",
          "outputs": [],
          "input": [
            "b = a.copy(); id(b) == aid"
          ],
          "language": "python"
        },
        {
          "cell_type": "markdown",
          "source": [
            "## In-place and copy operations"
          ],
          "metadata": {}
        },
        {
          "collapsed": false,
          "metadata": {},
          "cell_type": "code",
          "outputs": [],
          "input": [
            "a *= 2; id(a) == aid"
          ],
          "language": "python"
        },
        {
          "collapsed": false,
          "metadata": {},
          "cell_type": "code",
          "outputs": [],
          "input": [
            "c = a * 2; id(c) == aid"
          ],
          "language": "python"
        },
        {
          "cell_type": "markdown",
          "source": [
            "## Benchmarking"
          ],
          "metadata": {}
        },
        {
          "cell_type": "markdown",
          "source": [
            "In-place operation."
          ],
          "metadata": {}
        },
        {
          "collapsed": false,
          "metadata": {},
          "cell_type": "code",
          "outputs": [],
          "input": [
            "%%timeit a = np.zeros(10000000)\n",
            "a *= 2"
          ],
          "language": "python"
        },
        {
          "cell_type": "markdown",
          "source": [
            "With memory copy."
          ],
          "metadata": {}
        },
        {
          "collapsed": false,
          "metadata": {},
          "cell_type": "code",
          "outputs": [],
          "input": [
            "%%timeit a = np.zeros(10000000)\n",
            "b = a * 2"
          ],
          "language": "python"
        },
        {
          "cell_type": "markdown",
          "source": [
            "## Reshaping an array: copy or not?"
          ],
          "metadata": {}
        },
        {
          "collapsed": false,
          "metadata": {},
          "cell_type": "code",
          "outputs": [],
          "input": [
            "a = np.zeros((10, 10)); aid = id(a); aid"
          ],
          "language": "python"
        },
        {
          "cell_type": "markdown",
          "source": [
            "Reshaping an array while preserving its order does not trigger a copy."
          ],
          "metadata": {}
        },
        {
          "collapsed": false,
          "metadata": {},
          "cell_type": "code",
          "outputs": [],
          "input": [
            "b = a.reshape((1, -1)); id(b) == aid"
          ],
          "language": "python"
        },
        {
          "cell_type": "markdown",
          "source": [
            "Transposing an array changes its order so that a reshape triggers a copy."
          ],
          "metadata": {}
        },
        {
          "collapsed": false,
          "metadata": {},
          "cell_type": "code",
          "outputs": [],
          "input": [
            "c = a.T.reshape((1, -1)); id(c) == aid"
          ],
          "language": "python"
        },
        {
          "cell_type": "markdown",
          "source": [
            "To return a flattened version (1D) of a multidimensional array, one can use `flatten` or `ravel`. The former always return a copy, whereas the latter only makes a copy if necessary."
          ],
          "metadata": {}
        },
        {
          "collapsed": false,
          "metadata": {},
          "cell_type": "code",
          "outputs": [],
          "input": [
            "d = a.flatten(); id(d) == aid"
          ],
          "language": "python"
        },
        {
          "collapsed": false,
          "metadata": {},
          "cell_type": "code",
          "outputs": [],
          "input": [
            "e = a.ravel(); id(e) == aid"
          ],
          "language": "python"
        },
        {
          "collapsed": false,
          "metadata": {},
          "cell_type": "code",
          "outputs": [],
          "input": [
            "%timeit a.flatten()"
          ],
          "language": "python"
        },
        {
          "collapsed": false,
          "metadata": {},
          "cell_type": "code",
          "outputs": [],
          "input": [
            "%timeit a.ravel()"
          ],
          "language": "python"
        },
        {
          "cell_type": "markdown",
          "source": [
            "## Broadcasting"
          ],
          "metadata": {}
        },
        {
          "cell_type": "markdown",
          "source": [
            "When performing operations on arrays with different shapes, you don't necessarily have to make copies to make their shapes match. Broadcasting rules allow you to make computations on arrays with different but compatible shapes. Two dimensions are compatible if they are equal or one of them is 1. If the arrays have different number of dimensions, dimensions are added to the smaller array from the trailing dimensions to the leading ones."
          ],
          "metadata": {}
        },
        {
          "collapsed": false,
          "metadata": {},
          "cell_type": "code",
          "outputs": [],
          "input": [
            "n = 1000"
          ],
          "language": "python"
        },
        {
          "collapsed": false,
          "metadata": {},
          "cell_type": "code",
          "outputs": [],
          "input": [
            "a = np.arange(n)\n",
            "ac = a[:, np.newaxis]\n",
            "ar = a[np.newaxis, :]"
          ],
          "language": "python"
        },
        {
          "collapsed": false,
          "metadata": {},
          "cell_type": "code",
          "outputs": [],
          "input": [
            "%timeit np.tile(ac, (1, n)) * np.tile(ar, (n, 1))"
          ],
          "language": "python"
        },
        {
          "collapsed": false,
          "metadata": {},
          "cell_type": "code",
          "outputs": [],
          "input": [
            "%timeit ar * ac"
          ],
          "language": "python"
        },
        {
          "cell_type": "markdown",
          "source": [
            "## Exercise"
          ],
          "metadata": {}
        },
        {
          "cell_type": "markdown",
          "source": [
            "Can you explain the performance discrepancy between the following two similar operations?"
          ],
          "metadata": {}
        },
        {
          "collapsed": false,
          "metadata": {},
          "cell_type": "code",
          "outputs": [],
          "input": [
            "a = np.random.rand(5000, 5000)"
          ],
          "language": "python"
        },
        {
          "collapsed": false,
          "metadata": {},
          "cell_type": "code",
          "outputs": [],
          "input": [
            "%timeit a[0, :].sum()"
          ],
          "language": "python"
        },
        {
          "collapsed": false,
          "metadata": {},
          "cell_type": "code",
          "outputs": [],
          "input": [
            "%timeit a[:, 0].sum()"
          ],
          "language": "python"
        },
        {
          "cell_type": "markdown",
          "source": [
            "> You'll find all the explanations, figures, references, and much more in the book (to be released later this summer).\n\n> [IPython Cookbook](http://ipython-books.github.io/), by [Cyrille Rossant](http://cyrille.rossant.net), Packt Publishing, 2014 (500 pages)."
          ],
          "metadata": {}
        }
      ]
    }
  ]
}
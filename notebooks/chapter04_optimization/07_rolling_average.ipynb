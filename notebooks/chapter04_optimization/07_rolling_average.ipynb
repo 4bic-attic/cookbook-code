{
  "metadata": {
    "signature": "sha256:5a1caec14449cc19a8cb26b6f008e499edc54e15b726f2b76f1eac6b04294de8",
    "name": ""
  },
  "nbformat": 3,
  "nbformat_minor": 0,
  "worksheets": [
    {
      "metadata": {},
      "cells": [
        {
          "cell_type": "markdown",
          "source": [
            "> This is one of the 100 recipes of the [IPython Cookbook](http://ipython-books.github.io/), the definitive guide to high-performance scientific computing and data science in Python.\n"
          ],
          "metadata": {}
        },
        {
          "cell_type": "markdown",
          "source": [
            "# 4.7. Implementing an efficient rolling average algorithm with stride tricks"
          ],
          "metadata": {}
        },
        {
          "cell_type": "markdown",
          "source": [
            "Stride tricks can be useful for local computations on arrays, when the computed value at a given position depends on the neighbor values. Examples include dynamical systems, filters, cellular automata, and so on. In this example, we will implement an efficient rolling average (a particular type of convolution-based linear filter) with NumPy stride tricks.\n",
            "\n",
            "The idea is to start from a 1D vector, and make a \"virtual\" 2D array where each line is a shifted version of the previous line. When using stride tricks, this process does not involve any copy, so it is efficient."
          ],
          "metadata": {}
        },
        {
          "collapsed": false,
          "metadata": {},
          "cell_type": "code",
          "outputs": [],
          "input": [
            "import numpy as np\n",
            "from numpy.lib.stride_tricks import as_strided\n",
            "%precision 0"
          ],
          "language": "python"
        },
        {
          "collapsed": false,
          "metadata": {},
          "cell_type": "code",
          "outputs": [],
          "input": [
            "def id(x):\n",
            "    # This function returns the memory\n",
            "    # block address of an array.\n",
            "    return x.__array_interface__['data'][0]"
          ],
          "language": "python"
        },
        {
          "collapsed": false,
          "metadata": {},
          "cell_type": "code",
          "outputs": [],
          "input": [
            "n = 5; k = 2"
          ],
          "language": "python"
        },
        {
          "collapsed": false,
          "metadata": {},
          "cell_type": "code",
          "outputs": [],
          "input": [
            "a = np.linspace(1, n, n); aid = id(a)"
          ],
          "language": "python"
        },
        {
          "cell_type": "markdown",
          "source": [
            "Let's change the strides of `a` to add shifted rows."
          ],
          "metadata": {}
        },
        {
          "collapsed": false,
          "metadata": {},
          "cell_type": "code",
          "outputs": [],
          "input": [
            "as_strided(a, (k, n), (a.itemsize, a.itemsize))"
          ],
          "language": "python"
        },
        {
          "collapsed": false,
          "metadata": {},
          "cell_type": "code",
          "outputs": [],
          "input": [
            "id(a), id(as_strided(a, (k, n)))"
          ],
          "language": "python"
        },
        {
          "cell_type": "markdown",
          "source": [
            "The last value indicates an out-of-bounds problem: stride tricks can be dangerous as memory access is not checked. Here, we should take edge effects into account by limiting the shape of the array."
          ],
          "metadata": {}
        },
        {
          "collapsed": false,
          "metadata": {},
          "cell_type": "code",
          "outputs": [],
          "input": [
            "as_strided(a, (k, n - k + 1), (a.itemsize,)*2)"
          ],
          "language": "python"
        },
        {
          "cell_type": "markdown",
          "source": [
            "Let's apply this technique to calculate the rolling average of a random increasing signal."
          ],
          "metadata": {}
        },
        {
          "cell_type": "markdown",
          "source": [
            "First version using array copies."
          ],
          "metadata": {}
        },
        {
          "collapsed": false,
          "metadata": {},
          "cell_type": "code",
          "outputs": [],
          "input": [
            "def shift1(x, k):\n",
            "    return np.vstack([x[i:n-k+i+1] for i in range(k)])"
          ],
          "language": "python"
        },
        {
          "cell_type": "markdown",
          "source": [
            "Second version using stride tricks."
          ],
          "metadata": {}
        },
        {
          "collapsed": false,
          "metadata": {},
          "cell_type": "code",
          "outputs": [],
          "input": [
            "def shift2(x, k):\n",
            "    return as_strided(x, (k, n - k + 1), (8, 8))"
          ],
          "language": "python"
        },
        {
          "collapsed": false,
          "metadata": {},
          "cell_type": "code",
          "outputs": [],
          "input": [
            "b = shift1(a, k); b, id(b) == aid"
          ],
          "language": "python"
        },
        {
          "collapsed": false,
          "metadata": {},
          "cell_type": "code",
          "outputs": [],
          "input": [
            "c = shift2(a, k); c, id(c) == aid"
          ],
          "language": "python"
        },
        {
          "cell_type": "markdown",
          "source": [
            "Let's generate a signal."
          ],
          "metadata": {}
        },
        {
          "collapsed": false,
          "metadata": {},
          "cell_type": "code",
          "outputs": [],
          "input": [
            "n, k = 100, 10\n",
            "t = np.linspace(0., 1., n)\n",
            "x = t + .1 * np.random.randn(n)"
          ],
          "language": "python"
        },
        {
          "cell_type": "markdown",
          "source": [
            "We compute the signal rolling average by creating the shifted version of the signal, and averaging along the vertical dimension."
          ],
          "metadata": {}
        },
        {
          "collapsed": false,
          "metadata": {},
          "cell_type": "code",
          "outputs": [],
          "input": [
            "y = shift2(x, k)\n",
            "x_avg = y.mean(axis=0)"
          ],
          "language": "python"
        },
        {
          "cell_type": "markdown",
          "source": [
            "Let's plot the signal and its averaged version."
          ],
          "metadata": {}
        },
        {
          "collapsed": false,
          "metadata": {},
          "cell_type": "code",
          "outputs": [],
          "input": [
            "%matplotlib inline"
          ],
          "language": "python"
        },
        {
          "collapsed": false,
          "metadata": {},
          "cell_type": "code",
          "outputs": [],
          "input": [
            "import matplotlib.pyplot as plt"
          ],
          "language": "python"
        },
        {
          "collapsed": false,
          "metadata": {},
          "cell_type": "code",
          "outputs": [],
          "input": [
            "f = plt.figure()\n",
            "plt.plot(x[:-k+1], '-k');\n",
            "plt.plot(x_avg, '-r');"
          ],
          "language": "python"
        },
        {
          "cell_type": "markdown",
          "source": [
            "### Benchmarks"
          ],
          "metadata": {}
        },
        {
          "cell_type": "markdown",
          "source": [
            "Let's benchmark the first version (creation of the shifted array, and computation of the mean), which involves array copy."
          ],
          "metadata": {}
        },
        {
          "collapsed": false,
          "metadata": {},
          "cell_type": "code",
          "outputs": [],
          "input": [
            "%timeit shift1(x, k)"
          ],
          "language": "python"
        },
        {
          "collapsed": false,
          "metadata": {},
          "cell_type": "code",
          "outputs": [],
          "input": [
            "%%timeit y = shift1(x, k)\n",
            "z = y.mean(axis=0)"
          ],
          "language": "python"
        },
        {
          "cell_type": "markdown",
          "source": [
            "And the second version, using stride tricks."
          ],
          "metadata": {}
        },
        {
          "collapsed": false,
          "metadata": {},
          "cell_type": "code",
          "outputs": [],
          "input": [
            "%timeit shift2(x, k)"
          ],
          "language": "python"
        },
        {
          "collapsed": false,
          "metadata": {},
          "cell_type": "code",
          "outputs": [],
          "input": [
            "%%timeit y = shift2(x, k)\n",
            "z = y.mean(axis=0)"
          ],
          "language": "python"
        },
        {
          "cell_type": "markdown",
          "source": [
            "In the first version, most of the time is spent in the array copy, whereas in the stride trick version, most of the time is instead spent in the computation of the average."
          ],
          "metadata": {}
        },
        {
          "cell_type": "markdown",
          "source": [
            "> You'll find all the explanations, figures, references, and much more in the book (to be released later this summer).\n",
            "\n",
            "> [IPython Cookbook](http://ipython-books.github.io/), by [Cyrille Rossant](http://cyrille.rossant.net), Packt Publishing, 2014 (500 pages)."
          ],
          "metadata": {}
        }
      ]
    }
  ]
}
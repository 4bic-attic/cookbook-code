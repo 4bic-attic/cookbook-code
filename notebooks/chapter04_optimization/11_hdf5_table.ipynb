{
  "nbformat_minor": 0,
  "nbformat": 3,
  "metadata": {
    "signature": "sha256:3825624d6bf4f8e38eb125e50bfd8c7a90334b8b4a72b373a07c7ac2c38b8421",
    "name": ""
  },
  "worksheets": [
    {
      "metadata": {},
      "cells": [
        {
          "cell_type": "markdown",
          "source": [
            "> This is one of the 100 recipes of the [IPython Cookbook](http://ipython-books.github.io/), the definitive guide to high-performance scientific computing and data science in Python.\n"
          ],
          "metadata": {}
        },
        {
          "cell_type": "markdown",
          "source": [
            "# 4.11. Manipulating large heterogeneous tables with HDF5 and PyTables"
          ],
          "metadata": {}
        },
        {
          "collapsed": false,
          "metadata": {},
          "cell_type": "code",
          "outputs": [],
          "input": [
            "import numpy as np\n",
            "import tables as tb"
          ],
          "language": "python"
        },
        {
          "cell_type": "markdown",
          "source": [
            "We create a new HDF5 file."
          ],
          "metadata": {}
        },
        {
          "collapsed": false,
          "metadata": {},
          "cell_type": "code",
          "outputs": [],
          "input": [
            "f = tb.open_file('myfile.h5', 'w')"
          ],
          "language": "python"
        },
        {
          "cell_type": "markdown",
          "source": [
            "We will create a HDF5 table with two columns: the name of a city (a string with 64 characters at most), and its population (a 32 bit integer)."
          ],
          "metadata": {}
        },
        {
          "collapsed": false,
          "metadata": {},
          "cell_type": "code",
          "outputs": [],
          "input": [
            "dtype = np.dtype([('city', 'S64'), ('population', 'i4')])"
          ],
          "language": "python"
        },
        {
          "cell_type": "markdown",
          "source": [
            "Now, we create the table in '/table1'."
          ],
          "metadata": {}
        },
        {
          "collapsed": false,
          "metadata": {},
          "cell_type": "code",
          "outputs": [],
          "input": [
            "table = f.create_table('/', 'table1', dtype)"
          ],
          "language": "python"
        },
        {
          "cell_type": "markdown",
          "source": [
            "Let's add a few rows."
          ],
          "metadata": {}
        },
        {
          "collapsed": false,
          "metadata": {},
          "cell_type": "code",
          "outputs": [],
          "input": [
            "table.append([('Brussels', 1138854),\n",
            "              ('London',   8308369),\n",
            "              ('Paris',    2243833)])"
          ],
          "language": "python"
        },
        {
          "cell_type": "markdown",
          "source": [
            "After adding rows, we need to flush the table to commit the changes on disk."
          ],
          "metadata": {}
        },
        {
          "collapsed": false,
          "metadata": {},
          "cell_type": "code",
          "outputs": [],
          "input": [
            "table.flush()"
          ],
          "language": "python"
        },
        {
          "cell_type": "markdown",
          "source": [
            "Data can be obtained from the table with a lot of different ways in PyTables. The easiest but less efficient way is to load the entire table in memory, which returns a NumPy array."
          ],
          "metadata": {}
        },
        {
          "collapsed": false,
          "metadata": {},
          "cell_type": "code",
          "outputs": [],
          "input": [
            "table[:]"
          ],
          "language": "python"
        },
        {
          "cell_type": "markdown",
          "source": [
            "It is also possible to load a particular column (and all rows)."
          ],
          "metadata": {}
        },
        {
          "collapsed": false,
          "metadata": {},
          "cell_type": "code",
          "outputs": [],
          "input": [
            "table.col('city')"
          ],
          "language": "python"
        },
        {
          "cell_type": "markdown",
          "source": [
            "When dealing with a large number of rows, we can make a SQL-like query in the table to load all rows that satisfy particular conditions."
          ],
          "metadata": {}
        },
        {
          "collapsed": false,
          "metadata": {},
          "cell_type": "code",
          "outputs": [],
          "input": [
            "[row['city'] for row in table.where('population>2e6')]"
          ],
          "language": "python"
        },
        {
          "cell_type": "markdown",
          "source": [
            "Finally, we can access particular rows knowing their indices."
          ],
          "metadata": {}
        },
        {
          "collapsed": false,
          "metadata": {},
          "cell_type": "code",
          "outputs": [],
          "input": [
            "table[1]"
          ],
          "language": "python"
        },
        {
          "cell_type": "markdown",
          "source": [
            "Clean-up."
          ],
          "metadata": {}
        },
        {
          "collapsed": false,
          "metadata": {},
          "cell_type": "code",
          "outputs": [],
          "input": [
            "f.close()\n",
            "import os\n",
            "os.remove('myfile.h5')"
          ],
          "language": "python"
        },
        {
          "cell_type": "markdown",
          "source": [
            "> You'll find all the explanations, figures, references, and much more in the book (to be released later this summer).\n\n> [IPython Cookbook](http://ipython-books.github.io/), by [Cyrille Rossant](http://cyrille.rossant.net), Packt Publishing, 2014 (500 pages)."
          ],
          "metadata": {}
        }
      ]
    }
  ]
}
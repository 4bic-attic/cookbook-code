{
  "metadata": {
    "signature": "sha256:8589579fe1aeca45791fed279395b0b53061c1aa7cfdeac4d9d934919f29e81d",
    "name": ""
  },
  "nbformat": 3,
  "nbformat_minor": 0,
  "worksheets": [
    {
      "metadata": {},
      "cells": [
        {
          "cell_type": "markdown",
          "source": [
            "> This is one of the 100 recipes of the [IPython Cookbook](http://ipython-books.github.io/), the definitive guide to high-performance scientific computing and data science in Python.\n"
          ],
          "metadata": {}
        },
        {
          "cell_type": "markdown",
          "source": [
            "# 4.10. Manipulating large arrays with HDF5 and PyTables"
          ],
          "metadata": {}
        },
        {
          "collapsed": false,
          "metadata": {},
          "cell_type": "code",
          "outputs": [],
          "input": [
            "import numpy as np\n",
            "import tables as tb"
          ],
          "language": "python"
        },
        {
          "cell_type": "markdown",
          "source": [
            "## Creating an HDF5 file"
          ],
          "metadata": {}
        },
        {
          "cell_type": "markdown",
          "source": [
            "Let's create a new empty HDF5 file."
          ],
          "metadata": {}
        },
        {
          "collapsed": false,
          "metadata": {},
          "cell_type": "code",
          "outputs": [],
          "input": [
            "f = tb.open_file('myfile.h5', 'w')"
          ],
          "language": "python"
        },
        {
          "cell_type": "markdown",
          "source": [
            "We create a new top-level group named \"experiment1\"."
          ],
          "metadata": {}
        },
        {
          "collapsed": false,
          "metadata": {},
          "cell_type": "code",
          "outputs": [],
          "input": [
            "f.create_group('/', 'experiment1')"
          ],
          "language": "python"
        },
        {
          "cell_type": "markdown",
          "source": [
            "Let's also add some metadata to this group."
          ],
          "metadata": {}
        },
        {
          "collapsed": false,
          "metadata": {},
          "cell_type": "code",
          "outputs": [],
          "input": [
            "f.set_node_attr('/experiment1', 'date', '2014-09-01')"
          ],
          "language": "python"
        },
        {
          "cell_type": "markdown",
          "source": [
            "In this group, we create a 1000*1000 array named \"array1\"."
          ],
          "metadata": {}
        },
        {
          "collapsed": false,
          "metadata": {},
          "cell_type": "code",
          "outputs": [],
          "input": [
            "x = np.random.rand(1000, 1000)\n",
            "f.create_array('/experiment1', 'array1', x)"
          ],
          "language": "python"
        },
        {
          "cell_type": "markdown",
          "source": [
            "Finally, we need to close the file to commit the changes on disk."
          ],
          "metadata": {}
        },
        {
          "collapsed": false,
          "metadata": {},
          "cell_type": "code",
          "outputs": [],
          "input": [
            "f.close()"
          ],
          "language": "python"
        },
        {
          "cell_type": "markdown",
          "source": [
            "## Reading a HDF5 file"
          ],
          "metadata": {}
        },
        {
          "collapsed": false,
          "metadata": {},
          "cell_type": "code",
          "outputs": [],
          "input": [
            "f = tb.open_file('myfile.h5', 'r')"
          ],
          "language": "python"
        },
        {
          "cell_type": "markdown",
          "source": [
            "We can retrieve an attribute by giving the group path and the attribute name."
          ],
          "metadata": {}
        },
        {
          "collapsed": false,
          "metadata": {},
          "cell_type": "code",
          "outputs": [],
          "input": [
            "f.get_node_attr('/experiment1', 'date')"
          ],
          "language": "python"
        },
        {
          "cell_type": "markdown",
          "source": [
            "We can access any item in the file using attributes. IPython's tab completion is incredibly useful in this respect when exploring a file interactively."
          ],
          "metadata": {}
        },
        {
          "collapsed": false,
          "metadata": {},
          "cell_type": "code",
          "outputs": [],
          "input": [
            "y = f.root.experiment1.array1\n",
            "type(y)"
          ],
          "language": "python"
        },
        {
          "cell_type": "markdown",
          "source": [
            "The array can be used as a NumPy array, but an important distinction is that it is stored on disk instead of system memory. Performing a computation on this array triggers a preliminary loading of the array in memory, so that it is more efficient to only access views on this array."
          ],
          "metadata": {}
        },
        {
          "collapsed": false,
          "metadata": {},
          "cell_type": "code",
          "outputs": [],
          "input": [
            "np.array_equal(x[0,:], y[0,:])"
          ],
          "language": "python"
        },
        {
          "cell_type": "markdown",
          "source": [
            "It is also possible to get a node from its absolute path, which is useful when this path is only known at runtime."
          ],
          "metadata": {}
        },
        {
          "collapsed": false,
          "metadata": {},
          "cell_type": "code",
          "outputs": [],
          "input": [
            "f.get_node('/experiment1/array1')"
          ],
          "language": "python"
        },
        {
          "collapsed": false,
          "metadata": {},
          "cell_type": "code",
          "outputs": [],
          "input": [
            "f.close()"
          ],
          "language": "python"
        },
        {
          "cell_type": "markdown",
          "source": [
            "Clean-up."
          ],
          "metadata": {}
        },
        {
          "collapsed": false,
          "metadata": {},
          "cell_type": "code",
          "outputs": [],
          "input": [
            "import os\n",
            "os.remove('myfile.h5')"
          ],
          "language": "python"
        },
        {
          "cell_type": "markdown",
          "source": [
            "> You'll find all the explanations, figures, references, and much more in the book (to be released later this summer).\n",
            "\n",
            "> [IPython Cookbook](http://ipython-books.github.io/), by [Cyrille Rossant](http://cyrille.rossant.net), Packt Publishing, 2014 (500 pages)."
          ],
          "metadata": {}
        }
      ]
    }
  ]
}
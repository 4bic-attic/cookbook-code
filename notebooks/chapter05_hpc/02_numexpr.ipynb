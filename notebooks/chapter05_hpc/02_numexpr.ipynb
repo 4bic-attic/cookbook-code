{
  "metadata": {
    "signature": "sha256:9f3072f113fc338fc8166eb9ca37743161b7df7e8b298ed4179c78cf25168c0c",
    "name": ""
  },
  "nbformat": 3,
  "nbformat_minor": 0,
  "worksheets": [
    {
      "metadata": {},
      "cells": [
        {
          "cell_type": "markdown",
          "source": [
            "> This is one of the 100 recipes of the [IPython Cookbook](http://ipython-books.github.io/), the definitive guide to high-performance scientific computing and data science in Python.\n"
          ],
          "metadata": {}
        },
        {
          "cell_type": "markdown",
          "source": [
            "# 5.2. Accelerating array computations with Numexpr"
          ],
          "metadata": {}
        },
        {
          "cell_type": "markdown",
          "source": [
            "Let's import NumPy and Numexpr."
          ],
          "metadata": {}
        },
        {
          "collapsed": false,
          "metadata": {},
          "cell_type": "code",
          "outputs": [],
          "input": [
            "import numpy as np\n",
            "import numexpr as ne"
          ],
          "language": "python"
        },
        {
          "cell_type": "markdown",
          "source": [
            "We generate three large vectors."
          ],
          "metadata": {}
        },
        {
          "collapsed": false,
          "metadata": {},
          "cell_type": "code",
          "outputs": [],
          "input": [
            "x, y, z = np.random.rand(3, 1000000)"
          ],
          "language": "python"
        },
        {
          "cell_type": "markdown",
          "source": [
            "Now, we evaluate the time taken by NumPy to calculate a complex algebraic expression involving our vectors."
          ],
          "metadata": {}
        },
        {
          "collapsed": false,
          "metadata": {},
          "cell_type": "code",
          "outputs": [],
          "input": [
            "%timeit x + (y**2 + (z*x + 1)*3)"
          ],
          "language": "python"
        },
        {
          "cell_type": "markdown",
          "source": [
            "And now, the same calculation performed by Numexpr. We need to give the formula as a string as Numexpr will parse it and compile it."
          ],
          "metadata": {}
        },
        {
          "collapsed": false,
          "metadata": {},
          "cell_type": "code",
          "outputs": [],
          "input": [
            "%timeit ne.evaluate('x + (y**2 + (z*x + 1)*3)')"
          ],
          "language": "python"
        },
        {
          "cell_type": "markdown",
          "source": [
            "Numexpr also makes use of multicore processors. Here, we have 4 physical cores and 8 virtual threads with hyperthreading. We can specify how many cores we want numexpr to use."
          ],
          "metadata": {}
        },
        {
          "collapsed": false,
          "metadata": {},
          "cell_type": "code",
          "outputs": [],
          "input": [
            "ne.ncores"
          ],
          "language": "python"
        },
        {
          "collapsed": false,
          "metadata": {},
          "cell_type": "code",
          "outputs": [],
          "input": [
            "for i in range(1, 5):\n",
            "    ne.set_num_threads(i)\n",
            "    %timeit ne.evaluate('x + (y**2 + (z*x + 1)*3)')"
          ],
          "language": "python"
        },
        {
          "cell_type": "markdown",
          "source": [
            "> You'll find all the explanations, figures, references, and much more in the book (to be released later this summer).\n",
            "\n",
            "> [IPython Cookbook](http://ipython-books.github.io/), by [Cyrille Rossant](http://cyrille.rossant.net), Packt Publishing, 2014 (500 pages)."
          ],
          "metadata": {}
        }
      ]
    }
  ]
}
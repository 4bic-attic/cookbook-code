{
  "metadata": {
    "signature": "sha256:777507e061a5a6b38bcb93a0a7a91cc1bf0ac7c02c425ffcad10c3e6cc70c7d7",
    "name": ""
  },
  "nbformat": 3,
  "nbformat_minor": 0,
  "worksheets": [
    {
      "metadata": {},
      "cells": [
        {
          "cell_type": "markdown",
          "source": [
            "> This is one of the 100 recipes of the [IPython Cookbook](http://ipython-books.github.io/), the definitive guide to high-performance scientific computing and data science in Python.\n"
          ],
          "metadata": {}
        },
        {
          "cell_type": "markdown",
          "source": [
            "# 5.9. Distributing Python code across multiple cores with IPython"
          ],
          "metadata": {}
        },
        {
          "cell_type": "markdown",
          "source": [
            "First, we launch 4 IPython engines with `ipcluster start -n 4` in a console."
          ],
          "metadata": {}
        },
        {
          "cell_type": "markdown",
          "source": [
            "Then, we create a client that will act as a proxy to the IPython engines. The client automatically detects the running engines."
          ],
          "metadata": {}
        },
        {
          "collapsed": false,
          "metadata": {},
          "cell_type": "code",
          "outputs": [],
          "input": [
            "from IPython.parallel import Client\n",
            "rc = Client()"
          ],
          "language": "python"
        },
        {
          "cell_type": "markdown",
          "source": [
            "Let's check the number of running engines."
          ],
          "metadata": {}
        },
        {
          "collapsed": false,
          "metadata": {},
          "cell_type": "code",
          "outputs": [],
          "input": [
            "rc.ids"
          ],
          "language": "python"
        },
        {
          "cell_type": "markdown",
          "source": [
            "To run commands in parallel over the engines, we can use the %px magic or the %%px cell magic."
          ],
          "metadata": {}
        },
        {
          "collapsed": false,
          "metadata": {},
          "cell_type": "code",
          "outputs": [],
          "input": [
            "%%px\n",
            "import os\n",
            "print(\"Process {0:d}.\".format(os.getpid()))"
          ],
          "language": "python"
        },
        {
          "cell_type": "markdown",
          "source": [
            "We can specify which engines to run the commands on using the --targets or -t option."
          ],
          "metadata": {}
        },
        {
          "collapsed": false,
          "metadata": {},
          "cell_type": "code",
          "outputs": [],
          "input": [
            "%%px -t 1,2\n",
            "# The os module has already been imported in the previous cell.\n",
            "print(\"Process {0:d}.\".format(os.getpid()))"
          ],
          "language": "python"
        },
        {
          "cell_type": "markdown",
          "source": [
            "By default, the %px magic executes commands in blocking mode: the cell returns when the commands have completed on all engines. It is possible to run non-blocking commands with the --noblock or -a option. In this case, the cell returns immediately, and the task's status and the results can be polled asynchronously from the IPython interactive session."
          ],
          "metadata": {}
        },
        {
          "collapsed": false,
          "metadata": {},
          "cell_type": "code",
          "outputs": [],
          "input": [
            "%%px -a\n",
            "import time\n",
            "time.sleep(5)"
          ],
          "language": "python"
        },
        {
          "cell_type": "markdown",
          "source": [
            "The previous command returned an ASyncResult instance that we can use to poll the task's status."
          ],
          "metadata": {}
        },
        {
          "collapsed": false,
          "metadata": {},
          "cell_type": "code",
          "outputs": [],
          "input": [
            "print(_.elapsed, _.ready())"
          ],
          "language": "python"
        },
        {
          "cell_type": "markdown",
          "source": [
            "The %pxresult blocks until the task finishes."
          ],
          "metadata": {}
        },
        {
          "collapsed": false,
          "metadata": {},
          "cell_type": "code",
          "outputs": [],
          "input": [
            "%pxresult"
          ],
          "language": "python"
        },
        {
          "collapsed": false,
          "metadata": {},
          "cell_type": "code",
          "outputs": [],
          "input": [
            "print(_.elapsed, _.ready())"
          ],
          "language": "python"
        },
        {
          "cell_type": "markdown",
          "source": [
            "IPython provides convenient functions for most common use-cases, like a parallel map function."
          ],
          "metadata": {}
        },
        {
          "collapsed": false,
          "metadata": {},
          "cell_type": "code",
          "outputs": [],
          "input": [
            "v = rc[:]\n",
            "res = v.map(lambda x: x*x, range(10))"
          ],
          "language": "python"
        },
        {
          "collapsed": false,
          "metadata": {},
          "cell_type": "code",
          "outputs": [],
          "input": [
            "print(res.get())"
          ],
          "language": "python"
        },
        {
          "cell_type": "markdown",
          "source": [
            "> You'll find all the explanations, figures, references, and much more in the book (to be released later this summer).\n",
            "\n",
            "> [IPython Cookbook](http://ipython-books.github.io/), by [Cyrille Rossant](http://cyrille.rossant.net), Packt Publishing, 2014 (500 pages)."
          ],
          "metadata": {}
        }
      ]
    }
  ]
}
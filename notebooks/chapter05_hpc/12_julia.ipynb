{
  "metadata": {
    "signature": "sha256:c9f241411a20ab5566f6fa6ce9ab5ea78b7d08063a76e1e6e2d9031f6459e6db",
    "language": "Julia",
    "name": ""
  },
  "nbformat": 3,
  "nbformat_minor": 0,
  "worksheets": [
    {
      "metadata": {},
      "cells": [
        {
          "cell_type": "markdown",
          "source": [
            "> This is one of the 100 recipes of the [IPython Cookbook](http://ipython-books.github.io/), the definitive guide to high-performance scientific computing and data science in Python."
          ],
          "metadata": {}
        },
        {
          "cell_type": "markdown",
          "source": [
            "# 5.12. Trying the Julia language in the notebook"
          ],
          "metadata": {}
        },
        {
          "cell_type": "markdown",
          "source": [
            "For this recipe, you need to install Julia and IJulia. You'll find the installation instructions in the book."
          ],
          "metadata": {}
        },
        {
          "cell_type": "markdown",
          "source": [
            "1. We can't avoid the customary *Hello World* example. The `println()` function displays a string and adds a line break at the end."
          ],
          "metadata": {}
        },
        {
          "collapsed": false,
          "metadata": {},
          "cell_type": "code",
          "outputs": [],
          "input": [
            "println(\"Hello world!\")"
          ],
          "language": "python"
        },
        {
          "cell_type": "markdown",
          "source": [
            "2. We create a polymorphic function `f` that computes the expression $z*z+c$. We will notably evaluate this function on arrays, so we use elementwise operators with a dot (`.`) prefix."
          ],
          "metadata": {}
        },
        {
          "collapsed": false,
          "metadata": {},
          "cell_type": "code",
          "outputs": [],
          "input": [
            "f(z, c) = z.*z .+ c"
          ],
          "language": "python"
        },
        {
          "cell_type": "markdown",
          "source": [
            "3. Let's evaluate `f` on scalar complex numbers (the imaginary number $i$ is `1im`)."
          ],
          "metadata": {}
        },
        {
          "collapsed": false,
          "metadata": {},
          "cell_type": "code",
          "outputs": [],
          "input": [
            "f(2.0 + 1.0im, 1.0)"
          ],
          "language": "python"
        },
        {
          "cell_type": "markdown",
          "source": [
            "4. Now, we create a `(2, 2)` matrix. Components are separated by a space, rows are separated by a semicolon (`;`). The type of this `Array` is automatically inferred from its components. The `Array` type is a built-in data type in Julia, similar, but not identical, to NumPy's `ndarray` type."
          ],
          "metadata": {}
        },
        {
          "collapsed": false,
          "metadata": {},
          "cell_type": "code",
          "outputs": [],
          "input": [
            "z = [-1.0 - 1.0im  1.0 - 1.0im;\n",
            "     -1.0 + 1.0im  1.0 + 1.0im]"
          ],
          "language": "python"
        },
        {
          "cell_type": "markdown",
          "source": [
            "5. We can index arrays with brackets `[]`. A notable difference with Python is that indexing starts from 1 instead of 0. MATLAB has the same convention. Besides, the keyword `end` refers to the last item in that dimension."
          ],
          "metadata": {}
        },
        {
          "collapsed": false,
          "metadata": {},
          "cell_type": "code",
          "outputs": [],
          "input": [
            "z[1,end]"
          ],
          "language": "python"
        },
        {
          "cell_type": "markdown",
          "source": [
            "6. We can evaluate `f` on the matrix `z` and a scalar `c` (polymorphism)."
          ],
          "metadata": {}
        },
        {
          "collapsed": false,
          "metadata": {},
          "cell_type": "code",
          "outputs": [],
          "input": [
            "f(z, 0)"
          ],
          "language": "python"
        },
        {
          "cell_type": "markdown",
          "source": [
            "7. Now, we create a function `julia` that computes a Julia set. Optional named arguments are separated from positional arguments by a semicolon (`;`). Julia's syntax for flow control is close from Python's, except that colons are dropped, indentation doesn't count, and block `end` keywords are mandatory."
          ],
          "metadata": {}
        },
        {
          "collapsed": false,
          "metadata": {},
          "cell_type": "code",
          "outputs": [],
          "input": [
            "function julia(z, c; maxiter=200)\n",
            "    for n = 1:maxiter\n",
            "        if abs2(z) > 4.0\n",
            "            return n-1\n",
            "        end\n",
            "        z = f(z, c)\n",
            "    end\n",
            "    return maxiter\n",
            "end"
          ],
          "language": "python"
        },
        {
          "cell_type": "markdown",
          "source": [
            "8. We can use Python packages from Julia. First, we have to install the `PyCall` package by using Julia's built-in package manager (`Pkg`). Once the package is installed, we can use it in the interactive session with `using PyCall`."
          ],
          "metadata": {}
        },
        {
          "collapsed": false,
          "metadata": {},
          "cell_type": "code",
          "outputs": [],
          "input": [
            "Pkg.add(\"PyCall\")\n",
            "using PyCall"
          ],
          "language": "python"
        },
        {
          "cell_type": "markdown",
          "source": [
            "9. We can import Python packages with the `@pyimport` **macro** (a metaprogramming feature in Julia). This macro is the equivalent of Python's `import` command."
          ],
          "metadata": {}
        },
        {
          "collapsed": false,
          "metadata": {},
          "cell_type": "code",
          "outputs": [],
          "input": [
            "@pyimport numpy as np"
          ],
          "language": "python"
        },
        {
          "cell_type": "markdown",
          "source": [
            "10. The `np` namespace is now available in the Julia interactive session. NumPy arrays are automatically converted to Julia `Array`s."
          ],
          "metadata": {}
        },
        {
          "collapsed": false,
          "metadata": {},
          "cell_type": "code",
          "outputs": [],
          "input": [
            "z = np.linspace(-1., 1., 100)"
          ],
          "language": "python"
        },
        {
          "cell_type": "markdown",
          "source": [
            "11. We can use list comprehensions to evaluate the function `julia` on many arguments."
          ],
          "metadata": {}
        },
        {
          "collapsed": false,
          "metadata": {},
          "cell_type": "code",
          "outputs": [],
          "input": [
            "m = [julia(z[i], 0.5) for i=1:100]"
          ],
          "language": "python"
        },
        {
          "cell_type": "markdown",
          "source": [
            "12. Let's try the Gadfly plotting package. This library offers a high-level plotting interface inspired by Grammar of Graphics. In the notebook, plots are interactive thanks to the **d3.js** library."
          ],
          "metadata": {}
        },
        {
          "collapsed": false,
          "metadata": {},
          "cell_type": "code",
          "outputs": [],
          "input": [
            "Pkg.add(\"Gadfly\")\n",
            "using Gadfly"
          ],
          "language": "python"
        },
        {
          "collapsed": false,
          "metadata": {},
          "cell_type": "code",
          "outputs": [],
          "input": [
            "plot(x=1:100, y=m, Geom.point, Geom.line)"
          ],
          "language": "python"
        },
        {
          "cell_type": "markdown",
          "source": [
            "13. Now, we compute a Julia set by using two nested loops. In general, and unlike Python, there is no significant performance penalty using `for` loops instead of vectorized operations in Julia. High-performance code can be written either with vectorized operations or `for` loops."
          ],
          "metadata": {}
        },
        {
          "collapsed": false,
          "metadata": {},
          "cell_type": "code",
          "outputs": [],
          "input": [
            "@time m = [julia(complex(r, i), complex(-0.06, 0.67)) \n",
            "           for i = 1:-.001:-1,\n",
            "               r = -1.5:.001:1.5];"
          ],
          "language": "python"
        },
        {
          "cell_type": "markdown",
          "source": [
            "14. Finally, we use the `PyPlot` package to draw matplotlib figures in Julia."
          ],
          "metadata": {}
        },
        {
          "collapsed": false,
          "metadata": {},
          "cell_type": "code",
          "outputs": [],
          "input": [
            "Pkg.add(\"PyPlot\")\n",
            "using PyPlot"
          ],
          "language": "python"
        },
        {
          "collapsed": false,
          "metadata": {},
          "cell_type": "code",
          "outputs": [],
          "input": [
            "imshow(m, cmap=\"RdGy\", \n",
            "       extent=[-1.5, 1.5, -1, 1]);"
          ],
          "language": "python"
        },
        {
          "cell_type": "markdown",
          "source": [
            "> You'll find all the explanations, figures, references, and much more in the book (to be released later this summer).\n",
            "\n",
            "> [IPython Cookbook](http://ipython-books.github.io/), by [Cyrille Rossant](http://cyrille.rossant.net), Packt Publishing, 2014 (500 pages)."
          ],
          "metadata": {}
        }
      ]
    }
  ]
}
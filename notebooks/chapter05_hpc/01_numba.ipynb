{
  "metadata": {
    "signature": "sha256:b27bacf4cc6c3b83c0b9ffd97f19b3a230a741dc1815ac1e76c5f97417ff59dd",
    "name": ""
  },
  "nbformat": 3,
  "nbformat_minor": 0,
  "worksheets": [
    {
      "metadata": {},
      "cells": [
        {
          "cell_type": "markdown",
          "source": [
            "> This is one of the 100 recipes of the [IPython Cookbook](http://ipython-books.github.io/), the definitive guide to high-performance scientific computing and data science in Python.\n"
          ],
          "metadata": {}
        },
        {
          "cell_type": "markdown",
          "source": [
            "# 5.1. Accelerating pure Python code with Numba and Just-In-Time compilation"
          ],
          "metadata": {}
        },
        {
          "cell_type": "markdown",
          "source": [
            "In this example, we first write a pure Python version of a function that generates a Mandelbrot fractal. Then, we use Numba to compile it dynamically to native code."
          ],
          "metadata": {}
        },
        {
          "collapsed": false,
          "metadata": {},
          "cell_type": "code",
          "outputs": [],
          "input": [
            "import numpy as np"
          ],
          "language": "python"
        },
        {
          "cell_type": "markdown",
          "source": [
            "We initialize the simulation and generate the grid\n",
            "in the complex plane."
          ],
          "metadata": {}
        },
        {
          "collapsed": false,
          "metadata": {},
          "cell_type": "code",
          "outputs": [],
          "input": [
            "size = 200\n",
            "iterations = 100"
          ],
          "language": "python"
        },
        {
          "cell_type": "markdown",
          "source": [
            "## Pure Python version"
          ],
          "metadata": {}
        },
        {
          "cell_type": "markdown",
          "source": [
            "The following function generates the fractal."
          ],
          "metadata": {}
        },
        {
          "collapsed": false,
          "metadata": {},
          "cell_type": "code",
          "outputs": [],
          "input": [
            "def mandelbrot_python(m, size, iterations):\n",
            "    for i in range(size):\n",
            "        for j in range(size):\n",
            "            c = -2 + 3./size*j + 1j*(1.5-3./size*i)\n",
            "            z = 0\n",
            "            for n in range(iterations):\n",
            "                if np.abs(z) <= 10:\n",
            "                    z = z*z + c\n",
            "                    m[i, j] = n\n",
            "                else:\n",
            "                    break"
          ],
          "language": "python"
        },
        {
          "collapsed": false,
          "metadata": {},
          "cell_type": "code",
          "outputs": [],
          "input": [
            "m = np.zeros((size, size))\n",
            "mandelbrot_python(m, size, iterations)"
          ],
          "language": "python"
        },
        {
          "collapsed": false,
          "metadata": {},
          "cell_type": "code",
          "outputs": [],
          "input": [
            "import matplotlib.pyplot as plt\n",
            "%matplotlib inline\n",
            "plt.imshow(np.log(m), cmap=plt.cm.hot,);\n",
            "plt.xticks([]); plt.yticks([]);"
          ],
          "language": "python"
        },
        {
          "collapsed": false,
          "metadata": {},
          "cell_type": "code",
          "outputs": [],
          "input": [
            "%%timeit m = np.zeros((size, size))\n",
            "mandelbrot_python(m, size, iterations)"
          ],
          "language": "python"
        },
        {
          "cell_type": "markdown",
          "source": [
            "## Numba version"
          ],
          "metadata": {}
        },
        {
          "cell_type": "markdown",
          "source": [
            "We first import Numba."
          ],
          "metadata": {}
        },
        {
          "collapsed": false,
          "metadata": {},
          "cell_type": "code",
          "outputs": [],
          "input": [
            "import numba\n",
            "from numba import jit, complex128"
          ],
          "language": "python"
        },
        {
          "cell_type": "markdown",
          "source": [
            "Now, we just add the `@jit` decorator to the exact same function."
          ],
          "metadata": {}
        },
        {
          "collapsed": false,
          "metadata": {},
          "cell_type": "code",
          "outputs": [],
          "input": [
            "@jit(locals=dict(c=complex128, z=complex128))\n",
            "def mandelbrot_numba(m, size, iterations):\n",
            "    for i in range(size):\n",
            "        for j in range(size):\n",
            "            c = -2 + 3./size*j + 1j*(1.5-3./size*i)\n",
            "            z = 0\n",
            "            for n in range(iterations):\n",
            "                if abs(z) <= 10:\n",
            "                    z = z*z + c\n",
            "                    m[i, j] = n\n",
            "                else:\n",
            "                    break"
          ],
          "language": "python"
        },
        {
          "collapsed": false,
          "metadata": {},
          "cell_type": "code",
          "outputs": [],
          "input": [
            "m = np.zeros((size, size))\n",
            "mandelbrot_numba(m, size, iterations)"
          ],
          "language": "python"
        },
        {
          "collapsed": false,
          "metadata": {},
          "cell_type": "code",
          "outputs": [],
          "input": [
            "%%timeit m = np.zeros((size, size))\n",
            "mandelbrot_numba(m, size, iterations)"
          ],
          "language": "python"
        },
        {
          "cell_type": "markdown",
          "source": [
            "The Numba version is 250 times faster than the pure Python version here!"
          ],
          "metadata": {}
        },
        {
          "cell_type": "markdown",
          "source": [
            "> You'll find all the explanations, figures, references, and much more in the book (to be released later this summer).\n",
            "\n",
            "> [IPython Cookbook](http://ipython-books.github.io/), by [Cyrille Rossant](http://cyrille.rossant.net), Packt Publishing, 2014 (500 pages)."
          ],
          "metadata": {}
        }
      ]
    }
  ]
}
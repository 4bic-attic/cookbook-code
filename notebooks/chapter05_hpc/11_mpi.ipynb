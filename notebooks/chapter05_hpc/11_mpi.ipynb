{
 "metadata": {
  "name": "",
  "signature": "sha256:36700138892ccc6e580b3f5bf11affd6a83785f7665f1e211b823818f0f69653"
 },
 "nbformat": 3,
 "nbformat_minor": 0,
 "worksheets": [
  {
   "cells": [
    {
     "cell_type": "markdown",
     "metadata": {},
     "source": [
      "> This is one of the 100 recipes of the [IPython Cookbook](http://ipython-books.github.io/), the definitive guide to high-performance scientific computing and data science in Python."
     ]
    },
    {
     "cell_type": "markdown",
     "metadata": {
      "word_id": "4818_05_mpi"
     },
     "source": [
      "# 5.11. Using MPI with IPython"
     ]
    },
    {
     "cell_type": "markdown",
     "metadata": {},
     "source": [
      "To use MPI with IPython you need:\n",
      "\n",
      "* A standard MPI implementation such as [OpenMPI](http://www.open-mpi.org) or [MPICH](http://www.mpich.org).\n",
      "* The [mpi4py package](http://mpi4py.scipy.org).\n",
      "\n",
      "For example, here are the commands to install MPI for IPython on Ubuntu:\n",
      "\n",
      "    > sudo apt-get install libcr-dev mpich2 mpich2-doc\n",
      "    > sudo apt-get install python-mpi4py"
     ]
    },
    {
     "cell_type": "markdown",
     "metadata": {},
     "source": [
      "1. We first need to create a MPI profile with:"
     ]
    },
    {
     "cell_type": "code",
     "collapsed": false,
     "input": [
      "!ipython profile create --parallel --profile=mpi"
     ],
     "language": "python",
     "metadata": {},
     "outputs": []
    },
    {
     "cell_type": "markdown",
     "metadata": {},
     "source": [
      "2. Then, we need to open `~/.ipython/profile_mpi/ipcluster_config.py` and add the line `c.IPClusterEngines.engine_launcher_class = 'MPI'`."
     ]
    },
    {
     "cell_type": "markdown",
     "metadata": {},
     "source": [
      "3. Once the MPI profile has been created and configured, we can launch the engines in the IPython dashboard, by selecting the number of engines (e.g. one per processor) in the *Clusters* tab, *MPI* profile, and pressing *Start*. Alternatively, we can run in a terminal: `ipcluster start -n 2 --engines MPI --profile=mpi`."
     ]
    },
    {
     "cell_type": "markdown",
     "metadata": {},
     "source": [
      "4. Now, to actually use the engines, we create a MPI client in the notebook."
     ]
    },
    {
     "cell_type": "code",
     "collapsed": false,
     "input": [
      "import numpy as np\n",
      "from IPython.parallel import Client"
     ],
     "language": "python",
     "metadata": {},
     "outputs": []
    },
    {
     "cell_type": "code",
     "collapsed": false,
     "input": [
      "c = Client(profile='mpi')"
     ],
     "language": "python",
     "metadata": {},
     "outputs": []
    },
    {
     "cell_type": "markdown",
     "metadata": {},
     "source": [
      "5. Let's create a view on all engines."
     ]
    },
    {
     "cell_type": "code",
     "collapsed": false,
     "input": [
      "view = c[:]"
     ],
     "language": "python",
     "metadata": {},
     "outputs": []
    },
    {
     "cell_type": "markdown",
     "metadata": {},
     "source": [
      "6. In this example, we compute the sum of all integers between 0 and 15 in parallel over two cores. We first distribute the array with the 16 values across the engines (each engine gets a subarray)."
     ]
    },
    {
     "cell_type": "code",
     "collapsed": false,
     "input": [
      "view.scatter('a', np.arange(16., dtype='float'))"
     ],
     "language": "python",
     "metadata": {},
     "outputs": []
    },
    {
     "cell_type": "markdown",
     "metadata": {},
     "source": [
      "7. We compute the total sum in parallel using MPI's `allreduce` function. Every node makes the same computation and returns the same result."
     ]
    },
    {
     "cell_type": "code",
     "collapsed": false,
     "input": [
      "%%px\n",
      "from mpi4py import MPI\n",
      "import numpy as np\n",
      "print MPI.COMM_WORLD.allreduce(np.sum(a), op=MPI.SUM)"
     ],
     "language": "python",
     "metadata": {},
     "outputs": []
    },
    {
     "cell_type": "markdown",
     "metadata": {},
     "source": [
      "> You'll find all the explanations, figures, references, and much more in the book (to be released later this summer).\n",
      "\n",
      "> [IPython Cookbook](http://ipython-books.github.io/), by [Cyrille Rossant](http://cyrille.rossant.net), Packt Publishing, 2014 (400 pages). [Get a 50% discount by pre-ordering now](http://www.packtpub.com/ipython-interactive-computing-and-visualization-cookbook/book) with the code `mK00gPxQM` (time-limited offer)!"
     ]
    }
   ],
   "metadata": {}
  }
 ]
}
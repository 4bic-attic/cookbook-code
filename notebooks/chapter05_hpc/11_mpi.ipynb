{
  "metadata": {
    "signature": "sha256:311eded5d086bea3ca60a085bf3d6026103c5df55ca5b0c1a3119615bbf8811e",
    "name": ""
  },
  "nbformat": 3,
  "nbformat_minor": 0,
  "worksheets": [
    {
      "metadata": {},
      "cells": [
        {
          "cell_type": "markdown",
          "source": [
            "> This is one of the 100 recipes of the [IPython Cookbook](http://ipython-books.github.io/), the definitive guide to high-performance scientific computing and data science in Python."
          ],
          "metadata": {}
        },
        {
          "cell_type": "markdown",
          "source": [
            "# 5.11. Using MPI with IPython"
          ],
          "metadata": {
            "word_id": "4818_05_mpi"
          }
        },
        {
          "cell_type": "markdown",
          "source": [
            "For this recipe, you need a MPI installation and the mpi4py package."
          ],
          "metadata": {}
        },
        {
          "cell_type": "markdown",
          "source": [
            "1. We first need to create a MPI profile with:"
          ],
          "metadata": {}
        },
        {
          "collapsed": false,
          "metadata": {},
          "cell_type": "code",
          "outputs": [],
          "input": [
            "!ipython profile create --parallel --profile=mpi"
          ],
          "language": "python"
        },
        {
          "cell_type": "markdown",
          "source": [
            "2. Then, we need to open `~/.ipython/profile_mpi/ipcluster_config.py` and add the line `c.IPClusterEngines.engine_launcher_class = 'MPI'`."
          ],
          "metadata": {}
        },
        {
          "cell_type": "markdown",
          "source": [
            "3. Once the MPI profile has been created and configured, we can launch the engines with: `ipcluster start -n 4 --engines MPI --profile=mpi` in a terminal."
          ],
          "metadata": {}
        },
        {
          "cell_type": "markdown",
          "source": [
            "4. Now, to actually use the engines, we create a MPI client in the notebook."
          ],
          "metadata": {}
        },
        {
          "collapsed": false,
          "metadata": {},
          "cell_type": "code",
          "outputs": [],
          "input": [
            "import numpy as np\n",
            "from IPython.parallel import Client"
          ],
          "language": "python"
        },
        {
          "collapsed": false,
          "metadata": {},
          "cell_type": "code",
          "outputs": [],
          "input": [
            "c = Client(profile='mpi')"
          ],
          "language": "python"
        },
        {
          "cell_type": "markdown",
          "source": [
            "5. Let's create a view on all engines."
          ],
          "metadata": {}
        },
        {
          "collapsed": false,
          "metadata": {},
          "cell_type": "code",
          "outputs": [],
          "input": [
            "view = c[:]"
          ],
          "language": "python"
        },
        {
          "cell_type": "markdown",
          "source": [
            "6. In this example, we compute the sum of all integers between 0 and 15 in parallel over two cores. We first distribute the array with the 16 values across the engines (each engine gets a subarray)."
          ],
          "metadata": {}
        },
        {
          "collapsed": false,
          "metadata": {},
          "cell_type": "code",
          "outputs": [],
          "input": [
            "view.scatter('a', np.arange(16., dtype='float'))"
          ],
          "language": "python"
        },
        {
          "cell_type": "markdown",
          "source": [
            "7. We compute the total sum in parallel using MPI's `allreduce` function. Every node makes the same computation and returns the same result."
          ],
          "metadata": {}
        },
        {
          "collapsed": false,
          "metadata": {},
          "cell_type": "code",
          "outputs": [],
          "input": [
            "%%px\n",
            "from mpi4py import MPI\n",
            "import numpy as np\n",
            "print(MPI.COMM_WORLD.allreduce(np.sum(a), op=MPI.SUM))"
          ],
          "language": "python"
        },
        {
          "cell_type": "markdown",
          "source": [
            "> You'll find all the explanations, figures, references, and much more in the book (to be released later this summer).\n",
            "\n",
            "> [IPython Cookbook](http://ipython-books.github.io/), by [Cyrille Rossant](http://cyrille.rossant.net), Packt Publishing, 2014 (500 pages)."
          ],
          "metadata": {}
        }
      ]
    }
  ]
}
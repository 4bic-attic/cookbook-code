{
  "nbformat_minor": 0,
  "nbformat": 3,
  "metadata": {
    "signature": "sha256:366b657ed28b4fb92f704f9e62e50cf5d894f1888f3b6082e53265b6e79d9be8",
    "name": ""
  },
  "worksheets": [
    {
      "metadata": {},
      "cells": [
        {
          "cell_type": "markdown",
          "source": [
            "> This is one of the 100 recipes of the [IPython Cookbook](http://ipython-books.github.io/), the definitive guide to high-performance scientific computing and data science in Python.\n"
          ],
          "metadata": {}
        },
        {
          "cell_type": "markdown",
          "source": [
            "# 5.4. Accelerating Python code with Cython"
          ],
          "metadata": {}
        },
        {
          "cell_type": "markdown",
          "source": [
            "We use Cython to accelerate the generation of the Mandelbrot fractal."
          ],
          "metadata": {}
        },
        {
          "collapsed": false,
          "metadata": {},
          "cell_type": "code",
          "outputs": [],
          "input": [
            "import numpy as np"
          ],
          "language": "python"
        },
        {
          "cell_type": "markdown",
          "source": [
            "We initialize the simulation and generate the grid\n",
            "in the complex plane."
          ],
          "metadata": {}
        },
        {
          "collapsed": false,
          "metadata": {},
          "cell_type": "code",
          "outputs": [],
          "input": [
            "size = 200\n",
            "iterations = 100"
          ],
          "language": "python"
        },
        {
          "cell_type": "markdown",
          "source": [
            "## Pure Python"
          ],
          "metadata": {}
        },
        {
          "collapsed": false,
          "metadata": {},
          "cell_type": "code",
          "outputs": [],
          "input": [
            "def mandelbrot_python(m, size, iterations):\n",
            "    for i in range(size):\n",
            "        for j in range(size):\n",
            "            c = -2 + 3./size*j + 1j*(1.5-3./size*i)\n",
            "            z = 0\n",
            "            for n in range(iterations):\n",
            "                if np.abs(z) <= 10:\n",
            "                    z = z*z + c\n",
            "                    m[i, j] = n\n",
            "                else:\n",
            "                    break"
          ],
          "language": "python"
        },
        {
          "collapsed": false,
          "metadata": {},
          "cell_type": "code",
          "outputs": [],
          "input": [
            "%%timeit -n1 -r1 m = np.zeros((size, size))\n",
            "mandelbrot_python(m, size, iterations)"
          ],
          "language": "python"
        },
        {
          "cell_type": "markdown",
          "source": [
            "## Cython versions"
          ],
          "metadata": {}
        },
        {
          "cell_type": "markdown",
          "source": [
            "We first import Cython."
          ],
          "metadata": {}
        },
        {
          "collapsed": false,
          "metadata": {},
          "cell_type": "code",
          "outputs": [],
          "input": [
            "%load_ext cythonmagic"
          ],
          "language": "python"
        },
        {
          "cell_type": "markdown",
          "source": [
            "### Take 1"
          ],
          "metadata": {}
        },
        {
          "cell_type": "markdown",
          "source": [
            "First, we just add the %%cython magic."
          ],
          "metadata": {}
        },
        {
          "collapsed": false,
          "metadata": {},
          "cell_type": "code",
          "outputs": [],
          "input": [
            "%%cython -a\n",
            "import numpy as np\n",
            "\n",
            "def mandelbrot_cython(m, size, iterations):\n",
            "    for i in range(size):\n",
            "        for j in range(size):\n",
            "            c = -2 + 3./size*j + 1j*(1.5-3./size*i)\n",
            "            z = 0\n",
            "            for n in range(iterations):\n",
            "                if np.abs(z) <= 10:\n",
            "                    z = z*z + c\n",
            "                    m[i, j] = n\n",
            "                else:\n",
            "                    break"
          ],
          "language": "python"
        },
        {
          "collapsed": false,
          "metadata": {},
          "cell_type": "code",
          "outputs": [],
          "input": [
            "%%timeit -n1 -r1 m = np.zeros((size, size), dtype=np.int32)\n",
            "mandelbrot_cython(m, size, iterations)"
          ],
          "language": "python"
        },
        {
          "cell_type": "markdown",
          "source": [
            "Virtually no speedup."
          ],
          "metadata": {}
        },
        {
          "cell_type": "markdown",
          "source": [
            "### Take 2"
          ],
          "metadata": {}
        },
        {
          "cell_type": "markdown",
          "source": [
            "Now, we add type information, using memory views for NumPy arrays."
          ],
          "metadata": {}
        },
        {
          "collapsed": false,
          "metadata": {},
          "cell_type": "code",
          "outputs": [],
          "input": [
            "%%cython -a\n",
            "import numpy as np\n",
            "\n",
            "def mandelbrot_cython(int[:,::1] m, \n",
            "                      int size, \n",
            "                      int iterations):\n",
            "    cdef int i, j, n\n",
            "    cdef complex z, c\n",
            "    for i in range(size):\n",
            "        for j in range(size):\n",
            "            c = -2 + 3./size*j + 1j*(1.5-3./size*i)\n",
            "            z = 0\n",
            "            for n in range(iterations):\n",
            "                if z.real**2 + z.imag**2 <= 100:\n",
            "                    z = z*z + c\n",
            "                    m[i, j] = n\n",
            "                else:\n",
            "                    break"
          ],
          "language": "python"
        },
        {
          "collapsed": false,
          "metadata": {},
          "cell_type": "code",
          "outputs": [],
          "input": [
            "%%timeit -n1 -r1 m = np.zeros((size, size), dtype=np.int32)\n",
            "mandelbrot_cython(m, size, iterations)"
          ],
          "language": "python"
        },
        {
          "cell_type": "markdown",
          "source": [
            "Interesting speedup!"
          ],
          "metadata": {}
        },
        {
          "cell_type": "markdown",
          "source": [
            "> You'll find all the explanations, figures, references, and much more in the book (to be released later this summer).\n\n> [IPython Cookbook](http://ipython-books.github.io/), by [Cyrille Rossant](http://cyrille.rossant.net), Packt Publishing, 2014 (500 pages)."
          ],
          "metadata": {}
        }
      ]
    }
  ]
}
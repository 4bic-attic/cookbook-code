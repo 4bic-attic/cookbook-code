{
 "metadata": {
  "name": "",
  "signature": "sha256:60711b6950fb35c6487a5512e30319cef20b61947da3e4191f0d519b168abb14"
 },
 "nbformat": 3,
 "nbformat_minor": 0,
 "worksheets": [
  {
   "cells": [
    {
     "cell_type": "markdown",
     "metadata": [],
     "source": [
      "> This is one of the 100 recipes of the [IPython Cookbook](http://ipython-books.github.io/), the definitive guide to high-performance scientific computing and data science in Python.\n"
     ]
    },
    {
     "cell_type": "markdown",
     "metadata": {},
     "source": [
      "# 5.3. Wrapping a C library in Python with ctypes"
     ]
    },
    {
     "cell_type": "markdown",
     "metadata": {},
     "source": [
      "This example shows:\n",
      "\n",
      "  * How to write and compile C code defining functions that are accessible from Python, and\n",
      "  * How to call C functions from Python using the native ctypes module.\n",
      "  \n",
      "This notebook has been written for Windows systems and Microsoft's C compiler (shipped with Visual Studio)."
     ]
    },
    {
     "cell_type": "markdown",
     "metadata": {},
     "source": [
      "Let's write the generation of the Mandelbrot fractal in C."
     ]
    },
    {
     "cell_type": "code",
     "collapsed": false,
     "input": [
      "%%writefile mandelbrot.c\n",
      "\n",
      "// Needed when creating a DLL.\n",
      "#define EXPORT __declspec(dllexport)\n",
      "\n",
      "#include \"stdio.h\"\n",
      "#include \"stdlib.h\"\n",
      "\n",
      "// This function will be available in the DLL.\n",
      "EXPORT void __stdcall mandelbrot(int size,\n",
      "                                 int iterations,\n",
      "                                 int *col) \n",
      "{\n",
      "    // Variable declarations.\n",
      "    int i, j, n, index;\n",
      "    double cx, cy;\n",
      "    double z0, z1, z0_tmp, z0_2, z1_2;\n",
      "    \n",
      "    // Loop within the grid.\n",
      "    for (i = 0; i < size; i++)\n",
      "    {\n",
      "        cy = -1.5 + (double)i / size * 3;\n",
      "        for (j = 0; j < size; j++)\n",
      "        {\n",
      "            // We initialize the loop of the system.\n",
      "            cx = -2.0 + (double)j / size * 3;\n",
      "            index = i * size + j;\n",
      "            // Let's run the system.\n",
      "            z0 = 0.0;\n",
      "            z1 = 0.0;\n",
      "            for (n = 0; n < iterations; n++)\n",
      "            {\n",
      "                z0_2 = z0 * z0;\n",
      "                z1_2 = z1 * z1;\n",
      "                if (z0_2 + z1_2 <= 100)\n",
      "                {\n",
      "                    // Update the system.\n",
      "                    z0_tmp = z0_2 - z1_2 + cx;\n",
      "                    z1 = 2 * z0 * z1 + cy;\n",
      "                    z0 = z0_tmp;\n",
      "                    col[index] = n;\n",
      "                }\n",
      "                else\n",
      "                {\n",
      "                    break;\n",
      "                }\n",
      "            }\n",
      "        }\n",
      "    }\n",
      "}"
     ],
     "language": "python",
     "metadata": {},
     "outputs": [
      {
       "output_type": "stream",
       "stream": "stdout",
       "text": [
        "Writing mandelbrot.c\n"
       ]
      }
     ],
     "prompt_number": 1
    },
    {
     "cell_type": "markdown",
     "metadata": {},
     "source": [
      "Now, let's build this C source file into a DLL with Microsoft Visual Studio's `cl.exe`. The `/LD` option specifies that a DLL has to be created."
     ]
    },
    {
     "cell_type": "code",
     "collapsed": false,
     "input": [
      "!cl /LD mandelbrot.c"
     ],
     "language": "python",
     "metadata": {},
     "outputs": [
      {
       "output_type": "stream",
       "stream": "stdout",
       "text": [
        "mandelbrot.c\n",
        "mandelbrot.c(5) : fatal error C1034: stdio.h: no include path set\n"
       ]
      },
      {
       "output_type": "stream",
       "stream": "stderr",
       "text": [
        "Microsoft (R) C/C++ Optimizing Compiler Version 15.00.30729.01 for x64\n",
        "Copyright (C) Microsoft Corporation.  All rights reserved.\n",
        "\n"
       ]
      }
     ],
     "prompt_number": 2
    },
    {
     "cell_type": "markdown",
     "metadata": {},
     "source": [
      "## Wrapping the C library with NumPy and ctypes"
     ]
    },
    {
     "cell_type": "markdown",
     "metadata": {},
     "source": [
      "Let's access the library with ctypes."
     ]
    },
    {
     "cell_type": "code",
     "collapsed": false,
     "input": [
      "import ctypes"
     ],
     "language": "python",
     "metadata": {},
     "outputs": [],
     "prompt_number": 3
    },
    {
     "cell_type": "code",
     "collapsed": false,
     "input": [
      "lb = ctypes.CDLL('mandelbrot.dll')"
     ],
     "language": "python",
     "metadata": {},
     "outputs": [
      {
       "ename": "OSError",
       "evalue": "[WinError 126] Le module sp\u00e9cifi\u00e9 est introuvable",
       "output_type": "pyerr",
       "traceback": [
        "\u001b[1;31m---------------------------------------------------------------------------\u001b[0m\n\u001b[1;31mOSError\u001b[0m                                   Traceback (most recent call last)",
        "\u001b[1;32m<ipython-input-4-d3932722f6f3>\u001b[0m in \u001b[0;36m<module>\u001b[1;34m()\u001b[0m\n\u001b[1;32m----> 1\u001b[1;33m \u001b[0mlb\u001b[0m \u001b[1;33m=\u001b[0m \u001b[0mctypes\u001b[0m\u001b[1;33m.\u001b[0m\u001b[0mCDLL\u001b[0m\u001b[1;33m(\u001b[0m\u001b[1;34m'mandelbrot.dll'\u001b[0m\u001b[1;33m)\u001b[0m\u001b[1;33m\u001b[0m\u001b[0m\n\u001b[0m",
        "\u001b[1;32mP:\\anaconda\\lib\\ctypes\\__init__.py\u001b[0m in \u001b[0;36m__init__\u001b[1;34m(self, name, mode, handle, use_errno, use_last_error)\u001b[0m\n\u001b[0;32m    349\u001b[0m \u001b[1;33m\u001b[0m\u001b[0m\n\u001b[0;32m    350\u001b[0m         \u001b[1;32mif\u001b[0m \u001b[0mhandle\u001b[0m \u001b[1;32mis\u001b[0m \u001b[1;32mNone\u001b[0m\u001b[1;33m:\u001b[0m\u001b[1;33m\u001b[0m\u001b[0m\n\u001b[1;32m--> 351\u001b[1;33m             \u001b[0mself\u001b[0m\u001b[1;33m.\u001b[0m\u001b[0m_handle\u001b[0m \u001b[1;33m=\u001b[0m \u001b[0m_dlopen\u001b[0m\u001b[1;33m(\u001b[0m\u001b[0mself\u001b[0m\u001b[1;33m.\u001b[0m\u001b[0m_name\u001b[0m\u001b[1;33m,\u001b[0m \u001b[0mmode\u001b[0m\u001b[1;33m)\u001b[0m\u001b[1;33m\u001b[0m\u001b[0m\n\u001b[0m\u001b[0;32m    352\u001b[0m         \u001b[1;32melse\u001b[0m\u001b[1;33m:\u001b[0m\u001b[1;33m\u001b[0m\u001b[0m\n\u001b[0;32m    353\u001b[0m             \u001b[0mself\u001b[0m\u001b[1;33m.\u001b[0m\u001b[0m_handle\u001b[0m \u001b[1;33m=\u001b[0m \u001b[0mhandle\u001b[0m\u001b[1;33m\u001b[0m\u001b[0m\n",
        "\u001b[1;31mOSError\u001b[0m: [WinError 126] Le module sp\u00e9cifi\u00e9 est introuvable"
       ]
      }
     ],
     "prompt_number": 4
    },
    {
     "cell_type": "code",
     "collapsed": false,
     "input": [
      "lib = ctypes.WinDLL(None, handle=lb._handle)"
     ],
     "language": "python",
     "metadata": {},
     "outputs": []
    },
    {
     "cell_type": "code",
     "collapsed": false,
     "input": [
      "# Access the mandelbrot function.\n",
      "mandelbrot = lib.mandelbrot"
     ],
     "language": "python",
     "metadata": {},
     "outputs": []
    },
    {
     "cell_type": "markdown",
     "metadata": {},
     "source": [
      "NumPy and ctypes allow us to wrap the C function defined in the DLL."
     ]
    },
    {
     "cell_type": "code",
     "collapsed": false,
     "input": [
      "from numpy.ctypeslib import ndpointer"
     ],
     "language": "python",
     "metadata": {},
     "outputs": []
    },
    {
     "cell_type": "code",
     "collapsed": false,
     "input": [
      "# Define the types of the output and arguments of this function.\n",
      "mandelbrot.restype = None\n",
      "mandelbrot.argtypes = [ctypes.c_int, ctypes.c_int,\n",
      "                       ndpointer(ctypes.c_int)]"
     ],
     "language": "python",
     "metadata": {},
     "outputs": []
    },
    {
     "cell_type": "markdown",
     "metadata": {},
     "source": [
      "Now, we can execute the mandelbrot function."
     ]
    },
    {
     "cell_type": "code",
     "collapsed": false,
     "input": [
      "import numpy as np\n",
      "# We initialize an empty array.\n",
      "size = 200\n",
      "iterations = 100\n",
      "col = np.empty((size, size), dtype=np.int32)\n",
      "# We execute the C function, which will update the array.\n",
      "mandelbrot(size, iterations, col)"
     ],
     "language": "python",
     "metadata": {},
     "outputs": []
    },
    {
     "cell_type": "markdown",
     "metadata": {},
     "source": [
      "The simulation has finished, let's display the fractal."
     ]
    },
    {
     "cell_type": "code",
     "collapsed": false,
     "input": [
      "import numpy as np\n",
      "import matplotlib.pyplot as plt\n",
      "%matplotlib inline"
     ],
     "language": "python",
     "metadata": {},
     "outputs": []
    },
    {
     "cell_type": "code",
     "collapsed": false,
     "input": [
      "plt.imshow(np.log(col), cmap=plt.cm.hot,);\n",
      "plt.xticks([]);\n",
      "plt.yticks([]);"
     ],
     "language": "python",
     "metadata": {},
     "outputs": []
    },
    {
     "cell_type": "code",
     "collapsed": false,
     "input": [
      "%timeit mandelbrot(size, iterations, col)"
     ],
     "language": "python",
     "metadata": {},
     "outputs": []
    },
    {
     "cell_type": "markdown",
     "metadata": {},
     "source": [
      "We free the library handle at the end."
     ]
    },
    {
     "cell_type": "code",
     "collapsed": false,
     "input": [
      "ctypes.windll.kernel32.FreeLibrary(lb._handle);"
     ],
     "language": "python",
     "metadata": {},
     "outputs": []
    },
    {
     "cell_type": "markdown",
     "metadata": {},
     "source": [
      "> You'll find all the explanations, figures, references, and much more in the book (to be released later this summer).\n",
      "\n",
      "> [IPython Cookbook](http://ipython-books.github.io/), by [Cyrille Rossant](http://cyrille.rossant.net), Packt Publishing, 2014 (400 pages). [Get a 50% discount by pre-ordering now](http://www.packtpub.com/ipython-interactive-computing-and-visualization-cookbook/book) with the code `mK00gPxQM` (time-limited offer)!\n"
     ]
    }
   ],
   "metadata": {}
  }
 ]
}
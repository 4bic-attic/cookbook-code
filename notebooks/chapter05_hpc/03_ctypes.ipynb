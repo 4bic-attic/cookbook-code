{
  "metadata": {
    "signature": "sha256:3723694e968fe1223a6954d78b4bcedd1080b2dcf68e8221ae2671325adde5ac",
    "name": ""
  },
  "nbformat": 3,
  "nbformat_minor": 0,
  "worksheets": [
    {
      "metadata": {},
      "cells": [
        {
          "cell_type": "markdown",
          "source": [
            "> This is one of the 100 recipes of the [IPython Cookbook](http://ipython-books.github.io/), the definitive guide to high-performance scientific computing and data science in Python.\n"
          ],
          "metadata": {}
        },
        {
          "cell_type": "markdown",
          "source": [
            "# 5.3. Wrapping a C library in Python with ctypes"
          ],
          "metadata": {}
        },
        {
          "cell_type": "markdown",
          "source": [
            "This example shows:\n",
            "\n",
            "  * How to write and compile C code defining functions that are accessible from Python, and\n",
            "  * How to call C functions from Python using the native ctypes module.\n",
            "  \n",
            "This notebook has been written for Windows systems and Microsoft's C compiler (shipped with Visual Studio)."
          ],
          "metadata": {}
        },
        {
          "cell_type": "markdown",
          "source": [
            "**Note**: on Windows, for the C compiler to run, you need to execute a sequence of magic incantations before launching the IPython notebook. See the `_launch_notebook.bat` file in this repository."
          ],
          "metadata": {}
        },
        {
          "cell_type": "markdown",
          "source": [
            "Let's write the generation of the Mandelbrot fractal in C."
          ],
          "metadata": {}
        },
        {
          "collapsed": false,
          "metadata": {},
          "cell_type": "code",
          "outputs": [],
          "input": [
            "%%writefile mandelbrot.c\n",
            "\n",
            "// Needed when creating a DLL.\n",
            "#define EXPORT __declspec(dllexport)\n",
            "\n",
            "#include \"stdio.h\"\n",
            "#include \"stdlib.h\"\n",
            "\n",
            "// This function will be available in the DLL.\n",
            "EXPORT void __stdcall mandelbrot(int size,\n",
            "                                 int iterations,\n",
            "                                 int *col) \n",
            "{\n",
            "    // Variable declarations.\n",
            "    int i, j, n, index;\n",
            "    double cx, cy;\n",
            "    double z0, z1, z0_tmp, z0_2, z1_2;\n",
            "    \n",
            "    // Loop within the grid.\n",
            "    for (i = 0; i < size; i++)\n",
            "    {\n",
            "        cy = -1.5 + (double)i / size * 3;\n",
            "        for (j = 0; j < size; j++)\n",
            "        {\n",
            "            // We initialize the loop of the system.\n",
            "            cx = -2.0 + (double)j / size * 3;\n",
            "            index = i * size + j;\n",
            "            // Let's run the system.\n",
            "            z0 = 0.0;\n",
            "            z1 = 0.0;\n",
            "            for (n = 0; n < iterations; n++)\n",
            "            {\n",
            "                z0_2 = z0 * z0;\n",
            "                z1_2 = z1 * z1;\n",
            "                if (z0_2 + z1_2 <= 100)\n",
            "                {\n",
            "                    // Update the system.\n",
            "                    z0_tmp = z0_2 - z1_2 + cx;\n",
            "                    z1 = 2 * z0 * z1 + cy;\n",
            "                    z0 = z0_tmp;\n",
            "                    col[index] = n;\n",
            "                }\n",
            "                else\n",
            "                {\n",
            "                    break;\n",
            "                }\n",
            "            }\n",
            "        }\n",
            "    }\n",
            "}"
          ],
          "language": "python"
        },
        {
          "cell_type": "markdown",
          "source": [
            "Now, let's build this C source file into a DLL with Microsoft Visual Studio's `cl.exe`. The `/LD` option specifies that a DLL has to be created."
          ],
          "metadata": {}
        },
        {
          "collapsed": false,
          "metadata": {},
          "cell_type": "code",
          "outputs": [],
          "input": [
            "!cl /LD mandelbrot.c"
          ],
          "language": "python"
        },
        {
          "cell_type": "markdown",
          "source": [
            "## Wrapping the C library with NumPy and ctypes"
          ],
          "metadata": {}
        },
        {
          "cell_type": "markdown",
          "source": [
            "Let's access the library with ctypes."
          ],
          "metadata": {}
        },
        {
          "collapsed": false,
          "metadata": {},
          "cell_type": "code",
          "outputs": [],
          "input": [
            "import ctypes"
          ],
          "language": "python"
        },
        {
          "collapsed": false,
          "metadata": {},
          "cell_type": "code",
          "outputs": [],
          "input": [
            "lb = ctypes.CDLL('mandelbrot.dll')"
          ],
          "language": "python"
        },
        {
          "collapsed": false,
          "metadata": {},
          "cell_type": "code",
          "outputs": [],
          "input": [
            "lib = ctypes.WinDLL(None, handle=lb._handle)"
          ],
          "language": "python"
        },
        {
          "collapsed": false,
          "metadata": {},
          "cell_type": "code",
          "outputs": [],
          "input": [
            "# Access the mandelbrot function.\n",
            "mandelbrot = lib.mandelbrot"
          ],
          "language": "python"
        },
        {
          "cell_type": "markdown",
          "source": [
            "NumPy and ctypes allow us to wrap the C function defined in the DLL."
          ],
          "metadata": {}
        },
        {
          "collapsed": false,
          "metadata": {},
          "cell_type": "code",
          "outputs": [],
          "input": [
            "from numpy.ctypeslib import ndpointer"
          ],
          "language": "python"
        },
        {
          "collapsed": false,
          "metadata": {},
          "cell_type": "code",
          "outputs": [],
          "input": [
            "# Define the types of the output and arguments of this function.\n",
            "mandelbrot.restype = None\n",
            "mandelbrot.argtypes = [ctypes.c_int, ctypes.c_int,\n",
            "                       ndpointer(ctypes.c_int)]"
          ],
          "language": "python"
        },
        {
          "cell_type": "markdown",
          "source": [
            "Now, we can execute the mandelbrot function."
          ],
          "metadata": {}
        },
        {
          "collapsed": false,
          "metadata": {},
          "cell_type": "code",
          "outputs": [],
          "input": [
            "import numpy as np\n",
            "# We initialize an empty array.\n",
            "size = 200\n",
            "iterations = 100\n",
            "col = np.empty((size, size), dtype=np.int32)\n",
            "# We execute the C function, which will update the array.\n",
            "mandelbrot(size, iterations, col)"
          ],
          "language": "python"
        },
        {
          "cell_type": "markdown",
          "source": [
            "The simulation has finished, let's display the fractal."
          ],
          "metadata": {}
        },
        {
          "collapsed": false,
          "metadata": {},
          "cell_type": "code",
          "outputs": [],
          "input": [
            "import numpy as np\n",
            "import matplotlib.pyplot as plt\n",
            "%matplotlib inline"
          ],
          "language": "python"
        },
        {
          "collapsed": false,
          "metadata": {},
          "cell_type": "code",
          "outputs": [],
          "input": [
            "plt.imshow(np.log(col), cmap=plt.cm.hot,);\n",
            "plt.xticks([]);\n",
            "plt.yticks([]);"
          ],
          "language": "python"
        },
        {
          "collapsed": false,
          "metadata": {},
          "cell_type": "code",
          "outputs": [],
          "input": [
            "%timeit mandelbrot(size, iterations, col)"
          ],
          "language": "python"
        },
        {
          "cell_type": "markdown",
          "source": [
            "We free the library handle at the end."
          ],
          "metadata": {}
        },
        {
          "collapsed": false,
          "metadata": {},
          "cell_type": "code",
          "outputs": [],
          "input": [
            "lb._handle"
          ],
          "language": "python"
        },
        {
          "collapsed": false,
          "metadata": {},
          "cell_type": "code",
          "outputs": [],
          "input": [
            "from ctypes.wintypes import HMODULE\n",
            "ctypes.windll.kernel32.FreeLibrary.argtypes = [HMODULE]\n",
            "ctypes.windll.kernel32.FreeLibrary(lb._handle);"
          ],
          "language": "python"
        },
        {
          "cell_type": "markdown",
          "source": [
            "> You'll find all the explanations, figures, references, and much more in the book (to be released later this summer).\n",
            "\n",
            "> [IPython Cookbook](http://ipython-books.github.io/), by [Cyrille Rossant](http://cyrille.rossant.net), Packt Publishing, 2014 (500 pages)."
          ],
          "metadata": {}
        }
      ]
    }
  ]
}
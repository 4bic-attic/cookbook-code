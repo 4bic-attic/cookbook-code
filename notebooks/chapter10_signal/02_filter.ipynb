{
  "metadata": {
    "signature": "sha256:1da5786ba7e589767d543826d814cdf9aa19923be0850af16e21cb2388cd8670",
    "name": ""
  },
  "nbformat": 3,
  "nbformat_minor": 0,
  "worksheets": [
    {
      "metadata": {},
      "cells": [
        {
          "cell_type": "markdown",
          "source": [
            "> This is one of the 100 recipes of the [IPython Cookbook](http://ipython-books.github.io/), the definitive guide to high-performance scientific computing and data science in Python.\n"
          ],
          "metadata": {}
        },
        {
          "cell_type": "markdown",
          "source": [
            "# 10.2. Applying a linear filter to a digital signal"
          ],
          "metadata": {}
        },
        {
          "cell_type": "markdown",
          "source": [
            "Download the *Nasdaq* dataset on the book's website. (http://ipython-books.github.io)\n",
            "\n",
            "The data has been obtained here: http://finance.yahoo.com/q/hp?s=^IXIC&a=00&b=1&c=1990&d=00&e=1&f=2014&g=d"
          ],
          "metadata": {}
        },
        {
          "cell_type": "markdown",
          "source": [
            "1. Let's import the packages."
          ],
          "metadata": {}
        },
        {
          "collapsed": false,
          "metadata": {},
          "cell_type": "code",
          "outputs": [],
          "input": [
            "import numpy as np\n",
            "import scipy as sp\n",
            "import scipy.signal as sg\n",
            "import pandas as pd\n",
            "import matplotlib.pyplot as plt\n",
            "%matplotlib inline"
          ],
          "language": "python"
        },
        {
          "cell_type": "markdown",
          "source": [
            "2 We load the Nasdaq data with Pandas."
          ],
          "metadata": {}
        },
        {
          "collapsed": false,
          "metadata": {},
          "cell_type": "code",
          "outputs": [],
          "input": [
            "nasdaq_df = pd.read_csv('data/nasdaq.csv')"
          ],
          "language": "python"
        },
        {
          "collapsed": false,
          "metadata": {},
          "cell_type": "code",
          "outputs": [],
          "input": [
            "nasdaq_df.head()"
          ],
          "language": "python"
        },
        {
          "cell_type": "markdown",
          "source": [
            "3. Let's extract two columns: the date, and the daily closing value."
          ],
          "metadata": {}
        },
        {
          "collapsed": false,
          "metadata": {},
          "cell_type": "code",
          "outputs": [],
          "input": [
            "date = pd.to_datetime(nasdaq_df['Date'])\n",
            "nasdaq = nasdaq_df['Close']"
          ],
          "language": "python"
        },
        {
          "cell_type": "markdown",
          "source": [
            "4. Let's take a look at the raw signal."
          ],
          "metadata": {}
        },
        {
          "collapsed": false,
          "metadata": {},
          "cell_type": "code",
          "outputs": [],
          "input": [
            "plt.figure(figsize=(6,4));\n",
            "plt.plot_date(date, nasdaq, '-');"
          ],
          "language": "python"
        },
        {
          "cell_type": "markdown",
          "source": [
            "5. Now, we will follow a first approach to get the slow component of the signal's variations. We will convolve the signal with a triangular window: this corresponds to a **FIR filter**. We will explain the idea behind this method in *How it works...*. Let's just say for now that we replace each value with a weighted mean of the signal around that value."
          ],
          "metadata": {}
        },
        {
          "collapsed": false,
          "metadata": {},
          "cell_type": "code",
          "outputs": [],
          "input": [
            "# We get a triangular window with 60 samples.\n",
            "h = sg.get_window('triang', 60)\n",
            "# We convolve the signal with this window.\n",
            "fil = sg.convolve(nasdaq, h/h.sum())"
          ],
          "language": "python"
        },
        {
          "collapsed": false,
          "metadata": {},
          "cell_type": "code",
          "outputs": [],
          "input": [
            "plt.figure(figsize=(6,4));\n",
            "# We plot the original signal...\n",
            "plt.plot_date(date, nasdaq, '-', lw=1);\n",
            "# ... and the filtered signal.\n",
            "plt.plot_date(date, fil[:len(nasdaq)], '-');"
          ],
          "language": "python"
        },
        {
          "cell_type": "markdown",
          "source": [
            "6. Now, let's use another method. We create an IIR Butterworth low-pass filter to extract the slow variations of the signal. The `filtfilt` method allows us to apply a filter forward and backward in order to avoid phase delays."
          ],
          "metadata": {}
        },
        {
          "collapsed": false,
          "metadata": {},
          "cell_type": "code",
          "outputs": [],
          "input": [
            "plt.figure(figsize=(6,4));\n",
            "plt.plot_date(date, nasdaq, '-', lw=1);\n",
            "# We create a 4-th order Butterworth low-pass filter.\n",
            "b, a = sg.butter(4, 2./365)\n",
            "# We apply this filter to the signal.\n",
            "plt.plot_date(date, sg.filtfilt(b, a, nasdaq), '-');"
          ],
          "language": "python"
        },
        {
          "cell_type": "markdown",
          "source": [
            "7. Finally, we now use the same method to create a high-pass filter and extract the *fast* variations of the signal."
          ],
          "metadata": {}
        },
        {
          "collapsed": false,
          "metadata": {},
          "cell_type": "code",
          "outputs": [],
          "input": [
            "plt.figure(figsize=(6,4));\n",
            "plt.plot_date(date, nasdaq, '-', lw=1);\n",
            "b, a = sg.butter(4, 2*5./365, btype='high')\n",
            "plt.plot_date(date, sg.filtfilt(b, a, nasdaq), '-', lw=.5);"
          ],
          "language": "python"
        },
        {
          "cell_type": "markdown",
          "source": [
            "The fast variations around 2000 correspond to the **dot-com bubble burst**, reflecting the high market volatility and the fast fluctuations of the stock market indices at that time. (http://en.wikipedia.org/wiki/Dot-com_bubble)"
          ],
          "metadata": {}
        },
        {
          "cell_type": "markdown",
          "source": [
            "> You'll find all the explanations, figures, references, and much more in the book (to be released later this summer).\n",
            "\n",
            "> [IPython Cookbook](http://ipython-books.github.io/), by [Cyrille Rossant](http://cyrille.rossant.net), Packt Publishing, 2014 (500 pages)."
          ],
          "metadata": {}
        }
      ]
    }
  ]
}
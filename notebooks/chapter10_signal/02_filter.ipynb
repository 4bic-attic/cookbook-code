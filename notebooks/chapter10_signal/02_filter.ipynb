{
 "nbformat": 3, 
 "nbformat_minor": 0, 
 "worksheets": [
  {
   "cells": [
    {
     "source": [
      "> This is one of the 100 recipes of the [IPython Cookbook](http://ipython-books.github.io/), the definitive guide to high-performance scientific computing and data science in Python.\n"
     ], 
     "cell_type": "markdown", 
     "metadata": []
    }, 
    {
     "source": [
      "# 10.2. Applying a linear filter to a digital signal"
     ], 
     "cell_type": "markdown", 
     "metadata": {}
    }, 
    {
     "source": [
      "Linear filters play a fundamental role in signal processing. With a linear filter, one can extract meaningful information from a digital signal.\n", 
      "\n", 
      "In this recipe, we will show two examples on stock market data (NASDAQ stock exchange). First, we will smooth out a very noisy signal with a low-pass filter to extract its slow components. Furthermore, we will apply a high-pass filter to extract its fast components. These are just two common examples among a wide variety of applications of linear filters."
     ], 
     "cell_type": "markdown", 
     "metadata": {}
    }, 
    {
     "source": [
      "## Getting started"
     ], 
     "cell_type": "markdown", 
     "metadata": {}
    }, 
    {
     "source": [
      "Download the *Nasdaq* dataset on the book's website. (http://ipython-books.github.io)\n", 
      "\n", 
      "The data has been obtained here: http://finance.yahoo.com/q/hp?s=^IXIC&a=00&b=1&c=1990&d=00&e=1&f=2014&g=d"
     ], 
     "cell_type": "markdown", 
     "metadata": {}
    }, 
    {
     "source": [
      "## How to do it..."
     ], 
     "cell_type": "markdown", 
     "metadata": {}
    }, 
    {
     "source": [
      "1. Let's import the packages."
     ], 
     "cell_type": "markdown", 
     "metadata": {}
    }, 
    {
     "cell_type": "code", 
     "language": "python", 
     "outputs": [], 
     "collapsed": false, 
     "input": [
      "import numpy as np\n", 
      "import scipy as sp\n", 
      "import scipy.signal as sg\n", 
      "import pandas as pd\n", 
      "import matplotlib.pyplot as plt\n", 
      "%matplotlib inline"
     ], 
     "metadata": {}
    }, 
    {
     "source": [
      "2 We load the Nasdaq data with Pandas."
     ], 
     "cell_type": "markdown", 
     "metadata": {}
    }, 
    {
     "cell_type": "code", 
     "language": "python", 
     "outputs": [], 
     "collapsed": false, 
     "input": [
      "nasdaq_df = pd.read_csv('data/nasdaq.csv')"
     ], 
     "metadata": {}
    }, 
    {
     "cell_type": "code", 
     "language": "python", 
     "outputs": [], 
     "collapsed": false, 
     "input": [
      "nasdaq_df.head()"
     ], 
     "metadata": {}
    }, 
    {
     "source": [
      "3. Let's extract two columns: the date, and the daily closing value."
     ], 
     "cell_type": "markdown", 
     "metadata": {}
    }, 
    {
     "cell_type": "code", 
     "language": "python", 
     "outputs": [], 
     "collapsed": false, 
     "input": [
      "date = pd.to_datetime(nasdaq_df['Date'])\n", 
      "nasdaq = nasdaq_df['Close']"
     ], 
     "metadata": {}
    }, 
    {
     "source": [
      "4. Let's take a look at the raw signal."
     ], 
     "cell_type": "markdown", 
     "metadata": {}
    }, 
    {
     "cell_type": "code", 
     "language": "python", 
     "outputs": [], 
     "collapsed": false, 
     "input": [
      "plt.figure(figsize=(6,4));\n", 
      "plt.plot_date(date, nasdaq, '-');"
     ], 
     "metadata": {}
    }, 
    {
     "source": [
      "5. Now, we will follow a first approach to get the slow component of the signal's variations. We will convolve the signal with a triangular window: this corresponds to a **FIR filter**. We will explain the idea behind this method in *How it works...*. Let's just say for now that we replace each value with a weighted mean of the signal around that value."
     ], 
     "cell_type": "markdown", 
     "metadata": {}
    }, 
    {
     "cell_type": "code", 
     "language": "python", 
     "outputs": [], 
     "collapsed": false, 
     "input": [
      "# We get a triangular window with 60 samples.\n", 
      "h = sg.get_window('triang', 60)\n", 
      "# We convolve the signal with this window.\n", 
      "fil = sg.convolve(nasdaq, h/h.sum())"
     ], 
     "metadata": {}
    }, 
    {
     "cell_type": "code", 
     "language": "python", 
     "outputs": [], 
     "collapsed": false, 
     "input": [
      "plt.figure(figsize=(6,4));\n", 
      "# We plot the original signal...\n", 
      "plt.plot_date(date, nasdaq, '-', lw=1);\n", 
      "# ... and the filtered signal.\n", 
      "plt.plot_date(date, fil[:len(nasdaq)], '-');"
     ], 
     "metadata": {}
    }, 
    {
     "source": [
      "6. Now, let's use another method. We create an IIR Butterworth low-pass filter to extract the slow variations of the signal. The `filtfilt` method allows us to apply a filter forward and backward in order to avoid phase delays."
     ], 
     "cell_type": "markdown", 
     "metadata": {}
    }, 
    {
     "cell_type": "code", 
     "language": "python", 
     "outputs": [], 
     "collapsed": false, 
     "input": [
      "plt.figure(figsize=(6,4));\n", 
      "plt.plot_date(date, nasdaq, '-', lw=1);\n", 
      "# We create a 4-th order Butterworth low-pass filter.\n", 
      "b, a = sg.butter(4, 2./365)\n", 
      "# We apply this filter to the signal.\n", 
      "plt.plot_date(date, sg.filtfilt(b, a, nasdaq), '-');"
     ], 
     "metadata": {}
    }, 
    {
     "source": [
      "7. Finally, we now use the same method to create a high-pass filter and extract the *fast* variations of the signal."
     ], 
     "cell_type": "markdown", 
     "metadata": {}
    }, 
    {
     "cell_type": "code", 
     "language": "python", 
     "outputs": [], 
     "collapsed": false, 
     "input": [
      "plt.figure(figsize=(6,4));\n", 
      "plt.plot_date(date, nasdaq, '-', lw=1);\n", 
      "b, a = sg.butter(4, 2*5./365, btype='high')\n", 
      "plt.plot_date(date, sg.filtfilt(b, a, nasdaq), '-', lw=.5);"
     ], 
     "metadata": {}
    }, 
    {
     "source": [
      "The fast variations around 2000 correspond to the **dot-com bubble burst**, reflecting the high market volatility and the fast fluctuations of the stock market indices at that time. (http://en.wikipedia.org/wiki/Dot-com_bubble)"
     ], 
     "cell_type": "markdown", 
     "metadata": {}
    }, 
    {
     "source": [
      "> You'll find all the explanations, figures, references, and much more in the book (to be released later this summer).\n\n> [IPython Cookbook](http://ipython-books.github.io/), by [Cyrille Rossant](http://cyrille.rossant.net), Packt Publishing, 2014 (400 pages). [Get a 50% discount by pre-ordering now](http://www.packtpub.com/ipython-interactive-computing-and-visualization-cookbook/book) with the code `PICVCEB` (time-limited offer)!\n"
     ], 
     "cell_type": "markdown", 
     "metadata": {}
    }
   ], 
   "metadata": {}
  }
 ], 
 "metadata": {
  "name": ""
 }
}
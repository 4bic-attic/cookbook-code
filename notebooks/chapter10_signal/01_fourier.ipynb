{
 "nbformat": 3, 
 "nbformat_minor": 0, 
 "worksheets": [
  {
   "cells": [
    {
     "source": [
      "> This is one of the 100 recipes of the [IPython Cookbook](http://ipython-books.github.io/), the definitive guide to high-performance scientific computing and data science in Python.\n"
     ], 
     "cell_type": "markdown", 
     "metadata": []
    }, 
    {
     "source": [
      "# 10.1. Analyzing the frequency components of a signal with a Fast Fourier Transform"
     ], 
     "cell_type": "markdown", 
     "metadata": {}
    }, 
    {
     "source": [
      "In this recipe, we show how to use a **Fast Fourier Transform** (FFT) to compute the **spectral density** of a signal. The spectrum represents the energy associated to frequencies, which encode periodic fluctuations in a signal. It is obtained with a Fourier transform, which is a frequency representation of a time-dependent signal. A signal can basically be transformed back and forth from one representation to the other without information loss."
     ], 
     "cell_type": "markdown", 
     "metadata": {}
    }, 
    {
     "source": [
      "We also illustrate how one can modify the signal in the frequency domain before recovering a transformed signal in the original temporal domain, using an inverse transform."
     ], 
     "cell_type": "markdown", 
     "metadata": {}
    }, 
    {
     "source": [
      "We will apply those tools to weather data spanning 20 years in France obtained from the US National Climatic Data Center."
     ], 
     "cell_type": "markdown", 
     "metadata": {}
    }, 
    {
     "source": [
      "## Getting started"
     ], 
     "cell_type": "markdown", 
     "metadata": {}
    }, 
    {
     "source": [
      "Download the *Weather* dataset on the book's website. (http://ipython-books.github.io)"
     ], 
     "cell_type": "markdown", 
     "metadata": {}
    }, 
    {
     "source": [
      "The data has been obtained here: http://www.ncdc.noaa.gov/cdo-web/datasets#GHCND."
     ], 
     "cell_type": "markdown", 
     "metadata": {}
    }, 
    {
     "source": [
      "## How to do it..."
     ], 
     "cell_type": "markdown", 
     "metadata": {}
    }, 
    {
     "source": [
      "1. Let's import the packages, including `scipy.fftpack` which includes many FFT-related routines."
     ], 
     "cell_type": "markdown", 
     "metadata": {}
    }, 
    {
     "cell_type": "code", 
     "language": "python", 
     "outputs": [], 
     "collapsed": false, 
     "input": [
      "import datetime\n", 
      "import numpy as np\n", 
      "import scipy as sp\n", 
      "import scipy.fftpack\n", 
      "import pandas as pd\n", 
      "import matplotlib.pyplot as plt\n", 
      "%matplotlib inline"
     ], 
     "metadata": {}
    }, 
    {
     "source": [
      "2. We import the data from the CSV file. The number `-9999` is used for N/A values. Pandas can easily handle this. In addition, we tell Pandas to parse dates contained in the `DATE` column."
     ], 
     "cell_type": "markdown", 
     "metadata": {}
    }, 
    {
     "cell_type": "code", 
     "language": "python", 
     "outputs": [], 
     "collapsed": false, 
     "input": [
      "df0 = pd.read_csv('data/weather.csv', \n", 
      "                  na_values=(-9999), \n", 
      "                  parse_dates=['DATE'])"
     ], 
     "metadata": {}
    }, 
    {
     "cell_type": "code", 
     "language": "python", 
     "outputs": [], 
     "collapsed": false, 
     "input": [
      "df = df0[df0['DATE']>='19940101']"
     ], 
     "metadata": {}
    }, 
    {
     "cell_type": "code", 
     "language": "python", 
     "outputs": [], 
     "collapsed": false, 
     "input": [
      "df.head()"
     ], 
     "metadata": {}
    }, 
    {
     "source": [
      "3. Each row contains the precipitation and extremal temperatures recorded one day by one weather station in France. For every date, we want to get a single average temperature for the whole country. The `groupby` method provided by Pandas lets us do that easily. We also remove any NA value."
     ], 
     "cell_type": "markdown", 
     "metadata": {}
    }, 
    {
     "cell_type": "code", 
     "language": "python", 
     "outputs": [], 
     "collapsed": false, 
     "input": [
      "df_avg = df.dropna().groupby('DATE').mean()"
     ], 
     "metadata": {}
    }, 
    {
     "cell_type": "code", 
     "language": "python", 
     "outputs": [], 
     "collapsed": false, 
     "input": [
      "df_avg.head()"
     ], 
     "metadata": {}
    }, 
    {
     "source": [
      "4. Now, we get the list of dates and the list of corresponding temperature. The unit is in tenth of degree, and we get the average value between the minimal and maximal temperature, which explains why we divide by 20."
     ], 
     "cell_type": "markdown", 
     "metadata": {}
    }, 
    {
     "cell_type": "code", 
     "language": "python", 
     "outputs": [], 
     "collapsed": false, 
     "input": [
      "date = df_avg.index.to_datetime()\n", 
      "temp = (df_avg['TMAX'] + df_avg['TMIN']) / 20.\n", 
      "N = len(temp)"
     ], 
     "metadata": {}
    }, 
    {
     "source": [
      "5. Let's take a look at the evolution of the temperature."
     ], 
     "cell_type": "markdown", 
     "metadata": {}
    }, 
    {
     "cell_type": "code", 
     "language": "python", 
     "outputs": [], 
     "collapsed": false, 
     "input": [
      "plt.figure(figsize=(6,3));\n", 
      "plt.plot_date(date, temp, '-', lw=.5);\n", 
      "plt.ylim(-10, 40);\n", 
      "plt.xlabel('Date');\n", 
      "plt.ylabel('Mean temperature');"
     ], 
     "metadata": {}
    }, 
    {
     "source": [
      "6. We now compute the Fourier transform and the spectral density of the signal. The first step is to compute the FFT of the signal using the `fft` function."
     ], 
     "cell_type": "markdown", 
     "metadata": {}
    }, 
    {
     "cell_type": "code", 
     "language": "python", 
     "outputs": [], 
     "collapsed": false, 
     "input": [
      "temp_fft = sp.fftpack.fft(temp)"
     ], 
     "metadata": {}
    }, 
    {
     "source": [
      "7. Once the FFT has been obtained, one needs to take the square of its absolute value to get the **power spectral density** (PSD)."
     ], 
     "cell_type": "markdown", 
     "metadata": {}
    }, 
    {
     "cell_type": "code", 
     "language": "python", 
     "outputs": [], 
     "collapsed": false, 
     "input": [
      "temp_psd = np.abs(temp_fft) ** 2"
     ], 
     "metadata": {}
    }, 
    {
     "source": [
      "8. The next step is to get the frequencies corresponding to the values of the PSD. The `fftfreq` utility function does just that. It takes as input the length of the PSD vector, as well as the frequency unit. Here, we choose an annual unit: a frequency of 1 corresponds to 1 year (365 days). We provide `1./365` because the original unit is in days."
     ], 
     "cell_type": "markdown", 
     "metadata": {}
    }, 
    {
     "cell_type": "code", 
     "language": "python", 
     "outputs": [], 
     "collapsed": false, 
     "input": [
      "fftfreq = sp.fftpack.fftfreq(len(temp_psd), 1./365)"
     ], 
     "metadata": {}
    }, 
    {
     "source": [
      "9. The `fftfreq` function returns positive and negative frequencies. We are only interested in positive frequencies here since we have a real signal (this will be explained in *How it works...*)."
     ], 
     "cell_type": "markdown", 
     "metadata": {}
    }, 
    {
     "cell_type": "code", 
     "language": "python", 
     "outputs": [], 
     "collapsed": false, 
     "input": [
      "i = fftfreq>0"
     ], 
     "metadata": {}
    }, 
    {
     "source": [
      "10. We now plot the power spectral density of our signal, as a function of the frequency (in unit of `1/year`)."
     ], 
     "cell_type": "markdown", 
     "metadata": {}
    }, 
    {
     "cell_type": "code", 
     "language": "python", 
     "outputs": [], 
     "collapsed": false, 
     "input": [
      "plt.figure(figsize=(8,4));\n", 
      "plt.plot(fftfreq[i], 10*np.log10(temp_psd[i]));\n", 
      "plt.xlim(0, 5);\n", 
      "plt.xlabel('Frequency (1/year)');\n", 
      "plt.ylabel('PSD (dB)');"
     ], 
     "metadata": {}
    }, 
    {
     "source": [
      "We observe a peak for $f=1/year$: this is because the fundamental frequency of the signal is the yearly variation of the temperature."
     ], 
     "cell_type": "markdown", 
     "metadata": {}
    }, 
    {
     "source": [
      "11. Now, we cut out the frequencies higher than the fundamental frequency."
     ], 
     "cell_type": "markdown", 
     "metadata": {}
    }, 
    {
     "cell_type": "code", 
     "language": "python", 
     "outputs": [], 
     "collapsed": false, 
     "input": [
      "temp_fft_bis = temp_fft.copy()\n", 
      "temp_fft_bis[np.abs(fftfreq) > 1.1] = 0"
     ], 
     "metadata": {}
    }, 
    {
     "source": [
      "12. The next step is to perform an **inverse FFT** to convert the modified Fourier transform back to the temporal domain. This way, we recover a signal that mainly contains the fundamental frequency, as shown in the figure below."
     ], 
     "cell_type": "markdown", 
     "metadata": {}
    }, 
    {
     "cell_type": "code", 
     "language": "python", 
     "outputs": [], 
     "collapsed": false, 
     "input": [
      "temp_slow = np.real(sp.fftpack.ifft(temp_fft_bis))"
     ], 
     "metadata": {}
    }, 
    {
     "cell_type": "code", 
     "language": "python", 
     "outputs": [], 
     "collapsed": false, 
     "input": [
      "plt.figure(figsize=(6,3));\n", 
      "plt.plot_date(date, temp, '-', lw=.5);\n", 
      "plt.plot_date(date, temp_slow, '-');\n", 
      "plt.xlim(datetime.date(1994, 1, 1), datetime.date(2000, 1, 1));\n", 
      "plt.ylim(-10, 40);\n", 
      "plt.xlabel('Date');\n", 
      "plt.ylabel('Mean temperature');"
     ], 
     "metadata": {}
    }, 
    {
     "source": [
      "> You'll find all the explanations, figures, references, and much more in the book (to be released later this summer).\n\n> [IPython Cookbook](http://ipython-books.github.io/), by [Cyrille Rossant](http://cyrille.rossant.net), Packt Publishing, 2014 (400 pages). [Get a 50% discount by pre-ordering now](http://www.packtpub.com/ipython-interactive-computing-and-visualization-cookbook/book) with the code `PICVCEB` (time-limited offer)!\n"
     ], 
     "cell_type": "markdown", 
     "metadata": {}
    }
   ], 
   "metadata": {}
  }
 ], 
 "metadata": {
  "name": "", 
  "signature": "sha256:67a825b9261c89aa4c170e73a4b35406779e68c7f269d3e43e5e0729f906dd56"
 }
}
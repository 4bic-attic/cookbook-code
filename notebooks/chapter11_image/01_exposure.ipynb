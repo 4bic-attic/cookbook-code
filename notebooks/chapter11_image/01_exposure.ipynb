{
  "metadata": {
    "signature": "sha256:b560c8fc7f938b6be6e74cb1859be2cd7f1eee1b1bbca25d89019754a481662b",
    "name": ""
  },
  "nbformat": 3,
  "nbformat_minor": 0,
  "worksheets": [
    {
      "metadata": {},
      "cells": [
        {
          "cell_type": "markdown",
          "source": [
            "> This is one of the 100 recipes of the [IPython Cookbook](http://ipython-books.github.io/), the definitive guide to high-performance scientific computing and data science in Python.\n"
          ],
          "metadata": {}
        },
        {
          "cell_type": "markdown",
          "source": [
            "# 11.1. Manipulating the exposure of an image"
          ],
          "metadata": {}
        },
        {
          "cell_type": "markdown",
          "source": [
            "You need scikit-image for this recipe. You will find the installation instructions [here](http://scikit-image.org/download.html).\n",
            "\n",
            "You also need to download the *Beach* dataset. (http://ipython-books.github.io)"
          ],
          "metadata": {}
        },
        {
          "cell_type": "markdown",
          "source": [
            "1. Let's import the packages."
          ],
          "metadata": {}
        },
        {
          "collapsed": false,
          "metadata": {},
          "cell_type": "code",
          "outputs": [],
          "input": [
            "import numpy as np\n",
            "import matplotlib as mpl\n",
            "import matplotlib.pyplot as plt\n",
            "import skimage.exposure as skie\n",
            "%matplotlib inline\n"
          ],
          "language": "python"
        },
        {
          "cell_type": "markdown",
          "source": [
            "2. We open an image with matplotlib. We only take a single RGB component to have a grayscale image."
          ],
          "metadata": {}
        },
        {
          "collapsed": false,
          "metadata": {},
          "cell_type": "code",
          "outputs": [],
          "input": [
            "img = plt.imread('data/pic1.jpg')[...,0]"
          ],
          "language": "python"
        },
        {
          "cell_type": "markdown",
          "source": [
            "3. We create a function that displays the image along with its **histogram**."
          ],
          "metadata": {}
        },
        {
          "collapsed": false,
          "metadata": {},
          "cell_type": "code",
          "outputs": [],
          "input": [
            "def show(img):\n",
            "    # Display the image.\n",
            "    plt.figure(figsize=(8,2));\n",
            "    plt.subplot(121);\n",
            "    plt.imshow(img, cmap=plt.cm.gray);\n",
            "    plt.axis('off');\n",
            "    # Display the histogram.\n",
            "    plt.subplot(122);\n",
            "    plt.hist(img.ravel(), lw=0, bins=256);\n",
            "    plt.xlim(0, img.max());\n",
            "    plt.yticks([]);\n",
            "    plt.show()"
          ],
          "language": "python"
        },
        {
          "cell_type": "markdown",
          "source": [
            "4. Let's display the image along with its histogram."
          ],
          "metadata": {}
        },
        {
          "collapsed": false,
          "metadata": {},
          "cell_type": "code",
          "outputs": [],
          "input": [
            "show(img)"
          ],
          "language": "python"
        },
        {
          "cell_type": "markdown",
          "source": [
            "The histogram is unbalanced and the image appears slightly over-exposed."
          ],
          "metadata": {}
        },
        {
          "cell_type": "markdown",
          "source": [
            "5. Now, we rescale the intensity of the image using scikit-image's `rescale_intensity` function. The `in_range` and `out_range` define a linear mapping from the original image to the modified image. The pixels that are outside `in_range` are clipped to the extremal values of `out_range`. Here, the darkest pixels (intensity less than 100) become completely black (0), whereas the brightest pixels (>240) become completely white (255)."
          ],
          "metadata": {}
        },
        {
          "collapsed": false,
          "metadata": {},
          "cell_type": "code",
          "outputs": [],
          "input": [
            "show(skie.rescale_intensity(img,\n",
            "     in_range=(100, 240), out_range=(0, 255)))"
          ],
          "language": "python"
        },
        {
          "cell_type": "markdown",
          "source": [
            "Many intensity values seem to be missing in the histogram, which reflects the poor quality of this exposure correction technique."
          ],
          "metadata": {}
        },
        {
          "cell_type": "markdown",
          "source": [
            "6. We now use a more advanced exposure correction technique called **Contrast Limited Adaptive Histogram Equalization**."
          ],
          "metadata": {}
        },
        {
          "collapsed": false,
          "metadata": {},
          "cell_type": "code",
          "outputs": [],
          "input": [
            "show(skie.equalize_adapthist(img))"
          ],
          "language": "python"
        },
        {
          "cell_type": "markdown",
          "source": [
            "The histogram seems more balanced, and the image now appears more contrasted."
          ],
          "metadata": {}
        },
        {
          "cell_type": "markdown",
          "source": [
            "> You'll find all the explanations, figures, references, and much more in the book (to be released later this summer).\n",
            "\n",
            "> [IPython Cookbook](http://ipython-books.github.io/), by [Cyrille Rossant](http://cyrille.rossant.net), Packt Publishing, 2014 (500 pages)."
          ],
          "metadata": {}
        }
      ]
    }
  ]
}
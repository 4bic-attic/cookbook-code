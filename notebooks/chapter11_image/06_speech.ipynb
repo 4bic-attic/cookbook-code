{
  "metadata": {
    "signature": "sha256:543758fa8715a6d20c93a9b507c77bc77b1883550cab375492232b256cb6691f",
    "name": ""
  },
  "nbformat": 3,
  "nbformat_minor": 0,
  "worksheets": [
    {
      "metadata": {},
      "cells": [
        {
          "cell_type": "markdown",
          "source": [
            "> This is one of the 100 recipes of the [IPython Cookbook](http://ipython-books.github.io/), the definitive guide to high-performance scientific computing and data science in Python.\n"
          ],
          "metadata": {}
        },
        {
          "cell_type": "markdown",
          "source": [
            "# 11.6. Applying digital filters to speech sounds"
          ],
          "metadata": {}
        },
        {
          "cell_type": "markdown",
          "source": [
            "> **PYTHON 3 VERSION**"
          ],
          "metadata": {}
        },
        {
          "cell_type": "markdown",
          "source": [
            "You need the pydub package: you can install it with `pip install pydub`. (https://github.com/jiaaro/pydub/)"
          ],
          "metadata": {}
        },
        {
          "cell_type": "markdown",
          "source": [
            "This package requires the open-source multimedia library FFmpeg for the decompression of MP3 files. (http://www.ffmpeg.org)"
          ],
          "metadata": {}
        },
        {
          "cell_type": "markdown",
          "source": [
            "1. Let's import the packages."
          ],
          "metadata": {}
        },
        {
          "collapsed": false,
          "metadata": {},
          "cell_type": "code",
          "outputs": [],
          "input": [
            "import urllib\n",
            "from io import BytesIO\n",
            "import numpy as np\n",
            "import scipy.signal as sg\n",
            "import pydub\n",
            "import matplotlib.pyplot as plt\n",
            "from IPython.display import Audio, display\n",
            "import matplotlib as mpl\n",
            "%matplotlib inline\n"
          ],
          "language": "python"
        },
        {
          "cell_type": "markdown",
          "source": [
            "2. We create a Python function to generate a sound from an English sentence. This function uses Google's Text-To-Speech (TTT) API. We retrieve the sound in mp3 format, and we convert it to the Wave format with pydub. Finally, we retrieve the raw sound data by removing the wave header with NumPy."
          ],
          "metadata": {}
        },
        {
          "collapsed": false,
          "metadata": {},
          "cell_type": "code",
          "outputs": [],
          "input": [
            "def speak(sentence):\n",
            "    url = \"http://translate.google.com/translate_tts?tl=en&q=\" + \\\n",
            "          urllib.parse.quote_plus(sentence)\n",
            "    req = urllib.request.Request(url, headers={'User-Agent': ''}) \n",
            "    mp3 = urllib.request.urlopen(req).read()\n",
            "    # We convert the mp3 bytes to wav.\n",
            "    audio = pydub.AudioSegment.from_mp3(BytesIO(mp3))\n",
            "    wave = audio.export('_', format='wav')\n",
            "    wave.seek(0)\n",
            "    wave = wave.read()\n",
            "    # We get the raw data by removing the 24 first bytes \n",
            "    # of the header.\n",
            "    x = np.frombuffer(wave, np.int16)[24:] / 2.**15\n",
            "    return x, audio.frame_rate"
          ],
          "language": "python"
        },
        {
          "cell_type": "markdown",
          "source": [
            "3. We create a function that plays a sound (represented by a NumPy vector) in the notebook, using IPython's `Audio` class."
          ],
          "metadata": {}
        },
        {
          "collapsed": false,
          "metadata": {},
          "cell_type": "code",
          "outputs": [],
          "input": [
            "def play(x, fr, autoplay=False):\n",
            "    display(Audio(x, rate=fr, autoplay=autoplay))"
          ],
          "language": "python"
        },
        {
          "cell_type": "markdown",
          "source": [
            "4. Let's play the sound \"Hello world\". We also display the waveform with matplotlib."
          ],
          "metadata": {}
        },
        {
          "collapsed": false,
          "metadata": {},
          "cell_type": "code",
          "outputs": [],
          "input": [
            "x, fr = speak(\"Hello world\")\n",
            "play(x, fr)\n",
            "plt.figure(figsize=(6,3));\n",
            "t = np.linspace(0., len(x)/fr, len(x))\n",
            "plt.plot(t, x, lw=1);"
          ],
          "language": "python"
        },
        {
          "cell_type": "markdown",
          "source": [
            "5. Now, we will hear the effect of a Butterworth low-pass filter applied to this sound (500 Hz cutoff frequency)."
          ],
          "metadata": {}
        },
        {
          "collapsed": false,
          "metadata": {},
          "cell_type": "code",
          "outputs": [],
          "input": [
            "b, a = sg.butter(4, 500./(fr/2.), 'low')\n",
            "x_fil = sg.filtfilt(b, a, x)"
          ],
          "language": "python"
        },
        {
          "collapsed": false,
          "metadata": {},
          "cell_type": "code",
          "outputs": [],
          "input": [
            "play(x_fil, fr)\n",
            "plt.figure(figsize=(6,3));\n",
            "plt.plot(t, x, lw=1);\n",
            "plt.plot(t, x_fil, lw=1);"
          ],
          "language": "python"
        },
        {
          "cell_type": "markdown",
          "source": [
            "We hear a muffled voice."
          ],
          "metadata": {}
        },
        {
          "cell_type": "markdown",
          "source": [
            "6. And now with a high-pass filter (1000 Hz cutoff frequency)."
          ],
          "metadata": {}
        },
        {
          "collapsed": false,
          "metadata": {},
          "cell_type": "code",
          "outputs": [],
          "input": [
            "b, a = sg.butter(4, 1000./(fr/2.), 'high')\n",
            "x_fil = sg.filtfilt(b, a, x)"
          ],
          "language": "python"
        },
        {
          "collapsed": false,
          "metadata": {},
          "cell_type": "code",
          "outputs": [],
          "input": [
            "play(x_fil, fr)\n",
            "plt.figure(figsize=(6,3));\n",
            "plt.plot(t, x, lw=1);\n",
            "plt.plot(t, x_fil, lw=1);"
          ],
          "language": "python"
        },
        {
          "cell_type": "markdown",
          "source": [
            "It sounds like a phone call."
          ],
          "metadata": {}
        },
        {
          "cell_type": "markdown",
          "source": [
            "7. Finally, we can create a simple widget to quickly test the effect of a high-pass filter with an arbitrary cutoff frequency."
          ],
          "metadata": {}
        },
        {
          "collapsed": false,
          "metadata": {},
          "cell_type": "code",
          "outputs": [],
          "input": [
            "from IPython.html import widgets\n",
            "@widgets.interact(t=(100., 5000., 100.))\n",
            "def highpass(t):\n",
            "    b, a = sg.butter(4, t/(fr/2.), 'high')\n",
            "    x_fil = sg.filtfilt(b, a, x)\n",
            "    play(x_fil, fr, autoplay=True)"
          ],
          "language": "python"
        },
        {
          "cell_type": "markdown",
          "source": [
            "> You'll find all the explanations, figures, references, and much more in the book (to be released later this summer).\n",
            "\n",
            "> [IPython Cookbook](http://ipython-books.github.io/), by [Cyrille Rossant](http://cyrille.rossant.net), Packt Publishing, 2014 (500 pages)."
          ],
          "metadata": {}
        }
      ]
    }
  ]
}
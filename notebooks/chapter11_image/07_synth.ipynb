{
  "metadata": {
    "signature": "sha256:b13b82ab2b72800124dcad04c4a86dec0eacb33450bbbe804429e02c958a32dc",
    "name": ""
  },
  "nbformat": 3,
  "nbformat_minor": 0,
  "worksheets": [
    {
      "metadata": {},
      "cells": [
        {
          "cell_type": "markdown",
          "source": [
            "> This is one of the 100 recipes of the [IPython Cookbook](http://ipython-books.github.io/), the definitive guide to high-performance scientific computing and data science in Python.\n"
          ],
          "metadata": {}
        },
        {
          "cell_type": "markdown",
          "source": [
            "# 11.7. Creating a sound synthesizer in the notebook"
          ],
          "metadata": {}
        },
        {
          "cell_type": "markdown",
          "source": [
            "1. We import NumPy, matplotlib, and various IPython packages and objects."
          ],
          "metadata": {}
        },
        {
          "collapsed": false,
          "metadata": {},
          "cell_type": "code",
          "outputs": [],
          "input": [
            "import numpy as np\n",
            "import matplotlib.pyplot as plt\n",
            "from IPython.display import Audio, display, clear_output\n",
            "from IPython.html import widgets\n",
            "from functools import partial\n",
            "import matplotlib as mpl\n",
            "%matplotlib inline\n"
          ],
          "language": "python"
        },
        {
          "cell_type": "markdown",
          "source": [
            "2. We define the sampling rate and the duration of the notes."
          ],
          "metadata": {}
        },
        {
          "collapsed": false,
          "metadata": {},
          "cell_type": "code",
          "outputs": [],
          "input": [
            "rate = 16000.\n",
            "duration = .5\n",
            "t = np.linspace(0., duration, rate * duration)"
          ],
          "language": "python"
        },
        {
          "cell_type": "markdown",
          "source": [
            "3. We create a function that generates and plays the sound of a note (sine function) at a given frequency, using NumPy and IPython's `Audio` class."
          ],
          "metadata": {}
        },
        {
          "collapsed": false,
          "metadata": {},
          "cell_type": "code",
          "outputs": [],
          "input": [
            "def synth(f):\n",
            "    x = np.sin(f * 2. * np.pi * t)\n",
            "    display(Audio(x, rate=rate, autoplay=True))"
          ],
          "language": "python"
        },
        {
          "cell_type": "markdown",
          "source": [
            "4. Here is the fundamental 440 Hz note."
          ],
          "metadata": {}
        },
        {
          "collapsed": false,
          "metadata": {},
          "cell_type": "code",
          "outputs": [],
          "input": [
            "synth(440)"
          ],
          "language": "python"
        },
        {
          "cell_type": "markdown",
          "source": [
            "5. Now, we generate the note frequencies of our piano. The chromatic scale is obtained by a geometric progression with common ratio $2^{1/12}$."
          ],
          "metadata": {}
        },
        {
          "collapsed": false,
          "metadata": {},
          "cell_type": "code",
          "outputs": [],
          "input": [
            "notes = zip('C,C#,D,D#,E,F,F#,G,G#,A,A#,B,C'.split(','),\n",
            "            440. * 2 ** (np.arange(3, 17) / 12.))"
          ],
          "language": "python"
        },
        {
          "cell_type": "markdown",
          "source": [
            "6. Finally, we create the piano with the notebook widgets. Each note is a button, and all buttons are contained in an horizontal box container. Clicking on one note plays a sound at the corresponding frequency."
          ],
          "metadata": {}
        },
        {
          "collapsed": false,
          "metadata": {},
          "cell_type": "code",
          "outputs": [],
          "input": [
            "container = widgets.ContainerWidget()\n",
            "buttons = []\n",
            "for note, f in notes:\n",
            "    button = widgets.ButtonWidget(description=note)\n",
            "    def on_button_clicked(f, b):\n",
            "        clear_output()\n",
            "        synth(f)\n",
            "    button.on_click(partial(on_button_clicked, f))\n",
            "    button.set_css({'width': '30px', \n",
            "                    'height': '60px',\n",
            "                    'padding': '0',\n",
            "                    'color': ('black', 'white')['#' in note],\n",
            "                    'background': ('white', 'black')['#' in note],\n",
            "                    'border': '1px solid black',\n",
            "                    'float': 'left'})\n",
            "    buttons.append(button)\n",
            "container.children = buttons\n",
            "display(container)\n",
            "container.remove_class('vbox')\n",
            "container.add_class('hbox')"
          ],
          "language": "python"
        },
        {
          "cell_type": "markdown",
          "source": [
            "> You'll find all the explanations, figures, references, and much more in the book (to be released later this summer).\n",
            "\n",
            "> [IPython Cookbook](http://ipython-books.github.io/), by [Cyrille Rossant](http://cyrille.rossant.net), Packt Publishing, 2014 (500 pages)."
          ],
          "metadata": {}
        }
      ]
    }
  ]
}
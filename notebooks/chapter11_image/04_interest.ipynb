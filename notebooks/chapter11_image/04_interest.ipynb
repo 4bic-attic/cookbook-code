{
  "metadata": {
    "signature": "sha256:a479b8ae3be7bcbbe4e766c1d91526548e38aa69daade24b2b31aa72bd0f1f05",
    "name": ""
  },
  "nbformat": 3,
  "nbformat_minor": 0,
  "worksheets": [
    {
      "metadata": {},
      "cells": [
        {
          "cell_type": "markdown",
          "source": [
            "> This is one of the 100 recipes of the [IPython Cookbook](http://ipython-books.github.io/), the definitive guide to high-performance scientific computing and data science in Python.\n"
          ],
          "metadata": {}
        },
        {
          "cell_type": "markdown",
          "source": [
            "# 11.4. Finding points of interest in an image"
          ],
          "metadata": {}
        },
        {
          "cell_type": "markdown",
          "source": [
            "You need to download the *Child* dataset on the book's website. (http://ipython-books.github.io)"
          ],
          "metadata": {}
        },
        {
          "cell_type": "markdown",
          "source": [
            "1. Let's import the packages."
          ],
          "metadata": {}
        },
        {
          "collapsed": false,
          "metadata": {},
          "cell_type": "code",
          "outputs": [],
          "input": [
            "import numpy as np\n",
            "import matplotlib.pyplot as plt\n",
            "import skimage\n",
            "import skimage.feature as sf\n",
            "import matplotlib as mpl\n",
            "%matplotlib inline\n"
          ],
          "language": "python"
        },
        {
          "cell_type": "markdown",
          "source": [
            "2. We create a function to display a colored or grayscale image."
          ],
          "metadata": {}
        },
        {
          "collapsed": false,
          "metadata": {},
          "cell_type": "code",
          "outputs": [],
          "input": [
            "def show(img, cmap=None):\n",
            "    cmap = cmap or plt.cm.gray\n",
            "    plt.figure(figsize=(4,2));\n",
            "    plt.imshow(img, cmap=cmap);\n",
            "    plt.axis('off');"
          ],
          "language": "python"
        },
        {
          "cell_type": "markdown",
          "source": [
            "3. We load an image."
          ],
          "metadata": {}
        },
        {
          "collapsed": false,
          "metadata": {},
          "cell_type": "code",
          "outputs": [],
          "input": [
            "img = plt.imread('data/pic2.jpg')"
          ],
          "language": "python"
        },
        {
          "collapsed": false,
          "metadata": {},
          "cell_type": "code",
          "outputs": [],
          "input": [
            "show(img)"
          ],
          "language": "python"
        },
        {
          "cell_type": "markdown",
          "source": [
            "4. We find salient points in the image with the Harris corner method. The first step consists in computing the **Harris corner measure response image** with the `corner_harris` function (we will explain this measure in *How it works...*)."
          ],
          "metadata": {}
        },
        {
          "collapsed": false,
          "metadata": {},
          "cell_type": "code",
          "outputs": [],
          "input": [
            "corners = sf.corner_harris(img[:,:,0])"
          ],
          "language": "python"
        },
        {
          "collapsed": false,
          "metadata": {},
          "cell_type": "code",
          "outputs": [],
          "input": [
            "show(corners)"
          ],
          "language": "python"
        },
        {
          "cell_type": "markdown",
          "source": [
            "We see that the patterns in the child's coat are particularly well detected by this algorithm."
          ],
          "metadata": {}
        },
        {
          "cell_type": "markdown",
          "source": [
            "5. The next step consists in detecting corners from this measure image, using the `corner_peaks` function."
          ],
          "metadata": {}
        },
        {
          "collapsed": false,
          "metadata": {},
          "cell_type": "code",
          "outputs": [],
          "input": [
            "peaks = sf.corner_peaks(corners)"
          ],
          "language": "python"
        },
        {
          "collapsed": false,
          "metadata": {},
          "cell_type": "code",
          "outputs": [],
          "input": [
            "show(img)\n",
            "plt.plot(peaks[:,1], peaks[:,0], 'or', ms=4);"
          ],
          "language": "python"
        },
        {
          "cell_type": "markdown",
          "source": [
            "6. Finally, we create a box around the corner points to define our region of interest."
          ],
          "metadata": {}
        },
        {
          "collapsed": false,
          "metadata": {},
          "cell_type": "code",
          "outputs": [],
          "input": [
            "ymin, xmin = peaks.min(axis=0)\n",
            "ymax, xmax = peaks.max(axis=0)\n",
            "w, h = xmax-xmin, ymax-ymin"
          ],
          "language": "python"
        },
        {
          "collapsed": false,
          "metadata": {},
          "cell_type": "code",
          "outputs": [],
          "input": [
            "k = .25\n",
            "xmin -= k*w\n",
            "xmax += k*w\n",
            "ymin -= k*h\n",
            "ymax += k*h"
          ],
          "language": "python"
        },
        {
          "collapsed": false,
          "metadata": {},
          "cell_type": "code",
          "outputs": [],
          "input": [
            "show(img[ymin:ymax,xmin:xmax])"
          ],
          "language": "python"
        },
        {
          "cell_type": "markdown",
          "source": [
            "> You'll find all the explanations, figures, references, and much more in the book (to be released later this summer).\n",
            "\n",
            "> [IPython Cookbook](http://ipython-books.github.io/), by [Cyrille Rossant](http://cyrille.rossant.net), Packt Publishing, 2014 (500 pages)."
          ],
          "metadata": {}
        }
      ]
    }
  ]
}
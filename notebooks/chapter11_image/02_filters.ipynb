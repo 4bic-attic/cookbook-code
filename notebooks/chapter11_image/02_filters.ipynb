{
  "metadata": {
    "signature": "sha256:ab88678633bd1daf9651bb1d7dd3e9c6f78ddd85499b0fcafc55e2c99b053ade",
    "name": ""
  },
  "nbformat": 3,
  "nbformat_minor": 0,
  "worksheets": [
    {
      "metadata": {},
      "cells": [
        {
          "cell_type": "markdown",
          "source": [
            "> This is one of the 100 recipes of the [IPython Cookbook](http://ipython-books.github.io/), the definitive guide to high-performance scientific computing and data science in Python.\n"
          ],
          "metadata": {}
        },
        {
          "cell_type": "markdown",
          "source": [
            "# 11.2. Applying filters on an image"
          ],
          "metadata": {}
        },
        {
          "cell_type": "markdown",
          "source": [
            "1. Let's import the packages."
          ],
          "metadata": {}
        },
        {
          "collapsed": false,
          "metadata": {},
          "cell_type": "code",
          "outputs": [],
          "input": [
            "import numpy as np\n",
            "import matplotlib.pyplot as plt\n",
            "import skimage\n",
            "import skimage.filter as skif\n",
            "import skimage.data as skid\n",
            "import matplotlib as mpl\n",
            "%matplotlib inline\n"
          ],
          "language": "python"
        },
        {
          "cell_type": "markdown",
          "source": [
            "2. We create a function that displays a grayscale image."
          ],
          "metadata": {}
        },
        {
          "collapsed": false,
          "metadata": {},
          "cell_type": "code",
          "outputs": [],
          "input": [
            "def show(img):\n",
            "    plt.figure(figsize=(4,2));\n",
            "    plt.imshow(img, cmap=plt.cm.gray);\n",
            "    plt.axis('off')\n",
            "    plt.show();"
          ],
          "language": "python"
        },
        {
          "cell_type": "markdown",
          "source": [
            "3. Now, we load the Lena image (bundled in scikit-image). We select a single RGB component to get a grayscale image."
          ],
          "metadata": {}
        },
        {
          "collapsed": false,
          "metadata": {},
          "cell_type": "code",
          "outputs": [],
          "input": [
            "img = skimage.img_as_float(skid.lena())[...,0]"
          ],
          "language": "python"
        },
        {
          "collapsed": false,
          "metadata": {},
          "cell_type": "code",
          "outputs": [],
          "input": [
            "show(img)"
          ],
          "language": "python"
        },
        {
          "cell_type": "markdown",
          "source": [
            "4. Let's apply a blurring **Gaussian filter** to the image."
          ],
          "metadata": {}
        },
        {
          "collapsed": false,
          "metadata": {},
          "cell_type": "code",
          "outputs": [],
          "input": [
            "show(skif.gaussian_filter(img, 5.))"
          ],
          "language": "python"
        },
        {
          "cell_type": "markdown",
          "source": [
            "5. We now apply a **Sobel filter** that enhances the edges in the image."
          ],
          "metadata": {}
        },
        {
          "collapsed": false,
          "metadata": {},
          "cell_type": "code",
          "outputs": [],
          "input": [
            "sobimg = skif.sobel(img)\n",
            "show(sobimg)"
          ],
          "language": "python"
        },
        {
          "cell_type": "markdown",
          "source": [
            "6. We can threshold the filtered image to get a *sketch effect*. We obtain a binary image that only contains the edges. We use a notebook widget to find an adequate thresholding value."
          ],
          "metadata": {}
        },
        {
          "collapsed": false,
          "metadata": {},
          "cell_type": "code",
          "outputs": [],
          "input": [
            "from IPython.html import widgets\n",
            "@widgets.interact(x=(0.01, .4, .005))\n",
            "def edge(x):\n",
            "    show(sobimg<x)"
          ],
          "language": "python"
        },
        {
          "cell_type": "markdown",
          "source": [
            "7. Finally, we add some noise to the image to illustrate the effect of a denoising filter."
          ],
          "metadata": {}
        },
        {
          "collapsed": false,
          "metadata": {},
          "cell_type": "code",
          "outputs": [],
          "input": [
            "img = skimage.img_as_float(skid.lena())\n",
            "# We take a portion of the image to show the details.\n",
            "img = img[200:-100, 200:-150]\n",
            "# We add Gaussian noise.\n",
            "img = np.clip(img + .3 * np.random.rand(*img.shape), 0, 1)"
          ],
          "language": "python"
        },
        {
          "collapsed": false,
          "metadata": {},
          "cell_type": "code",
          "outputs": [],
          "input": [
            "show(img)"
          ],
          "language": "python"
        },
        {
          "cell_type": "markdown",
          "source": [
            "8. The `denoise_tv_bregman` function implements total-variation denoising using split-Bregman optimization."
          ],
          "metadata": {}
        },
        {
          "collapsed": false,
          "metadata": {},
          "cell_type": "code",
          "outputs": [],
          "input": [
            "show(skimage.restoration.denoise_tv_bregman(img, 5.))"
          ],
          "language": "python"
        },
        {
          "cell_type": "markdown",
          "source": [
            "> You'll find all the explanations, figures, references, and much more in the book (to be released later this summer).\n",
            "\n",
            "> [IPython Cookbook](http://ipython-books.github.io/), by [Cyrille Rossant](http://cyrille.rossant.net), Packt Publishing, 2014 (500 pages)."
          ],
          "metadata": {}
        }
      ]
    }
  ]
}
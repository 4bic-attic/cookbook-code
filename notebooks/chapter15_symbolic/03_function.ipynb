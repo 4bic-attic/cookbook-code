{
  "metadata": {
    "signature": "sha256:6fe4293941bd8b2ea9b5fda970d90c07e2cc5f1b77555dedf3b3f5bf29961714",
    "name": ""
  },
  "nbformat": 3,
  "nbformat_minor": 0,
  "worksheets": [
    {
      "metadata": {},
      "cells": [
        {
          "cell_type": "markdown",
          "source": [
            "> This is one of the 100 recipes of the [IPython Cookbook](http://ipython-books.github.io/), the definitive guide to high-performance scientific computing and data science in Python.\n"
          ],
          "metadata": {}
        },
        {
          "cell_type": "markdown",
          "source": [
            "# 15.3. Analyzing real-valued functions"
          ],
          "metadata": {}
        },
        {
          "collapsed": false,
          "metadata": {},
          "cell_type": "code",
          "outputs": [],
          "input": [
            "from sympy import *\n",
            "init_printing()"
          ],
          "language": "python"
        },
        {
          "collapsed": false,
          "metadata": {},
          "cell_type": "code",
          "outputs": [],
          "input": [
            "var('x z')"
          ],
          "language": "python"
        },
        {
          "cell_type": "markdown",
          "source": [
            "We define a new function depending on x."
          ],
          "metadata": {}
        },
        {
          "collapsed": false,
          "metadata": {},
          "cell_type": "code",
          "outputs": [],
          "input": [
            "f = 1/(1+x**2)"
          ],
          "language": "python"
        },
        {
          "cell_type": "markdown",
          "source": [
            "Let's evaluate this function in 1."
          ],
          "metadata": {}
        },
        {
          "collapsed": false,
          "metadata": {},
          "cell_type": "code",
          "outputs": [],
          "input": [
            "f.subs(x, 1)"
          ],
          "language": "python"
        },
        {
          "cell_type": "markdown",
          "source": [
            "We can compute the derivative of this function..."
          ],
          "metadata": {}
        },
        {
          "collapsed": false,
          "metadata": {},
          "cell_type": "code",
          "outputs": [],
          "input": [
            "diff(f, x)"
          ],
          "language": "python"
        },
        {
          "cell_type": "markdown",
          "source": [
            "limits..."
          ],
          "metadata": {}
        },
        {
          "collapsed": false,
          "metadata": {},
          "cell_type": "code",
          "outputs": [],
          "input": [
            "limit(f, x, oo)"
          ],
          "language": "python"
        },
        {
          "cell_type": "markdown",
          "source": [
            "Taylor series..."
          ],
          "metadata": {}
        },
        {
          "collapsed": false,
          "metadata": {},
          "cell_type": "code",
          "outputs": [],
          "input": [
            "series(f, x0=0, n=9)"
          ],
          "language": "python"
        },
        {
          "cell_type": "markdown",
          "source": [
            "Definite integrals..."
          ],
          "metadata": {}
        },
        {
          "collapsed": false,
          "metadata": {},
          "cell_type": "code",
          "outputs": [],
          "input": [
            "integrate(f, (x, -oo, oo))"
          ],
          "language": "python"
        },
        {
          "cell_type": "markdown",
          "source": [
            "indefinite integrals..."
          ],
          "metadata": {}
        },
        {
          "collapsed": false,
          "metadata": {},
          "cell_type": "code",
          "outputs": [],
          "input": [
            "integrate(f, x)"
          ],
          "language": "python"
        },
        {
          "cell_type": "markdown",
          "source": [
            "and even Fourier transforms!"
          ],
          "metadata": {}
        },
        {
          "collapsed": false,
          "metadata": {},
          "cell_type": "code",
          "outputs": [],
          "input": [
            "fourier_transform(f, x, z)"
          ],
          "language": "python"
        },
        {
          "cell_type": "markdown",
          "source": [
            "> You'll find all the explanations, figures, references, and much more in the book (to be released later this summer).\n",
            "\n",
            "> [IPython Cookbook](http://ipython-books.github.io/), by [Cyrille Rossant](http://cyrille.rossant.net), Packt Publishing, 2014 (500 pages)."
          ],
          "metadata": {}
        }
      ]
    }
  ]
}
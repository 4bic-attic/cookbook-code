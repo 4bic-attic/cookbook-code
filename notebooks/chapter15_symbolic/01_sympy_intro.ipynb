{
  "nbformat_minor": 0,
  "nbformat": 3,
  "metadata": {
    "signature": "sha256:1a44a052735860b741a061de62cffe517472f116340d626f48d65f15e847db29",
    "name": ""
  },
  "worksheets": [
    {
      "metadata": {},
      "cells": [
        {
          "cell_type": "markdown",
          "source": [
            "> This is one of the 100 recipes of the [IPython Cookbook](http://ipython-books.github.io/), the definitive guide to high-performance scientific computing and data science in Python.\n"
          ],
          "metadata": {}
        },
        {
          "cell_type": "markdown",
          "source": [
            "# 15.1. Diving into symbolic computing with SymPy"
          ],
          "metadata": {}
        },
        {
          "cell_type": "markdown",
          "source": [
            "SymPy is a pure Python package for symbolic mathematics."
          ],
          "metadata": {}
        },
        {
          "cell_type": "markdown",
          "source": [
            "First, we import SymPy, and enable rich display LaTeX-based printing in the IPython notebook (using the MathJax Javascript library)."
          ],
          "metadata": {}
        },
        {
          "collapsed": false,
          "metadata": {},
          "cell_type": "code",
          "outputs": [],
          "input": [
            "from sympy import *\n",
            "init_printing()"
          ],
          "language": "python"
        },
        {
          "cell_type": "markdown",
          "source": [
            "With NumPy and the other packages we have been using so far, we were dealing with numbers and numerical arrays. With SymPy, we deal with symbolic variables. It's a radically different shift of paradigm, which mathematicians may be more familiar with."
          ],
          "metadata": {}
        },
        {
          "cell_type": "markdown",
          "source": [
            "To deal with symbolic variables, we need to declare them."
          ],
          "metadata": {}
        },
        {
          "collapsed": false,
          "metadata": {},
          "cell_type": "code",
          "outputs": [],
          "input": [
            "var('x y')"
          ],
          "language": "python"
        },
        {
          "cell_type": "markdown",
          "source": [
            "The var function creates symbols and injects them into the namespace. This function should only be used in interactive mode. In a Python module, it is better to use the symbol function which returns the symbols."
          ],
          "metadata": {}
        },
        {
          "collapsed": false,
          "metadata": {},
          "cell_type": "code",
          "outputs": [],
          "input": [
            "x, y = symbols('x y')"
          ],
          "language": "python"
        },
        {
          "cell_type": "markdown",
          "source": [
            "We can create mathematical expressions with these symbols."
          ],
          "metadata": {}
        },
        {
          "collapsed": false,
          "metadata": {},
          "cell_type": "code",
          "outputs": [],
          "input": [
            "expr1 = (x + 1)**2\n",
            "expr2 = x**2 + 2*x + 1"
          ],
          "language": "python"
        },
        {
          "cell_type": "markdown",
          "source": [
            "Are these expressions equal?"
          ],
          "metadata": {}
        },
        {
          "collapsed": false,
          "metadata": {},
          "cell_type": "code",
          "outputs": [],
          "input": [
            "expr1 == expr2"
          ],
          "language": "python"
        },
        {
          "cell_type": "markdown",
          "source": [
            "These expressions are mathematically equal, but not syntactically identical. To test whether they are equal, we can ask SymPy to simplify the difference algebraically."
          ],
          "metadata": {}
        },
        {
          "collapsed": false,
          "metadata": {},
          "cell_type": "code",
          "outputs": [],
          "input": [
            "simplify(expr1-expr2)"
          ],
          "language": "python"
        },
        {
          "cell_type": "markdown",
          "source": [
            "A very common operation with symbolic expressions is substitution of a symbol by another symbol, expression, or a number."
          ],
          "metadata": {}
        },
        {
          "collapsed": false,
          "metadata": {},
          "cell_type": "code",
          "outputs": [],
          "input": [
            "expr1.subs(x, expr1)"
          ],
          "language": "python"
        },
        {
          "collapsed": false,
          "metadata": {},
          "cell_type": "code",
          "outputs": [],
          "input": [
            "expr1.subs(x, pi)"
          ],
          "language": "python"
        },
        {
          "cell_type": "markdown",
          "source": [
            "A rational number cannot be written simply as \"1/2\" as this Python expression evaluates to 0. A possibility is to use a SymPy object for 1, for example using the function S."
          ],
          "metadata": {}
        },
        {
          "collapsed": false,
          "metadata": {},
          "cell_type": "code",
          "outputs": [],
          "input": [
            "expr1.subs(x, S(1)/2)"
          ],
          "language": "python"
        },
        {
          "cell_type": "markdown",
          "source": [
            "Exactly-represented numbers can be evaluated numerically with evalf:"
          ],
          "metadata": {}
        },
        {
          "collapsed": false,
          "metadata": {},
          "cell_type": "code",
          "outputs": [],
          "input": [
            "_.evalf()"
          ],
          "language": "python"
        },
        {
          "cell_type": "markdown",
          "source": [
            "We can transform this *symbolic* function into an actual Python function that can be evaluated on NumPy arrays, using the `lambdify` function."
          ],
          "metadata": {}
        },
        {
          "collapsed": false,
          "metadata": {},
          "cell_type": "code",
          "outputs": [],
          "input": [
            "f = lambdify(x, expr1)"
          ],
          "language": "python"
        },
        {
          "collapsed": false,
          "metadata": {},
          "cell_type": "code",
          "outputs": [],
          "input": [
            "import numpy as np\n",
            "f(np.linspace(-2., 2., 5))"
          ],
          "language": "python"
        },
        {
          "cell_type": "markdown",
          "source": [
            "> You'll find all the explanations, figures, references, and much more in the book (to be released later this summer).\n\n> [IPython Cookbook](http://ipython-books.github.io/), by [Cyrille Rossant](http://cyrille.rossant.net), Packt Publishing, 2014 (500 pages)."
          ],
          "metadata": {}
        }
      ]
    }
  ]
}
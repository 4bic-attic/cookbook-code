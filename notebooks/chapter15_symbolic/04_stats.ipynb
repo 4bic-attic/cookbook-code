{
  "nbformat_minor": 0,
  "nbformat": 3,
  "metadata": {
    "signature": "sha256:8d70e596876185b9a9dc98566e1eb7a4cf5807b5051fc8587e79fef95456269f",
    "name": ""
  },
  "worksheets": [
    {
      "metadata": {},
      "cells": [
        {
          "cell_type": "markdown",
          "source": [
            "> This is one of the 100 recipes of the [IPython Cookbook](http://ipython-books.github.io/), the definitive guide to high-performance scientific computing and data science in Python.\n"
          ],
          "metadata": {}
        },
        {
          "cell_type": "markdown",
          "source": [
            "# 15.4. Computing exact probabilities and manipulating random variables"
          ],
          "metadata": {}
        },
        {
          "collapsed": false,
          "metadata": {},
          "cell_type": "code",
          "outputs": [],
          "input": [
            "from sympy import *\n",
            "from sympy.stats import *\n",
            "init_printing()"
          ],
          "language": "python"
        },
        {
          "cell_type": "markdown",
          "source": [
            "## Rolling dice"
          ],
          "metadata": {}
        },
        {
          "cell_type": "markdown",
          "source": [
            "Let's roll two dices X and Y."
          ],
          "metadata": {}
        },
        {
          "collapsed": false,
          "metadata": {},
          "cell_type": "code",
          "outputs": [],
          "input": [
            "X, Y = Die('X', 6), Die('Y', 6)"
          ],
          "language": "python"
        },
        {
          "cell_type": "markdown",
          "source": [
            "We can compute probabilities defined by equalities (with the Eq operator) or inequalities..."
          ],
          "metadata": {}
        },
        {
          "collapsed": false,
          "metadata": {},
          "cell_type": "code",
          "outputs": [],
          "input": [
            "P(Eq(X, 3))"
          ],
          "language": "python"
        },
        {
          "collapsed": false,
          "metadata": {},
          "cell_type": "code",
          "outputs": [],
          "input": [
            "P(X>3)"
          ],
          "language": "python"
        },
        {
          "cell_type": "markdown",
          "source": [
            "Conditions can also involve multiple random variables..."
          ],
          "metadata": {}
        },
        {
          "collapsed": false,
          "metadata": {},
          "cell_type": "code",
          "outputs": [],
          "input": [
            "P(X>Y)"
          ],
          "language": "python"
        },
        {
          "cell_type": "markdown",
          "source": [
            "Conditional probabilities..."
          ],
          "metadata": {}
        },
        {
          "collapsed": false,
          "metadata": {},
          "cell_type": "code",
          "outputs": [],
          "input": [
            "P(X+Y>6, X<5)"
          ],
          "language": "python"
        },
        {
          "cell_type": "markdown",
          "source": [
            "## Continuous random variables"
          ],
          "metadata": {}
        },
        {
          "cell_type": "markdown",
          "source": [
            "We can also work with arbitrary discrete or continuous random variables."
          ],
          "metadata": {}
        },
        {
          "collapsed": false,
          "metadata": {},
          "cell_type": "code",
          "outputs": [],
          "input": [
            "Z = Normal('Z', 0, 1)  # Gaussian variable"
          ],
          "language": "python"
        },
        {
          "collapsed": false,
          "metadata": {},
          "cell_type": "code",
          "outputs": [],
          "input": [
            "P(Z>pi)"
          ],
          "language": "python"
        },
        {
          "cell_type": "markdown",
          "source": [
            "We can compute expectancies and variances..."
          ],
          "metadata": {}
        },
        {
          "collapsed": false,
          "metadata": {},
          "cell_type": "code",
          "outputs": [],
          "input": [
            "E(Z**2), variance(Z**2)"
          ],
          "language": "python"
        },
        {
          "cell_type": "markdown",
          "source": [
            "as well as densities."
          ],
          "metadata": {}
        },
        {
          "collapsed": false,
          "metadata": {},
          "cell_type": "code",
          "outputs": [],
          "input": [
            "f = density(Z)"
          ],
          "language": "python"
        },
        {
          "cell_type": "markdown",
          "source": [
            "This is a lambda function, it can be evaluated on a SymPy symbol:"
          ],
          "metadata": {}
        },
        {
          "collapsed": false,
          "metadata": {},
          "cell_type": "code",
          "outputs": [],
          "input": [
            "var('x')\n",
            "f(x)"
          ],
          "language": "python"
        },
        {
          "cell_type": "markdown",
          "source": [
            "We can plot this density."
          ],
          "metadata": {}
        },
        {
          "collapsed": false,
          "metadata": {},
          "cell_type": "code",
          "outputs": [],
          "input": [
            "%matplotlib inline\n",
            "plot(f(x), (x, -6, 6));"
          ],
          "language": "python"
        },
        {
          "cell_type": "markdown",
          "source": [
            "SymPy.stats works by using integrals and summations for computing probabilistic quantities. For example, P(Z>pi) is:"
          ],
          "metadata": {}
        },
        {
          "collapsed": false,
          "metadata": {},
          "cell_type": "code",
          "outputs": [],
          "input": [
            "Eq(Integral(f(x), (x, pi, oo)), \n",
            "   simplify(integrate(f(x), (x, pi, oo))))"
          ],
          "language": "python"
        },
        {
          "cell_type": "markdown",
          "source": [
            "> You'll find all the explanations, figures, references, and much more in the book (to be released later this summer).\n\n> [IPython Cookbook](http://ipython-books.github.io/), by [Cyrille Rossant](http://cyrille.rossant.net), Packt Publishing, 2014 (500 pages)."
          ],
          "metadata": {}
        }
      ]
    }
  ]
}
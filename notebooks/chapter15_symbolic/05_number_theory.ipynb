{
  "metadata": {
    "signature": "sha256:d7aedc6d3ae9ee10f2de4fa78fd2361cafb06741e11151a4c100b0ce8c63aec1",
    "name": ""
  },
  "nbformat": 3,
  "nbformat_minor": 0,
  "worksheets": [
    {
      "metadata": {},
      "cells": [
        {
          "cell_type": "markdown",
          "source": [
            "> This is one of the 100 recipes of the [IPython Cookbook](http://ipython-books.github.io/), the definitive guide to high-performance scientific computing and data science in Python.\n"
          ],
          "metadata": {}
        },
        {
          "cell_type": "markdown",
          "source": [
            "# 15.5. A bit of number theory with SymPy"
          ],
          "metadata": {}
        },
        {
          "collapsed": false,
          "metadata": {},
          "cell_type": "code",
          "outputs": [],
          "input": [
            "from sympy import *\n",
            "init_printing()"
          ],
          "language": "python"
        },
        {
          "collapsed": false,
          "metadata": {},
          "cell_type": "code",
          "outputs": [],
          "input": [
            "import sympy.ntheory as nt"
          ],
          "language": "python"
        },
        {
          "cell_type": "markdown",
          "source": [
            "## Prime numbers"
          ],
          "metadata": {}
        },
        {
          "cell_type": "markdown",
          "source": [
            "Test whether a number is prime."
          ],
          "metadata": {}
        },
        {
          "collapsed": false,
          "metadata": {},
          "cell_type": "code",
          "outputs": [],
          "input": [
            "nt.isprime(2011)"
          ],
          "language": "python"
        },
        {
          "cell_type": "markdown",
          "source": [
            "Find the next prime after a given number."
          ],
          "metadata": {}
        },
        {
          "collapsed": false,
          "metadata": {},
          "cell_type": "code",
          "outputs": [],
          "input": [
            "nt.nextprime(2011)"
          ],
          "language": "python"
        },
        {
          "cell_type": "markdown",
          "source": [
            "What is the 1000th prime number?"
          ],
          "metadata": {}
        },
        {
          "collapsed": false,
          "metadata": {},
          "cell_type": "code",
          "outputs": [],
          "input": [
            "nt.prime(1000)"
          ],
          "language": "python"
        },
        {
          "cell_type": "markdown",
          "source": [
            "How many primes less than 2011 are there?"
          ],
          "metadata": {}
        },
        {
          "collapsed": false,
          "metadata": {},
          "cell_type": "code",
          "outputs": [],
          "input": [
            "nt.primepi(2011)"
          ],
          "language": "python"
        },
        {
          "cell_type": "markdown",
          "source": [
            "We can plot $\\pi(x)$, the prime-counting function (the number of prime numbers less than or equal to some number x). The famous *prime number theorem* states that this function is asymptotically equivalent to $x/\\log(x)$. This expression approximately quantifies the distribution of the prime numbers among all integers."
          ],
          "metadata": {}
        },
        {
          "collapsed": false,
          "metadata": {},
          "cell_type": "code",
          "outputs": [],
          "input": [
            "import numpy as np\n",
            "import matplotlib.pyplot as plt\n",
            "%matplotlib inline"
          ],
          "language": "python"
        },
        {
          "collapsed": false,
          "metadata": {},
          "cell_type": "code",
          "outputs": [],
          "input": [
            "x = np.arange(2, 10000)\n",
            "plt.plot(x, list(map(nt.primepi, x)), '-k', label='$\\pi(x)$');\n",
            "plt.plot(x, x / np.log(x), '--k', label='$x/\\log(x)$');\n",
            "plt.legend(loc=2);"
          ],
          "language": "python"
        },
        {
          "cell_type": "markdown",
          "source": [
            "Let's compute the integer factorization of some number."
          ],
          "metadata": {}
        },
        {
          "collapsed": false,
          "metadata": {},
          "cell_type": "code",
          "outputs": [],
          "input": [
            "nt.factorint(1998)"
          ],
          "language": "python"
        },
        {
          "collapsed": false,
          "metadata": {},
          "cell_type": "code",
          "outputs": [],
          "input": [
            "2 * 3**3 * 37"
          ],
          "language": "python"
        },
        {
          "cell_type": "markdown",
          "source": [
            "## Chinese Remainder Theorem"
          ],
          "metadata": {}
        },
        {
          "cell_type": "markdown",
          "source": [
            "A lazy mathematician is counting his marbles. When they are arranged in three rows, the last column contains one marble. When they form four rows, there are two marbles in the last column, and there are three with five rows. The Chinese Remainer Theorem can give him the answer directly."
          ],
          "metadata": {}
        },
        {
          "collapsed": false,
          "metadata": {},
          "cell_type": "code",
          "outputs": [],
          "input": [
            "from sympy.ntheory.modular import solve_congruence"
          ],
          "language": "python"
        },
        {
          "collapsed": false,
          "metadata": {},
          "cell_type": "code",
          "outputs": [],
          "input": [
            "solve_congruence((1, 3), (2, 4), (3, 5))"
          ],
          "language": "python"
        },
        {
          "cell_type": "markdown",
          "source": [
            "There are infinitely many solutions: 58, and 58 plus any multiple of 60. Since 118 seems visually too high, 58 is the right answer."
          ],
          "metadata": {}
        },
        {
          "cell_type": "markdown",
          "source": [
            "> You'll find all the explanations, figures, references, and much more in the book (to be released later this summer).\n",
            "\n",
            "> [IPython Cookbook](http://ipython-books.github.io/), by [Cyrille Rossant](http://cyrille.rossant.net), Packt Publishing, 2014 (500 pages)."
          ],
          "metadata": {}
        }
      ]
    }
  ]
}
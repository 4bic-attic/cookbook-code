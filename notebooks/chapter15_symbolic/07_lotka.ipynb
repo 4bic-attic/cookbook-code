{
  "metadata": {
    "signature": "sha256:a1eaa6ed47df7af3a95be2bcd3c3aa81633f09adc8ab613ee9248f9c3e278833",
    "name": ""
  },
  "nbformat": 3,
  "nbformat_minor": 0,
  "worksheets": [
    {
      "metadata": {},
      "cells": [
        {
          "cell_type": "markdown",
          "source": [
            "> This is one of the 100 recipes of the [IPython Cookbook](http://ipython-books.github.io/), the definitive guide to high-performance scientific computing and data science in Python.\n"
          ],
          "metadata": {}
        },
        {
          "cell_type": "markdown",
          "source": [
            "# 15.7. Analyzing a nonlinear differential system: Lotka-Volterra (predator-prey) equations"
          ],
          "metadata": {}
        },
        {
          "cell_type": "markdown",
          "source": [
            "Here, we conduct a brief analytical study of a famous nonlinear differential system: the Lotka-Volterra equations, also known as predator-prey equations. This simple model describes the evolution of two interacting populations (e.g. sharks and sardines), where the predators eat the preys. This example illustrates how we can use SymPy to obtain exact expressions and results for fixed points and their stability."
          ],
          "metadata": {}
        },
        {
          "collapsed": false,
          "metadata": {},
          "cell_type": "code",
          "outputs": [],
          "input": [
            "from sympy import *\n",
            "init_printing()"
          ],
          "language": "python"
        },
        {
          "collapsed": false,
          "metadata": {},
          "cell_type": "code",
          "outputs": [],
          "input": [
            "var('x y')\n",
            "var('a b c d', positive=True)"
          ],
          "language": "python"
        },
        {
          "cell_type": "markdown",
          "source": [
            "The variables x and y represent the populations of the preys and predators, respectively. The parameters a, b, c and d are positive parameters (described more precisely in \"How it works...\"). The equations are:\n",
            "\n",
            "$$\\begin{align}\n",
            "\\frac{dx}{dt} &= f(x) = x(a-by)\\\\\n",
            "\\frac{dy}{dt} &= g(x) = -y(c-dx)\n",
            "\\end{align}$$"
          ],
          "metadata": {}
        },
        {
          "collapsed": false,
          "metadata": {},
          "cell_type": "code",
          "outputs": [],
          "input": [
            "f = x * (a - b*y)\n",
            "g = -y * (c - d*x)"
          ],
          "language": "python"
        },
        {
          "cell_type": "markdown",
          "source": [
            "Let's find the fixed points of the system (solving f(x,y) = g(x,y) = 0)."
          ],
          "metadata": {}
        },
        {
          "collapsed": false,
          "metadata": {},
          "cell_type": "code",
          "outputs": [],
          "input": [
            "solve([f, g], (x, y))"
          ],
          "language": "python"
        },
        {
          "collapsed": false,
          "metadata": {},
          "cell_type": "code",
          "outputs": [],
          "input": [
            "(x0, y0), (x1, y1) = _"
          ],
          "language": "python"
        },
        {
          "cell_type": "markdown",
          "source": [
            "Let's write the 2D vector with the two equations."
          ],
          "metadata": {}
        },
        {
          "collapsed": false,
          "metadata": {},
          "cell_type": "code",
          "outputs": [],
          "input": [
            "M = Matrix((f, g)); M"
          ],
          "language": "python"
        },
        {
          "cell_type": "markdown",
          "source": [
            "Now we can compute the Jacobian of the system, as a function of (x, y)."
          ],
          "metadata": {}
        },
        {
          "collapsed": false,
          "metadata": {},
          "cell_type": "code",
          "outputs": [],
          "input": [
            "J = M.jacobian((x, y)); J"
          ],
          "language": "python"
        },
        {
          "cell_type": "markdown",
          "source": [
            "Let's study the stability of the two fixed points by looking at the eigenvalues of the Jacobian at these points."
          ],
          "metadata": {}
        },
        {
          "collapsed": false,
          "metadata": {},
          "cell_type": "code",
          "outputs": [],
          "input": [
            "M0 = J.subs(x, x0).subs(y, y0); M0"
          ],
          "language": "python"
        },
        {
          "collapsed": false,
          "metadata": {},
          "cell_type": "code",
          "outputs": [],
          "input": [
            "M0.eigenvals()"
          ],
          "language": "python"
        },
        {
          "cell_type": "markdown",
          "source": [
            "The parameters a and c are strictly positive, so the eigenvalues are real and of opposite signs, and this fixed point is a saddle point. Since this point is unstable, the extinction of both populations is unlikely in this model."
          ],
          "metadata": {}
        },
        {
          "collapsed": false,
          "metadata": {},
          "cell_type": "code",
          "outputs": [],
          "input": [
            "M1 = J.subs(x, x1).subs(y, y1); M1"
          ],
          "language": "python"
        },
        {
          "collapsed": false,
          "metadata": {},
          "cell_type": "code",
          "outputs": [],
          "input": [
            "M1.eigenvals()"
          ],
          "language": "python"
        },
        {
          "cell_type": "markdown",
          "source": [
            "The eigenvalues are purely imaginary so this fixed point is not hyperbolic, and we cannot draw conclusions about the qualitative behavior of the system around this fixed point from this linear analysis. However, one can show with other methods that oscillations occur around this point."
          ],
          "metadata": {}
        },
        {
          "cell_type": "markdown",
          "source": [
            "> You'll find all the explanations, figures, references, and much more in the book (to be released later this summer).\n",
            "\n",
            "> [IPython Cookbook](http://ipython-books.github.io/), by [Cyrille Rossant](http://cyrille.rossant.net), Packt Publishing, 2014 (500 pages)."
          ],
          "metadata": {}
        }
      ]
    }
  ]
}
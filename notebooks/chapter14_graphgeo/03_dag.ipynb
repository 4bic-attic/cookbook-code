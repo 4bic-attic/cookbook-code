{
  "metadata": {
    "signature": "sha256:72ccf1c84144b417c499092777c86e519a770fac9d374b8a713fe490297aab15",
    "name": ""
  },
  "nbformat": 3,
  "nbformat_minor": 0,
  "worksheets": [
    {
      "metadata": {},
      "cells": [
        {
          "cell_type": "markdown",
          "source": [
            "> This is one of the 100 recipes of the [IPython Cookbook](http://ipython-books.github.io/), the definitive guide to high-performance scientific computing and data science in Python.\n"
          ],
          "metadata": {}
        },
        {
          "cell_type": "markdown",
          "source": [
            "# 14.3. Resolving dependencies in a Directed Acyclic Graph with a topological sort"
          ],
          "metadata": {}
        },
        {
          "cell_type": "markdown",
          "source": [
            "You need the `python-apt` package in order to build the package dependency graph. (https://pypi.python.org/pypi/python-apt/)\n",
            "\n",
            "We also assume that this notebook is executed on a Debian system (like Ubuntu). If you don't have such a system, you can download the data *Debian* directly on the book's website. Extract it in the current directory, and start this notebook directly at step 7. (http://ipython-books.github.io)"
          ],
          "metadata": {}
        },
        {
          "cell_type": "markdown",
          "source": [
            "1. We import the `apt` module and we build the list of packages."
          ],
          "metadata": {}
        },
        {
          "collapsed": false,
          "metadata": {},
          "cell_type": "code",
          "outputs": [],
          "input": [
            "import json\n",
            "import apt\n",
            "cache = apt.Cache()"
          ],
          "language": "python"
        },
        {
          "cell_type": "markdown",
          "source": [
            "2. The `graph` dictionary will contain the adjacency list of a small portion of the dependency graph."
          ],
          "metadata": {}
        },
        {
          "collapsed": false,
          "metadata": {},
          "cell_type": "code",
          "outputs": [],
          "input": [
            "graph = {}"
          ],
          "language": "python"
        },
        {
          "cell_type": "markdown",
          "source": [
            "3. We define a function that returns the list of dependencies of a package."
          ],
          "metadata": {}
        },
        {
          "collapsed": false,
          "metadata": {},
          "cell_type": "code",
          "outputs": [],
          "input": [
            "def get_dependencies(package):\n",
            "    if package not in cache:\n",
            "        return []\n",
            "    pack = cache[package]\n",
            "    ver = pack.candidate or pack.versions[0]\n",
            "    # We flatten the list of dependencies,\n",
            "    # and we remove the duplicates.\n",
            "    return sorted(set([item.name \n",
            "            for sublist in ver.dependencies \n",
            "            for item in sublist]))"
          ],
          "language": "python"
        },
        {
          "cell_type": "markdown",
          "source": [
            "4. We now define a *recursive* function that builds the dependency graph for a particular package. This function updates the `graph` variable."
          ],
          "metadata": {}
        },
        {
          "collapsed": false,
          "metadata": {},
          "cell_type": "code",
          "outputs": [],
          "input": [
            "def get_dep_recursive(package):\n",
            "    if package not in cache:\n",
            "        return []\n",
            "    if package not in graph:\n",
            "        dep = get_dependencies(package)\n",
            "        graph[package] = dep\n",
            "    for dep in graph[package]:\n",
            "        if dep not in graph:\n",
            "            graph[dep] = get_dep_recursive(dep)\n",
            "    return graph[package]"
          ],
          "language": "python"
        },
        {
          "cell_type": "markdown",
          "source": [
            "5. Let's build the dependency graph for IPython."
          ],
          "metadata": {}
        },
        {
          "collapsed": false,
          "metadata": {},
          "cell_type": "code",
          "outputs": [],
          "input": [
            "get_dep_recursive('ipython');"
          ],
          "language": "python"
        },
        {
          "cell_type": "markdown",
          "source": [
            "6. Finally, let's save the adjacency list in JSON."
          ],
          "metadata": {}
        },
        {
          "collapsed": false,
          "metadata": {},
          "cell_type": "code",
          "outputs": [],
          "input": [
            "with open('data/apt.json', 'w') as f:\n",
            "    json.dump(graph, f, indent=1)"
          ],
          "language": "python"
        },
        {
          "cell_type": "markdown",
          "source": [
            "7. We import a few packages."
          ],
          "metadata": {}
        },
        {
          "collapsed": false,
          "metadata": {},
          "cell_type": "code",
          "outputs": [],
          "input": [
            "import json\n",
            "import numpy as np\n",
            "import networkx as nx\n",
            "import matplotlib.pyplot as plt\n",
            "%matplotlib inline\n"
          ],
          "language": "python"
        },
        {
          "cell_type": "markdown",
          "source": [
            "8. Let's load the adjacency list from the JSON file."
          ],
          "metadata": {}
        },
        {
          "collapsed": false,
          "metadata": {},
          "cell_type": "code",
          "outputs": [],
          "input": [
            "with open('data/apt.json', 'r') as f:\n",
            "    graph = json.load(f)"
          ],
          "language": "python"
        },
        {
          "cell_type": "markdown",
          "source": [
            "9. Now, we create a directed graph (`DiGraph` in NetworkX) from our adjacency list. We reverse the graph to get a more natural ordering."
          ],
          "metadata": {}
        },
        {
          "collapsed": false,
          "metadata": {},
          "cell_type": "code",
          "outputs": [],
          "input": [
            "g = nx.DiGraph(graph).reverse()"
          ],
          "language": "python"
        },
        {
          "cell_type": "markdown",
          "source": [
            "10. A topological sort only exists when the graph is a **directed acyclic graph** (DAG). This means that there is no cycle in the graph, i.e. no circular dependency here. Is our graph a DAG?"
          ],
          "metadata": {}
        },
        {
          "collapsed": false,
          "metadata": {},
          "cell_type": "code",
          "outputs": [],
          "input": [
            "nx.is_directed_acyclic_graph(g)"
          ],
          "language": "python"
        },
        {
          "cell_type": "markdown",
          "source": [
            "11. What are the packages responsible for the cycles? We can find it out with the `simple_cycles` function."
          ],
          "metadata": {}
        },
        {
          "collapsed": false,
          "metadata": {},
          "cell_type": "code",
          "outputs": [],
          "input": [
            "set([cycle[0] for cycle in nx.simple_cycles(g)])"
          ],
          "language": "python"
        },
        {
          "cell_type": "markdown",
          "source": [
            "12. Here, we can try to remove these packages. In an actual package manager, these cycles need to be carefully taken into account."
          ],
          "metadata": {}
        },
        {
          "collapsed": false,
          "metadata": {},
          "cell_type": "code",
          "outputs": [],
          "input": [
            "g.remove_nodes_from(_)"
          ],
          "language": "python"
        },
        {
          "collapsed": false,
          "metadata": {},
          "cell_type": "code",
          "outputs": [],
          "input": [
            "nx.is_directed_acyclic_graph(g)"
          ],
          "language": "python"
        },
        {
          "cell_type": "markdown",
          "source": [
            "13. The graph is now a DAG. Let's display it first."
          ],
          "metadata": {}
        },
        {
          "collapsed": false,
          "metadata": {},
          "cell_type": "code",
          "outputs": [],
          "input": [
            "ug = g.to_undirected()\n",
            "deg = ug.degree()"
          ],
          "language": "python"
        },
        {
          "collapsed": false,
          "metadata": {},
          "cell_type": "code",
          "outputs": [],
          "input": [
            "plt.figure(figsize=(4,4));\n",
            "# The size of the nodes depends on the number of dependencies.\n",
            "nx.draw(ug, font_size=6, \n",
            "        node_size=[20*deg[k] for k in ug.nodes()]);"
          ],
          "language": "python"
        },
        {
          "cell_type": "markdown",
          "source": [
            "14. Finally, we can perform the topological sort, thereby obtaining a linear installation order satisfying all dependencies."
          ],
          "metadata": {}
        },
        {
          "collapsed": false,
          "metadata": {
            "strip_output": [
              3,
              3
            ]
          },
          "cell_type": "code",
          "outputs": [],
          "input": [
            "nx.topological_sort(g)"
          ],
          "language": "python"
        },
        {
          "cell_type": "markdown",
          "source": [
            "> You'll find all the explanations, figures, references, and much more in the book (to be released later this summer).\n",
            "\n",
            "> [IPython Cookbook](http://ipython-books.github.io/), by [Cyrille Rossant](http://cyrille.rossant.net), Packt Publishing, 2014 (500 pages)."
          ],
          "metadata": {}
        }
      ]
    }
  ]
}